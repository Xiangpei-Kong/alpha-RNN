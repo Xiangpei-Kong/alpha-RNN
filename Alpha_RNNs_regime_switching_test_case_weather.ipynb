{
  "nbformat": 4,
  "nbformat_minor": 0,
  "metadata": {
    "colab": {
      "name": "Alpha_RNNs_regime_switching_test_case_weather.ipynb",
      "provenance": [],
      "collapsed_sections": [],
      "include_colab_link": true
    },
    "kernelspec": {
      "display_name": "Python 3",
      "language": "python",
      "name": "python3"
    },
    "language_info": {
      "codemirror_mode": {
        "name": "ipython",
        "version": 3
      },
      "file_extension": ".py",
      "mimetype": "text/x-python",
      "name": "python",
      "nbconvert_exporter": "python",
      "pygments_lexer": "ipython3",
      "version": "3.7.3"
    }
  },
  "cells": [
    {
      "cell_type": "markdown",
      "metadata": {
        "id": "view-in-github",
        "colab_type": "text"
      },
      "source": [
        "<a href=\"https://colab.research.google.com/github/mfrdixon/alpha-RNN/blob/master/Alpha_RNNs_regime_switching_test_case_weather.ipynb\" target=\"_parent\"><img src=\"https://colab.research.google.com/assets/colab-badge.svg\" alt=\"Open In Colab\"/></a>"
      ]
    },
    {
      "cell_type": "markdown",
      "metadata": {
        "colab_type": "text",
        "id": "N4SeIvekWO0r"
      },
      "source": [
        "## Setup"
      ]
    },
    {
      "cell_type": "code",
      "metadata": {
        "id": "wChotYUUVojr",
        "colab_type": "code",
        "colab": {}
      },
      "source": [
        ""
      ],
      "execution_count": 0,
      "outputs": []
    },
    {
      "cell_type": "code",
      "metadata": {
        "colab_type": "code",
        "id": "P9BywHfc63kb",
        "colab": {}
      },
      "source": [
        "# To support both python 2 and python 3\n",
        "from __future__ import division, print_function, unicode_literals\n",
        "\n",
        "# Common imports\n",
        "import numpy as np\n",
        "import pandas as pd\n",
        "from numpy import random\n",
        "import os# Generate switching data set\n",
        "import random\n",
        "\n",
        "\n",
        "# Imports for alpha_rnns \n",
        "from IPython import display\n",
        "import tensorflow.compat.v1 as tf\n",
        "tf.disable_v2_behavior()\n",
        "# Imports for stats\n",
        "import statsmodels.api as sm\n",
        "from sklearn.metrics import mean_squared_error\n",
        "from sklearn.model_selection import KFold\n",
        "from sklearn.model_selection import TimeSeriesSplit\n",
        "from keras import optimizers\n",
        "from keras.callbacks import EarlyStopping\n",
        "from keras.models import Sequential\n",
        "from keras.layers import Dense\n",
        "from keras.layers import LSTM, GRU, SimpleRNN\n",
        "from keras import optimizers\n",
        "from keras.callbacks import EarlyStopping\n",
        "from keras.regularizers import l1,l2\n",
        "from keras import regularizers\n",
        "from sklearn.model_selection import train_test_split\n",
        "from sklearn.model_selection import KFold\n",
        "from keras.wrappers.scikit_learn import KerasClassifier, KerasRegressor\n",
        "from sklearn.model_selection import cross_val_score\n",
        "from sklearn.model_selection import train_test_split\n",
        "from sklearn.model_selection import GridSearchCV\n",
        "from sklearn.model_selection import TimeSeriesSplit\n",
        "\n",
        "\n",
        "# To make this notebook's output stable across runs\n",
        "def reset_graph(seed=42):\n",
        "    tf.reset_default_graph()\n",
        "    tf.set_random_seed(seed)\n",
        "    np.random.seed(seed)\n",
        "\n",
        "# To plot figures\n",
        "%matplotlib inline\n",
        "import matplotlib\n",
        "import matplotlib.pyplot as plt\n",
        "\n",
        "plt.rcParams['axes.labelsize'] = 14\n",
        "plt.rcParams['xtick.labelsize'] = 12\n",
        "plt.rcParams['ytick.labelsize'] = 12\n",
        "\n",
        "# Where to save the figures\n",
        "PROJECT_ROOT_DIR = \".\"\n",
        "\n",
        "def save_fig(fig_id, tight_layout=True):\n",
        "    path = os.path.join(PROJECT_ROOT_DIR, \"images\", fig_id + \".png\")\n",
        "    print(\"Saving figure\", fig_id)\n",
        "    if tight_layout:\n",
        "        plt.tight_layout()\n",
        "    plt.savefig(path, format='png', dpi=300)"
      ],
      "execution_count": 0,
      "outputs": []
    },
    {
      "cell_type": "markdown",
      "metadata": {
        "colab_type": "text",
        "id": "zxbrR0RO63ks"
      },
      "source": [
        "# Please see MFD: comments and \"to do\" comments"
      ]
    },
    {
      "cell_type": "markdown",
      "metadata": {
        "colab_type": "text",
        "id": "TktVZa5N63kv"
      },
      "source": [
        "# Generate switching data set"
      ]
    },
    {
      "cell_type": "code",
      "metadata": {
        "colab_type": "code",
        "id": "xJaRcRSd63lJ",
        "outputId": "93b430a7-0f1f-4764-b8db-11d22a66c51c",
        "colab": {
          "base_uri": "https://localhost:8080/",
          "height": 206
        }
      },
      "source": [
        "p = 30 # the number of lags (in both the data and the models)\n",
        "#vols=generate_vol_sample(1000, 0.25, 15, 0.1, p, 1e-4, 0.13)[p:]\n",
        "zip_path = tf.keras.utils.get_file(\n",
        "    origin='https://storage.googleapis.com/tensorflow/tf-keras-datasets/jena_climate_2009_2016.csv.zip',\n",
        "    fname='jena_climate_2009_2016.csv.zip',\n",
        "    extract=True)\n",
        "csv_path, _ = os.path.splitext(zip_path)\n",
        "df = pd.read_csv(csv_path)\n",
        "df.head()\n",
        "\n",
        "#vols=generate_vol_sample(2000, 0.25, 15, 0.1, p, 1e-4, 0.13)[p:]"
      ],
      "execution_count": 3,
      "outputs": [
        {
          "output_type": "execute_result",
          "data": {
            "text/html": [
              "<div>\n",
              "<style scoped>\n",
              "    .dataframe tbody tr th:only-of-type {\n",
              "        vertical-align: middle;\n",
              "    }\n",
              "\n",
              "    .dataframe tbody tr th {\n",
              "        vertical-align: top;\n",
              "    }\n",
              "\n",
              "    .dataframe thead th {\n",
              "        text-align: right;\n",
              "    }\n",
              "</style>\n",
              "<table border=\"1\" class=\"dataframe\">\n",
              "  <thead>\n",
              "    <tr style=\"text-align: right;\">\n",
              "      <th></th>\n",
              "      <th>Date Time</th>\n",
              "      <th>p (mbar)</th>\n",
              "      <th>T (degC)</th>\n",
              "      <th>Tpot (K)</th>\n",
              "      <th>Tdew (degC)</th>\n",
              "      <th>rh (%)</th>\n",
              "      <th>VPmax (mbar)</th>\n",
              "      <th>VPact (mbar)</th>\n",
              "      <th>VPdef (mbar)</th>\n",
              "      <th>sh (g/kg)</th>\n",
              "      <th>H2OC (mmol/mol)</th>\n",
              "      <th>rho (g/m**3)</th>\n",
              "      <th>wv (m/s)</th>\n",
              "      <th>max. wv (m/s)</th>\n",
              "      <th>wd (deg)</th>\n",
              "    </tr>\n",
              "  </thead>\n",
              "  <tbody>\n",
              "    <tr>\n",
              "      <th>0</th>\n",
              "      <td>01.01.2009 00:10:00</td>\n",
              "      <td>996.52</td>\n",
              "      <td>-8.02</td>\n",
              "      <td>265.40</td>\n",
              "      <td>-8.90</td>\n",
              "      <td>93.3</td>\n",
              "      <td>3.33</td>\n",
              "      <td>3.11</td>\n",
              "      <td>0.22</td>\n",
              "      <td>1.94</td>\n",
              "      <td>3.12</td>\n",
              "      <td>1307.75</td>\n",
              "      <td>1.03</td>\n",
              "      <td>1.75</td>\n",
              "      <td>152.3</td>\n",
              "    </tr>\n",
              "    <tr>\n",
              "      <th>1</th>\n",
              "      <td>01.01.2009 00:20:00</td>\n",
              "      <td>996.57</td>\n",
              "      <td>-8.41</td>\n",
              "      <td>265.01</td>\n",
              "      <td>-9.28</td>\n",
              "      <td>93.4</td>\n",
              "      <td>3.23</td>\n",
              "      <td>3.02</td>\n",
              "      <td>0.21</td>\n",
              "      <td>1.89</td>\n",
              "      <td>3.03</td>\n",
              "      <td>1309.80</td>\n",
              "      <td>0.72</td>\n",
              "      <td>1.50</td>\n",
              "      <td>136.1</td>\n",
              "    </tr>\n",
              "    <tr>\n",
              "      <th>2</th>\n",
              "      <td>01.01.2009 00:30:00</td>\n",
              "      <td>996.53</td>\n",
              "      <td>-8.51</td>\n",
              "      <td>264.91</td>\n",
              "      <td>-9.31</td>\n",
              "      <td>93.9</td>\n",
              "      <td>3.21</td>\n",
              "      <td>3.01</td>\n",
              "      <td>0.20</td>\n",
              "      <td>1.88</td>\n",
              "      <td>3.02</td>\n",
              "      <td>1310.24</td>\n",
              "      <td>0.19</td>\n",
              "      <td>0.63</td>\n",
              "      <td>171.6</td>\n",
              "    </tr>\n",
              "    <tr>\n",
              "      <th>3</th>\n",
              "      <td>01.01.2009 00:40:00</td>\n",
              "      <td>996.51</td>\n",
              "      <td>-8.31</td>\n",
              "      <td>265.12</td>\n",
              "      <td>-9.07</td>\n",
              "      <td>94.2</td>\n",
              "      <td>3.26</td>\n",
              "      <td>3.07</td>\n",
              "      <td>0.19</td>\n",
              "      <td>1.92</td>\n",
              "      <td>3.08</td>\n",
              "      <td>1309.19</td>\n",
              "      <td>0.34</td>\n",
              "      <td>0.50</td>\n",
              "      <td>198.0</td>\n",
              "    </tr>\n",
              "    <tr>\n",
              "      <th>4</th>\n",
              "      <td>01.01.2009 00:50:00</td>\n",
              "      <td>996.51</td>\n",
              "      <td>-8.27</td>\n",
              "      <td>265.15</td>\n",
              "      <td>-9.04</td>\n",
              "      <td>94.1</td>\n",
              "      <td>3.27</td>\n",
              "      <td>3.08</td>\n",
              "      <td>0.19</td>\n",
              "      <td>1.92</td>\n",
              "      <td>3.09</td>\n",
              "      <td>1309.00</td>\n",
              "      <td>0.32</td>\n",
              "      <td>0.63</td>\n",
              "      <td>214.3</td>\n",
              "    </tr>\n",
              "  </tbody>\n",
              "</table>\n",
              "</div>"
            ],
            "text/plain": [
              "             Date Time  p (mbar)  T (degC)  ...  wv (m/s)  max. wv (m/s)  wd (deg)\n",
              "0  01.01.2009 00:10:00    996.52     -8.02  ...      1.03           1.75     152.3\n",
              "1  01.01.2009 00:20:00    996.57     -8.41  ...      0.72           1.50     136.1\n",
              "2  01.01.2009 00:30:00    996.53     -8.51  ...      0.19           0.63     171.6\n",
              "3  01.01.2009 00:40:00    996.51     -8.31  ...      0.34           0.50     198.0\n",
              "4  01.01.2009 00:50:00    996.51     -8.27  ...      0.32           0.63     214.3\n",
              "\n",
              "[5 rows x 15 columns]"
            ]
          },
          "metadata": {
            "tags": []
          },
          "execution_count": 3
        }
      ]
    },
    {
      "cell_type": "code",
      "metadata": {
        "colab_type": "code",
        "id": "QrD8LmUxr-S9",
        "colab": {}
      },
      "source": [
        "\n"
      ],
      "execution_count": 0,
      "outputs": []
    },
    {
      "cell_type": "code",
      "metadata": {
        "colab_type": "code",
        "id": "0SExtqbO63lP",
        "outputId": "ac4a7740-146b-4a1f-cab0-bcaa84963eab",
        "colab": {
          "base_uri": "https://localhost:8080/",
          "height": 143
        }
      },
      "source": [
        "\n",
        "uni_data = df['T (degC)']\n",
        "uni_date = df['Date Time']\n",
        "uni_data.index = uni_date\n",
        "uni_data.head()\n",
        "#uni_data = uni_data.values\n",
        "#uni_train_mean = uni_data[:split].mean()\n",
        "#uni_train_std = uni_data[:split].std()\n",
        "#uni_data = (uni_data - uni_data_mean)/uni_train_std\n",
        "#print(uni_data)\n",
        "#df = pd.DataFrame(vols, columns=['vol'])\n",
        "\n",
        "#plt.plot(uni_date,uni_data)\n",
        "\n",
        "\n",
        "\n",
        "\n"
      ],
      "execution_count": 4,
      "outputs": [
        {
          "output_type": "execute_result",
          "data": {
            "text/plain": [
              "Date Time\n",
              "01.01.2009 00:10:00   -8.02\n",
              "01.01.2009 00:20:00   -8.41\n",
              "01.01.2009 00:30:00   -8.51\n",
              "01.01.2009 00:40:00   -8.31\n",
              "01.01.2009 00:50:00   -8.27\n",
              "Name: T (degC), dtype: float64"
            ]
          },
          "metadata": {
            "tags": []
          },
          "execution_count": 4
        }
      ]
    },
    {
      "cell_type": "code",
      "metadata": {
        "colab_type": "code",
        "id": "esNitwvm63lU",
        "colab": {}
      },
      "source": [
        "#df = pd.DataFrame(vols, columns=['vol'])"
      ],
      "execution_count": 0,
      "outputs": []
    },
    {
      "cell_type": "markdown",
      "metadata": {
        "colab_type": "text",
        "id": "DgEov0A_63la"
      },
      "source": [
        "# prepare data for RNNs"
      ]
    },
    {
      "cell_type": "code",
      "metadata": {
        "colab_type": "code",
        "id": "HV0g2gHL63lc",
        "outputId": "1e2cfe5f-5951-4c90-c4e0-6fe8d8099d4c",
        "colab": {
          "base_uri": "https://localhost:8080/",
          "height": 501
        }
      },
      "source": [
        "use_features = ['T (degC)'] \n",
        "target = 'T (degC)'\n",
        "n_steps = 10 # number of lags to include in the model\n",
        "\n",
        "train_weight = 0.8\n",
        "split = int(len(df)*train_weight)\n",
        "\n",
        "uni_train_mean = uni_data[:split].mean()\n",
        "uni_train_std = uni_data[:split].std()\n",
        "uni_data = (uni_data - uni_train_mean)/uni_train_std\n",
        "print(uni_data)\n",
        "\n",
        "df_train = df[use_features].iloc[:split]\n",
        "print(df_train)\n",
        "df_test = df[use_features].iloc[split:]"
      ],
      "execution_count": 5,
      "outputs": [
        {
          "output_type": "stream",
          "text": [
            "Date Time\n",
            "01.01.2009 00:10:00   -2.014957\n",
            "01.01.2009 00:20:00   -2.061161\n",
            "01.01.2009 00:30:00   -2.073009\n",
            "01.01.2009 00:40:00   -2.049314\n",
            "01.01.2009 00:50:00   -2.044575\n",
            "                         ...   \n",
            "31.12.2016 23:20:00   -1.544616\n",
            "31.12.2016 23:30:00   -1.461684\n",
            "31.12.2016 23:40:00   -1.439174\n",
            "31.12.2016 23:50:00   -1.565941\n",
            "01.01.2017 00:00:00   -1.635840\n",
            "Name: T (degC), Length: 420551, dtype: float64\n",
            "        T (degC)\n",
            "0          -8.02\n",
            "1          -8.41\n",
            "2          -8.51\n",
            "3          -8.31\n",
            "4          -8.27\n",
            "...          ...\n",
            "336435     18.15\n",
            "336436     18.05\n",
            "336437     17.93\n",
            "336438     17.73\n",
            "336439     17.57\n",
            "\n",
            "[336440 rows x 1 columns]\n"
          ],
          "name": "stdout"
        }
      ]
    },
    {
      "cell_type": "code",
      "metadata": {
        "colab_type": "code",
        "id": "WdxITvn863lg",
        "colab": {}
      },
      "source": [
        "def get_lagged_features(value, n_steps):\n",
        "    lag_list = []\n",
        "    for lag in range(n_steps, 0, -1):\n",
        "        lag_list.append(value.shift(lag))\n",
        "    return pd.concat(lag_list, axis=1)"
      ],
      "execution_count": 0,
      "outputs": []
    },
    {
      "cell_type": "code",
      "metadata": {
        "colab_type": "code",
        "id": "pNKhbBJk63lj",
        "colab": {}
      },
      "source": [
        "x_train_list = []\n",
        "for use_feature in use_features:\n",
        "    x_train_reg = get_lagged_features(df_train, n_steps).dropna()\n",
        "    x_train_list.append(x_train_reg)\n",
        "x_train_reg = pd.concat(x_train_list, axis=1)\n",
        "\n",
        "col_ords = []\n",
        "for i in range(n_steps):\n",
        "    for j in range(len(use_features)):\n",
        "        col_ords.append(i + j * n_steps)\n",
        "\n",
        "x_train_reg = x_train_reg.iloc[:, col_ords]\n",
        "y_train_reg = df_train.loc[x_train_reg.index, [target]].values\n",
        "x_train_reg = np.reshape(x_train_reg.values, (x_train_reg.shape[0], np.int(x_train_reg.shape[1] / len(use_features)), len(use_features)))\n",
        "y_train_reg = np.reshape(y_train_reg, (y_train_reg.shape[0], 1, 1))\n",
        "\n",
        "x_test_list = []\n",
        "for use_feature in use_features:\n",
        "    x_test_reg = get_lagged_features(df_test, n_steps).dropna()\n",
        "    x_test_list.append(x_test_reg)\n",
        "x_test_reg = pd.concat(x_test_list, axis=1)\n",
        "\n",
        "x_test_reg = x_test_reg.iloc[:, col_ords]\n",
        "y_test_reg = df_test.loc[x_test_reg.index, [target]].values\n",
        "x_test_reg = np.reshape(x_test_reg.values, (x_test_reg.shape[0], np.int(x_test_reg.shape[1]/len(use_features)), len(use_features)))\n",
        "\n",
        "y_test_reg = np.reshape(y_test_reg, (y_test_reg.shape[0], 1, 1))"
      ],
      "execution_count": 0,
      "outputs": []
    },
    {
      "cell_type": "code",
      "metadata": {
        "colab_type": "code",
        "id": "Y-fJgvet63lm",
        "outputId": "0b14434e-2c77-4bc7-97aa-dca9421994a2",
        "colab": {
          "base_uri": "https://localhost:8080/",
          "height": 35
        }
      },
      "source": [
        "print(x_train_reg.shape,y_train_reg.shape,x_test_reg.shape,y_test_reg.shape)"
      ],
      "execution_count": 8,
      "outputs": [
        {
          "output_type": "stream",
          "text": [
            "(336430, 10, 1) (336430, 1, 1) (84101, 10, 1) (84101, 1, 1)\n"
          ],
          "name": "stdout"
        }
      ]
    },
    {
      "cell_type": "code",
      "metadata": {
        "colab_type": "code",
        "id": "zg1cfHxv63lr",
        "colab": {}
      },
      "source": [
        "train_batch_size = y_train_reg.shape[0]\n",
        "test_batch_size = y_test_reg.shape[0]\n",
        "\n",
        "time_size = y_train_reg.shape[1]\n"
      ],
      "execution_count": 0,
      "outputs": []
    },
    {
      "cell_type": "code",
      "metadata": {
        "colab_type": "code",
        "id": "HkEY52YEKAcm",
        "outputId": "6890d469-ae06-4459-a317-d0072c34bb4f",
        "colab": {
          "base_uri": "https://localhost:8080/",
          "height": 35
        }
      },
      "source": [
        "print(train_batch_size)"
      ],
      "execution_count": 10,
      "outputs": [
        {
          "output_type": "stream",
          "text": [
            "336430\n"
          ],
          "name": "stdout"
        }
      ]
    },
    {
      "cell_type": "markdown",
      "metadata": {
        "colab_type": "text",
        "id": "PnLm9vjQ63lu"
      },
      "source": [
        "# Define Alpha RNN models"
      ]
    },
    {
      "cell_type": "code",
      "metadata": {
        "colab_type": "code",
        "id": "ji_BnEHr63l0",
        "outputId": "81e64b77-a570-4a62-cd0b-2b46c8c2c6c5",
        "colab": {
          "base_uri": "https://localhost:8080/",
          "height": 35
        }
      },
      "source": [
        "tf.get_collection('alpha_t')"
      ],
      "execution_count": 11,
      "outputs": [
        {
          "output_type": "execute_result",
          "data": {
            "text/plain": [
              "[]"
            ]
          },
          "metadata": {
            "tags": []
          },
          "execution_count": 11
        }
      ]
    },
    {
      "cell_type": "code",
      "metadata": {
        "id": "F18kqP8ieBMU",
        "colab_type": "code",
        "colab": {}
      },
      "source": [
        "class alphaRNN:\n",
        "    \"\"\"Adapted from the Implementation of a Gated Recurrent Unit (GRU) as described in [1]. This is a GRU without a reset gate. It uses a hidden layer for smoothing\n",
        "    \n",
        "    [1] Chung, J., Gulcehre, C., Cho, K., & Bengio, Y. (2014). Empirical evaluation of gated recurrent neural networks on sequence modeling. arXiv preprint arXiv:1412.3555.\n",
        "    \n",
        "    Arguments\n",
        "    ---------\n",
        "    input_dimensions: int\n",
        "        The size of the input vectors (x_t).\n",
        "    hidden_size: int\n",
        "        The size of the hidden layer vectors (h_t).\n",
        "    dtype: obj\n",
        "        The datatype used for the variables and constants (optional).\n",
        "    \"\"\"\n",
        "    \n",
        "    def __init__(self, input_dimensions, hidden_size, dtype=tf.float64):\n",
        "        self.input_dimensions = input_dimensions\n",
        "        self.hidden_size = hidden_size\n",
        "        \n",
        "        # Weights for input vectors of shape (input_dimensions, hidden_size)\n",
        "        self.Walpha = tf.Variable(tf.truncated_normal(dtype=dtype, shape=(self.input_dimensions, self.hidden_size), mean=0, stddev=0.01), name='Walpha')\n",
        "        self.Wh = tf.Variable(tf.truncated_normal(dtype=dtype, shape=(self.input_dimensions, self.hidden_size), mean=0, stddev=0.01), name='Wh')\n",
        "        \n",
        "        # Weights for hidden vectors of shape (hidden_size, hidden_size)\n",
        "        self.Ualpha = tf.Variable(tf.truncated_normal(dtype=dtype, shape=(self.hidden_size, self.hidden_size), mean=0, stddev=0.01), name='Ualpha')\n",
        "        self.Uh = tf.Variable(tf.truncated_normal(dtype=dtype, shape=(self.hidden_size, self.hidden_size), mean=0, stddev=0.01), name='Uh')\n",
        "        \n",
        "        # Biases for hidden vectors of shape (hidden_size,)\n",
        "        self.balpha = tf.Variable(tf.truncated_normal(dtype=dtype, shape=(self.hidden_size,), mean=0, stddev=0.01), name='balpha')\n",
        "        self.bh = tf.Variable(tf.truncated_normal(dtype=dtype, shape=(self.hidden_size,), mean=0, stddev=0.01), name='bh')\n",
        "        \n",
        "        # Define the input layer placeholder\n",
        "        self.input_layer = tf.placeholder(dtype=tf.float64, shape=(None, None, input_dimensions), name='input')\n",
        "        self.alpha_t = tf.placeholder(dtype=tf.float64, shape=(None, None, input_dimensions), name='alpha_t')\n",
        "        # Put the time-dimension upfront for the scan operator\n",
        "        self.x_t = tf.transpose(self.input_layer, [1, 0, 2], name='x_t')\n",
        "        \n",
        "        # A little hack (to obtain the same shape as the input matrix) to define the initial hidden state h_0\n",
        "        self.h_0 = tf.matmul(self.x_t[0, :, :], tf.zeros(dtype=tf.float64, shape=(input_dimensions, hidden_size)), name='h_0')\n",
        "        \n",
        "        # Perform the scan operator\n",
        "        self.h_t_transposed = tf.scan(self.forward_pass, self.x_t, initializer=self.h_0, name='h_t_transposed')\n",
        "        \n",
        "        # Transpose the result back\n",
        "        self.h_t = tf.transpose(self.h_t_transposed, [1, 0, 2], name='h_t')\n",
        "        self.W_output = tf.Variable(tf.truncated_normal(dtype=tf.float64, shape=(hidden_size, 1), mean=0, stddev=0.01))\n",
        "        self.b_output = tf.Variable(tf.truncated_normal(dtype=tf.float64, shape=(1,), mean=0, stddev=0.01))\n",
        "        self.output = tf.matmul(self.h_t, self.W_output) + self.b_output \n",
        "\n",
        "    def forward_pass(self, h_tm1, x_t):\n",
        "        \"\"\"Perform a forward pass.\n",
        "        \n",
        "        Arguments\n",
        "        ---------\n",
        "        h_tm1: np.matrix\n",
        "            The hidden state at the previous timestep (h_{t-1}).\n",
        "        x_t: np.matrix\n",
        "            The input vector.\n",
        "        \"\"\"\n",
        "        # Update alpha_t\n",
        "        self.alpha_t = tf.sigmoid(tf.matmul(x_t, self.Walpha) + tf.matmul(h_tm1, self.Ualpha) + self.balpha)\n",
        "        tf.add_to_collection('alpha_t', self.alpha_t)\n",
        "        # Update hidden state h_t\n",
        "        h_proposal = tf.tanh(tf.matmul(x_t, self.Wh) + tf.matmul(h_tm1, self.Uh) + self.bh)\n",
        "        \n",
        "        \n",
        "        # Update the (smoothed) hidden state with exponential smoothing\n",
        "        h_t = tf.multiply(1 - self.alpha_t, h_tm1) + tf.multiply(self.alpha_t, h_proposal)\n",
        "        return h_t"
      ],
      "execution_count": 0,
      "outputs": []
    },
    {
      "cell_type": "code",
      "metadata": {
        "id": "NPfJJuupeHPY",
        "colab_type": "code",
        "colab": {}
      },
      "source": [
        "class simpleAlphaRNN:\n",
        "    \"\"\"Adapted from the Implementation of a Gated Recurrent Unit (GRU) as described in [1]. This is a GRU without a reset gate. \n",
        "       It uses a scalar smoothing\n",
        "    \n",
        "    \n",
        "    Arguments\n",
        "    ---------\n",
        "    \n",
        "    input_dimensions: int\n",
        "        The size of the input vectors (x_t).\n",
        "    hidden_size: int\n",
        "        The size of the hidden layer vectors (h_t).\n",
        "    dtype: obj\n",
        "        The datatype used for the variables and constants (optional).\n",
        "        \n",
        "    Todo\n",
        "    --------\n",
        "    1) how to constrain alpha to be in [0,1]?\n",
        "    2) when hidden size >1, how to couple with scalar alpha?\n",
        "    3) Should alpha be a vector of size hidden_size (is this better)?\n",
        "    4) Get value of fitted alpha (see Diagnostics (visualize fitted values)) below\n",
        "    4) Adapt the training to use early stopping (instead of fixed number of epoches)\n",
        "    5) Compare with GRU, LSTM, simpleRNN\n",
        "        \n",
        "    \"\"\"\n",
        "    \n",
        "    def __init__(self, input_dimensions, hidden_size, dtype=tf.float64):\n",
        "        self.input_dimensions = input_dimensions\n",
        "        self.hidden_size = hidden_size\n",
        "        \n",
        "        self.Wh = tf.Variable(tf.truncated_normal(dtype=dtype, shape=(self.input_dimensions, self.hidden_size), mean=0, stddev=0.01), name='Wh')\n",
        "        \n",
        "        # Weights for hidden vectors of shape (hidden_size, hidden_size)\n",
        "        self.Uh = tf.Variable(tf.truncated_normal(dtype=dtype, shape=(self.hidden_size, self.hidden_size), mean=0, stddev=0.01), name='Uh')\n",
        "        \n",
        "        # Biases for hidden vectors of shape (hidden_size,)\n",
        "        self.bh = tf.Variable(tf.truncated_normal(dtype=dtype, shape=(self.hidden_size,), mean=0, stddev=0.01), name='bh')\n",
        "        \n",
        "        # Define the input layer placeholder\n",
        "        self.input_layer = tf.placeholder(dtype=tf.float64, shape=(None, None, input_dimensions), name='input')\n",
        "        self.alpha = tf.Variable(tf.truncated_normal(dtype=dtype, shape=(self.hidden_size,), mean=0, stddev=0.01), name='alpha')\n",
        "        \n",
        "        #tf.placeholder(dtype=tf.float64, shape=(None, 1), name='alpha')\n",
        "        # Put the time-dimension upfront for the scan operator\n",
        "        self.x_t = tf.transpose(self.input_layer, [1, 0, 2], name='x_t')\n",
        "        \n",
        "        # A little hack (to obtain the same shape as the input matrix) to define the initial hidden state h_0\n",
        "        self.h_0 = tf.matmul(self.x_t[0, :, :], tf.zeros(dtype=tf.float64, shape=(input_dimensions, hidden_size)), name='h_0')\n",
        "        \n",
        "        # Perform the scan operator\n",
        "        self.h_t_transposed = tf.scan(self.forward_pass, self.x_t, initializer=self.h_0, name='h_t_transposed')\n",
        "        \n",
        "        # Transpose the result back\n",
        "        self.h_t = tf.transpose(self.h_t_transposed, [1, 0, 2], name='h_t')\n",
        "\n",
        "        self.W_output = tf.Variable(tf.truncated_normal(dtype=tf.float64, shape=(hidden_size, 1), mean=0, stddev=0.01))\n",
        "        self.b_output = tf.Variable(tf.truncated_normal(dtype=tf.float64, shape=(1,), mean=0, stddev=0.01))\n",
        "        self.output = tf.matmul(self.h_t, self.W_output) + self.b_output \n",
        "\n",
        "    def forward_pass(self, h_tm1, x_t):\n",
        "        \"\"\"Perform a forward pass.\n",
        "        \n",
        "        Arguments\n",
        "        ---------\n",
        "        h_tm1: np.matrix\n",
        "            The hidden state at the previous timestep (h_{t-1}).\n",
        "        x_t: np.matrix\n",
        "            The input vector.\n",
        "        \"\"\"\n",
        "        \n",
        "        # Update hidden state h_t\n",
        "        h_proposal = tf.tanh(tf.matmul(x_t, self.Wh) + tf.matmul(h_tm1, self.Uh) + self.bh)\n",
        "        \n",
        "        # Update the (smoothed) hidden state with exponential smoothing\n",
        "        h_t = tf.multiply(1 - tf.tanh(self.alpha), h_tm1) + tf.multiply(tf.tanh(self.alpha), h_proposal)\n",
        "        \n",
        "        return h_t \n"
      ],
      "execution_count": 0,
      "outputs": []
    },
    {
      "cell_type": "code",
      "metadata": {
        "id": "OiUq2y-peK8L",
        "colab_type": "code",
        "colab": {}
      },
      "source": [
        "def train(session, alpharnn, train_x, val_x, train_y, val_y, max_epochs=2000, batch_size=100):\n",
        "    \n",
        "  # Create a placeholder for the expected output\n",
        "\n",
        "  expected_output_batch_train = tf.placeholder(dtype=tf.float64, shape=(batch_size, train_y.shape[1],1), name='expected_output_batch_train')\n",
        "  expected_output_train = tf.placeholder(dtype=tf.float64, shape=(train_x.shape[0], train_y.shape[1],1), name='expected_output_train')\n",
        "  #expected_output_test = tf.placeholder(dtype=tf.float64, shape(test_x.shape[0], time_size,1), name='expected_output_test')\n",
        "  expected_output_val = tf.placeholder(dtype=tf.float64, shape=(val_x.shape[0], train_y.shape[1],1), name='expected_output_val')\n",
        "\n",
        "  #expected_output = tf.placeholder(dtype=tf.float64, shape=(batch_size, time_size), name='expected_output')\n",
        "\n",
        "  # Just use quadratic loss\n",
        "  train_batch_loss = tf.reduce_sum(0.5 * tf.pow(alpharnn.output - expected_output_batch_train, 2)) / float(batch_size)\n",
        "  train_loss = tf.reduce_sum(0.5 * tf.pow(alpharnn.output - expected_output_train, 2)) / float(train_x.shape[0])\n",
        "  validation_loss = tf.reduce_sum(0.5 * tf.pow(alpharnn.output - expected_output_val, 2)) / float(val_x.shape[0])\n",
        "\n",
        "  #accuracy = tf.reduce_mean(tf.cast(validation_loss, tf.float64))\n",
        "\n",
        "  # Use the Adam optimizer for training\n",
        "  train_step = tf.train.AdamOptimizer().minimize(train_batch_loss)\n",
        "    \n",
        "  # Initialize the losses\n",
        "  train_losses = []\n",
        "  validation_losses = []\n",
        "      \n",
        "  # Initialize all the variables\n",
        "  init_variables = tf.global_variables_initializer()\n",
        "      \n",
        "  #myNumpyData = np.ones([10,20])\n",
        "  session.run(init_variables) # , {gru.Y: np.ones([20,20])})\n",
        " \n",
        "  # Perform all the iterations\n",
        "  patience_cnt = 0\n",
        "  for epoch in range(max_epochs): # Compute the losses\n",
        "        patience = 50\n",
        "        min_delta = 0.000001\n",
        "        \n",
        "\n",
        "        total_batch = int(train_x.shape[0] / batch_size)\n",
        "    \n",
        "        for i in range(total_batch):\n",
        "          batch_x = train_x[i*batch_size:(i+1)*batch_size]\n",
        "          batch_y = train_y[i*batch_size:(i+1)*batch_size]\n",
        "          session.run([train_step], feed_dict={alpharnn.input_layer: batch_x, expected_output_batch_train: batch_y})        \n",
        "        train_loss_ = session.run(train_loss, feed_dict={alpharnn.input_layer: train_x, expected_output_train: train_y})\n",
        "        validation_loss_ = session.run(validation_loss, feed_dict={alpharnn.input_layer: val_x, expected_output_val: val_y})\n",
        "\n",
        "        # Log the losses\n",
        "        train_losses += [train_loss_]\n",
        "        validation_losses += [validation_loss_]\n",
        "          #mse = mean_squared_error(train_losses,validation_losses) <= this is wrong! \n",
        "          # I know...it's original values and the predicted values\n",
        "        #keras uses: model.compile(loss='mean_squared_error', optimizer='sgd') \n",
        "        # and: keras.losses.mean_squared_error(y_true, y_pred)\n",
        "        #y_predicted = session.run(output, feed_dict={alpharnn.input_layer: x_test_reg})\n",
        "        #MSE = np.square(np.subtract(y_test_reg,y_predicted)).mean()\n",
        "\n",
        "        if epoch % 50 == 0: \n",
        "            print('Epoch ', epoch, '/', max_epochs, ': ',\n",
        "                      \"\\tTraining Loss: {:.5f}\".format(train_loss_),\n",
        "                      \"\\tValidation Loss: {:.5f}\".format(validation_loss_),\n",
        "                      #\"\\tloss:\", MSE                      \n",
        "\n",
        "                 )\n",
        "        if epoch > 0 and (validation_losses[epoch-1] - validation_losses[epoch]) > min_delta:\n",
        "            patience_cnt = 0\n",
        "        else:\n",
        "            patience_cnt += 1\n",
        "            #print(patience_cnt)\n",
        "        if patience_cnt > patience:\n",
        "            print(\"Early stopping\")\n",
        "            break\n",
        "  saver = tf.train.Saver()\n",
        "  saved_path = saver.save(session, './saved_variable')          \n",
        "  #print('\\nMSE: ',mse)\n",
        "  plt.plot(train_losses, '-b', label='Train loss')\n",
        "  plt.plot(validation_losses, '-r', label='Validation loss')\n",
        "  plt.legend(loc=0)\n",
        "  plt.title('Loss')\n",
        "  plt.xlabel('Epoch')\n",
        "  plt.ylabel('Loss')\n",
        "  plt.show()\n",
        "  return alpharnn, validation_losses[-1] "
      ],
      "execution_count": 0,
      "outputs": []
    },
    {
      "cell_type": "markdown",
      "metadata": {
        "colab_type": "text",
        "id": "okSsg6Ho63l7"
      },
      "source": [
        "## Training"
      ]
    },
    {
      "cell_type": "code",
      "metadata": {
        "colab_type": "code",
        "id": "Fmi2i5ZI63l8",
        "colab": {}
      },
      "source": [
        "    \n",
        "#%% (3) Initialize and train the model.\n",
        "\n",
        "# The input has 2 dimensions: dimension 0 is reserved for the first term and dimension 1 is reserved for the second term\n",
        "input_dimensions = 1\n",
        "\n",
        "# Arbitrary number for the size of the hidden state\n",
        "hidden_size = 10 #<= MFD: vary this between 1,2,5,10,20\n"
      ],
      "execution_count": 0,
      "outputs": []
    },
    {
      "cell_type": "code",
      "metadata": {
        "colab_type": "code",
        "id": "90iCzV_IdYkv",
        "colab": {}
      },
      "source": [
        "#l1_regularizer = tf.contrib.layers.l1_regularizer(scale=0.005, scope=None)\n",
        "#regularization_penalty = tf.contrib.layers.apply_regularization(l1_regularizer, weights)\n",
        "\n",
        "#regularized_loss = total_loss + regularization_penalty"
      ],
      "execution_count": 0,
      "outputs": []
    },
    {
      "cell_type": "code",
      "metadata": {
        "id": "r8YCYD4veXLJ",
        "colab_type": "code",
        "colab": {
          "base_uri": "https://localhost:8080/",
          "height": 1000
        },
        "outputId": "f95a4bdd-45cb-420f-e704-0c734e904e9e"
      },
      "source": [
        "n_splits = 5\n",
        "tscv = TimeSeriesSplit(n_splits)\n",
        "hidden_sizes=[1,2,5,10,20]\n",
        "i=0\n",
        "val_losses=[]\n",
        "batch_size  = 30000\n",
        "max_epochs = 2000\n",
        "input_dimensions=1\n",
        "for hidden_size in hidden_sizes:\n",
        " val_loss =0\n",
        " for train_fold, test_fold in tscv.split(x_train_reg):\n",
        "  x_train, x_test = x_train_reg[train_fold], x_train_reg[test_fold]\n",
        "  y_train, y_test = y_train_reg[train_fold], y_train_reg[test_fold]\n",
        "  session = tf.Session()\n",
        "  # Add an additional layer on top of each of the hidden state outputs\n",
        "  alpharnn_t = alphaRNN(input_dimensions, hidden_size)\n",
        "  #models.append(train(alpharnn_t, x_train, x_test, y_train, y_test)) \n",
        "  model, val_loss_=train(session, alpharnn_t, x_train, x_test, y_train, y_test, max_epochs=2000, batch_size =int(batch_size/n_splits))\n",
        "  val_loss+=val_loss_\n",
        " val_losses.append(val_loss)"
      ],
      "execution_count": 0,
      "outputs": [
        {
          "output_type": "stream",
          "text": [
            "WARNING:tensorflow:From /usr/local/lib/python3.6/dist-packages/tensorflow_core/python/ops/math_grad.py:1375: where (from tensorflow.python.ops.array_ops) is deprecated and will be removed in a future version.\n",
            "Instructions for updating:\n",
            "Use tf.where in 2.0, which has the same broadcast rule as np.where\n",
            "Epoch  0 / 2000 :  \tTraining Loss: 713.12185 \tValidation Loss: 691.94445\n",
            "Epoch  50 / 2000 :  \tTraining Loss: 646.26973 \tValidation Loss: 627.92668\n",
            "Epoch  100 / 2000 :  \tTraining Loss: 588.16763 \tValidation Loss: 572.26085\n",
            "Epoch  150 / 2000 :  \tTraining Loss: 536.17026 \tValidation Loss: 522.48447\n",
            "Epoch  200 / 2000 :  \tTraining Loss: 489.29284 \tValidation Loss: 477.62779\n",
            "Epoch  250 / 2000 :  \tTraining Loss: 446.79441 \tValidation Loss: 436.98150\n",
            "Epoch  300 / 2000 :  \tTraining Loss: 408.11921 \tValidation Loss: 399.99856\n",
            "Epoch  350 / 2000 :  \tTraining Loss: 372.83912 \tValidation Loss: 366.27917\n",
            "Epoch  400 / 2000 :  \tTraining Loss: 340.60693 \tValidation Loss: 335.49909\n",
            "Epoch  450 / 2000 :  \tTraining Loss: 311.13901 \tValidation Loss: 307.38533\n",
            "Epoch  500 / 2000 :  \tTraining Loss: 284.19746 \tValidation Loss: 281.70767\n",
            "Epoch  550 / 2000 :  \tTraining Loss: 259.57599 \tValidation Loss: 258.26542\n",
            "Epoch  600 / 2000 :  \tTraining Loss: 237.09528 \tValidation Loss: 236.88040\n",
            "Epoch  650 / 2000 :  \tTraining Loss: 216.59218 \tValidation Loss: 217.38646\n",
            "Epoch  700 / 2000 :  \tTraining Loss: 197.90903 \tValidation Loss: 199.62065\n",
            "Epoch  750 / 2000 :  \tTraining Loss: 180.89621 \tValidation Loss: 183.42857\n",
            "Epoch  800 / 2000 :  \tTraining Loss: 165.41797 \tValidation Loss: 168.67211\n",
            "Epoch  850 / 2000 :  \tTraining Loss: 151.35024 \tValidation Loss: 155.22797\n",
            "Epoch  900 / 2000 :  \tTraining Loss: 138.57735 \tValidation Loss: 142.98370\n",
            "Epoch  950 / 2000 :  \tTraining Loss: 126.99082 \tValidation Loss: 131.83570\n",
            "Epoch  1000 / 2000 :  \tTraining Loss: 116.48923 \tValidation Loss: 121.68814\n",
            "Epoch  1050 / 2000 :  \tTraining Loss: 106.97813 \tValidation Loss: 112.45227\n",
            "Epoch  1100 / 2000 :  \tTraining Loss: 98.36987 \tValidation Loss: 104.04597\n",
            "Epoch  1150 / 2000 :  \tTraining Loss: 90.58331 \tValidation Loss: 96.39347\n",
            "Epoch  1200 / 2000 :  \tTraining Loss: 83.54337 \tValidation Loss: 89.42505\n",
            "Epoch  1250 / 2000 :  \tTraining Loss: 77.18068 \tValidation Loss: 83.07683\n",
            "Epoch  1300 / 2000 :  \tTraining Loss: 71.43117 \tValidation Loss: 77.29047\n",
            "Epoch  1350 / 2000 :  \tTraining Loss: 66.23575 \tValidation Loss: 72.01287\n",
            "Epoch  1400 / 2000 :  \tTraining Loss: 61.54007 \tValidation Loss: 67.19581\n",
            "Epoch  1450 / 2000 :  \tTraining Loss: 57.29424 \tValidation Loss: 62.79558\n",
            "Epoch  1500 / 2000 :  \tTraining Loss: 53.45269 \tValidation Loss: 58.77266\n",
            "Epoch  1550 / 2000 :  \tTraining Loss: 49.97383 \tValidation Loss: 55.09130\n",
            "Epoch  1600 / 2000 :  \tTraining Loss: 46.81982 \tValidation Loss: 51.71919\n",
            "Epoch  1650 / 2000 :  \tTraining Loss: 43.95627 \tValidation Loss: 48.62707\n",
            "Epoch  1700 / 2000 :  \tTraining Loss: 41.35197 \tValidation Loss: 45.78844\n",
            "Epoch  1750 / 2000 :  \tTraining Loss: 38.97941 \tValidation Loss: 43.17961\n",
            "Epoch  1800 / 2000 :  \tTraining Loss: 36.81507 \tValidation Loss: 40.77995\n",
            "Epoch  1850 / 2000 :  \tTraining Loss: 34.83808 \tValidation Loss: 38.57131\n",
            "Epoch  1900 / 2000 :  \tTraining Loss: 33.02913 \tValidation Loss: 36.53693\n",
            "Epoch  1950 / 2000 :  \tTraining Loss: 31.37045 \tValidation Loss: 34.66124\n"
          ],
          "name": "stdout"
        },
        {
          "output_type": "display_data",
          "data": {
            "image/png": "[encoded data removed]",
            "text/plain": [
              "<Figure size 432x288 with 1 Axes>"
            ]
          },
          "metadata": {
            "tags": []
          }
        },
        {
          "output_type": "stream",
          "text": [
            "Epoch  0 / 2000 :  \tTraining Loss: 701.26951 \tValidation Loss: 739.80784\n",
            "Epoch  50 / 2000 :  \tTraining Loss: 582.04364 \tValidation Loss: 611.96423\n",
            "Epoch  100 / 2000 :  \tTraining Loss: 486.31758 \tValidation Loss: 509.99991\n",
            "Epoch  150 / 2000 :  \tTraining Loss: 407.40745 \tValidation Loss: 426.32891\n",
            "Epoch  200 / 2000 :  \tTraining Loss: 341.61972 \tValidation Loss: 356.70383\n",
            "Epoch  250 / 2000 :  \tTraining Loss: 286.60007 \tValidation Loss: 298.55466\n",
            "Epoch  300 / 2000 :  \tTraining Loss: 240.63870 \tValidation Loss: 250.02163\n",
            "Epoch  350 / 2000 :  \tTraining Loss: 202.35207 \tValidation Loss: 209.60061\n",
            "Epoch  400 / 2000 :  \tTraining Loss: 170.49216 \tValidation Loss: 175.97111\n",
            "Epoch  450 / 2000 :  \tTraining Loss: 144.03308 \tValidation Loss: 148.09985\n",
            "Epoch  500 / 2000 :  \tTraining Loss: 122.10940 \tValidation Loss: 125.10753\n",
            "Epoch  550 / 2000 :  \tTraining Loss: 103.97499 \tValidation Loss: 106.21717\n",
            "Epoch  600 / 2000 :  \tTraining Loss: 88.98756 \tValidation Loss: 90.74178\n",
            "Epoch  650 / 2000 :  \tTraining Loss: 76.60029 \tValidation Loss: 78.08242\n",
            "Epoch  700 / 2000 :  \tTraining Loss: 66.35298 \tValidation Loss: 67.72575\n",
            "Epoch  750 / 2000 :  \tTraining Loss: 57.86153 \tValidation Loss: 59.23835\n",
            "Epoch  800 / 2000 :  \tTraining Loss: 50.80684 \tValidation Loss: 52.25883\n",
            "Epoch  850 / 2000 :  \tTraining Loss: 44.92362 \tValidation Loss: 46.48801\n",
            "Epoch  900 / 2000 :  \tTraining Loss: 39.99496 \tValidation Loss: 41.68507\n",
            "Epoch  950 / 2000 :  \tTraining Loss: 35.85176 \tValidation Loss: 37.66526\n",
            "Epoch  1000 / 2000 :  \tTraining Loss: 32.35074 \tValidation Loss: 34.27296\n",
            "Epoch  1050 / 2000 :  \tTraining Loss: 29.36991 \tValidation Loss: 31.37912\n",
            "Epoch  1100 / 2000 :  \tTraining Loss: 26.80762 \tValidation Loss: 28.87994\n",
            "Epoch  1150 / 2000 :  \tTraining Loss: 24.58688 \tValidation Loss: 26.70210\n",
            "Epoch  1200 / 2000 :  \tTraining Loss: 22.65635 \tValidation Loss: 24.79950\n",
            "Epoch  1250 / 2000 :  \tTraining Loss: 20.97582 \tValidation Loss: 23.13432\n",
            "Epoch  1300 / 2000 :  \tTraining Loss: 19.50931 \tValidation Loss: 21.67193\n",
            "Epoch  1350 / 2000 :  \tTraining Loss: 18.22540 \tValidation Loss: 20.38239\n",
            "Epoch  1400 / 2000 :  \tTraining Loss: 17.09739 \tValidation Loss: 19.24071\n",
            "Epoch  1450 / 2000 :  \tTraining Loss: 16.10288 \tValidation Loss: 18.22615\n",
            "Epoch  1500 / 2000 :  \tTraining Loss: 15.22308 \tValidation Loss: 17.32146\n",
            "Epoch  1550 / 2000 :  \tTraining Loss: 14.44219 \tValidation Loss: 16.51219\n",
            "Epoch  1600 / 2000 :  \tTraining Loss: 13.74690 \tValidation Loss: 15.78617\n",
            "Epoch  1650 / 2000 :  \tTraining Loss: 13.12596 \tValidation Loss: 15.13309\n",
            "Epoch  1700 / 2000 :  \tTraining Loss: 12.56978 \tValidation Loss: 14.54414\n",
            "Epoch  1750 / 2000 :  \tTraining Loss: 12.07024 \tValidation Loss: 14.01176\n",
            "Epoch  1800 / 2000 :  \tTraining Loss: 11.62036 \tValidation Loss: 13.52945\n",
            "Epoch  1850 / 2000 :  \tTraining Loss: 11.21416 \tValidation Loss: 13.09158\n",
            "Epoch  1900 / 2000 :  \tTraining Loss: 10.84649 \tValidation Loss: 12.69323\n",
            "Epoch  1950 / 2000 :  \tTraining Loss: 10.51291 \tValidation Loss: 12.33014\n"
          ],
          "name": "stdout"
        },
        {
          "output_type": "display_data",
          "data": {
            "image/png": "[encoded data removed]",
            "text/plain": [
              "<Figure size 432x288 with 1 Axes>"
            ]
          },
          "metadata": {
            "tags": []
          }
        },
        {
          "output_type": "stream",
          "text": [
            "Epoch  0 / 2000 :  \tTraining Loss: 713.35712 \tValidation Loss: 775.82073\n",
            "Epoch  50 / 2000 :  \tTraining Loss: 532.90233 \tValidation Loss: 583.99474\n",
            "Epoch  100 / 2000 :  \tTraining Loss: 403.70953 \tValidation Loss: 444.94689\n",
            "Epoch  150 / 2000 :  \tTraining Loss: 306.69818 \tValidation Loss: 339.41181\n",
            "Epoch  200 / 2000 :  \tTraining Loss: 233.36115 \tValidation Loss: 258.70642\n",
            "Epoch  250 / 2000 :  \tTraining Loss: 178.11961 \tValidation Loss: 196.95145\n",
            "Epoch  300 / 2000 :  \tTraining Loss: 136.70236 \tValidation Loss: 149.77436\n",
            "Epoch  350 / 2000 :  \tTraining Loss: 105.88864 \tValidation Loss: 114.02914\n",
            "Epoch  400 / 2000 :  \tTraining Loss: 83.08812 \tValidation Loss: 87.23028\n",
            "Epoch  450 / 2000 :  \tTraining Loss: 66.23879 \tValidation Loss: 67.34962\n",
            "Epoch  500 / 2000 :  \tTraining Loss: 53.75058 \tValidation Loss: 52.72888\n",
            "Epoch  550 / 2000 :  \tTraining Loss: 44.42784 \tValidation Loss: 42.03194\n",
            "Epoch  600 / 2000 :  \tTraining Loss: 37.38787 \tValidation Loss: 34.20316\n",
            "Epoch  650 / 2000 :  \tTraining Loss: 32.00584 \tValidation Loss: 28.44520\n",
            "Epoch  700 / 2000 :  \tTraining Loss: 27.83380 \tValidation Loss: 24.17306\n",
            "Epoch  750 / 2000 :  \tTraining Loss: 24.54118 \tValidation Loss: 20.94626\n",
            "Epoch  800 / 2000 :  \tTraining Loss: 21.88698 \tValidation Loss: 18.44280\n",
            "Epoch  850 / 2000 :  \tTraining Loss: 19.71647 \tValidation Loss: 16.46504\n",
            "Epoch  900 / 2000 :  \tTraining Loss: 17.93361 \tValidation Loss: 14.89780\n",
            "Epoch  950 / 2000 :  \tTraining Loss: 16.46021 \tValidation Loss: 13.64705\n",
            "Epoch  1000 / 2000 :  \tTraining Loss: 15.23270 \tValidation Loss: 12.63692\n",
            "Epoch  1050 / 2000 :  \tTraining Loss: 14.20160 \tValidation Loss: 11.81039\n",
            "Epoch  1100 / 2000 :  \tTraining Loss: 13.32864 \tValidation Loss: 11.12541\n",
            "Epoch  1150 / 2000 :  \tTraining Loss: 12.58404 \tValidation Loss: 10.55095\n",
            "Epoch  1200 / 2000 :  \tTraining Loss: 11.94448 \tValidation Loss: 10.06388\n",
            "Epoch  1250 / 2000 :  \tTraining Loss: 11.39151 \tValidation Loss: 9.64676\n",
            "Epoch  1300 / 2000 :  \tTraining Loss: 10.91043 \tValidation Loss: 9.28630\n",
            "Epoch  1350 / 2000 :  \tTraining Loss: 10.48944 \tValidation Loss: 8.97221\n",
            "Epoch  1400 / 2000 :  \tTraining Loss: 10.11900 \tValidation Loss: 8.69648\n",
            "Epoch  1450 / 2000 :  \tTraining Loss: 9.79133 \tValidation Loss: 8.45277\n",
            "Epoch  1500 / 2000 :  \tTraining Loss: 9.50006 \tValidation Loss: 8.23602\n",
            "Epoch  1550 / 2000 :  \tTraining Loss: 9.23995 \tValidation Loss: 8.04214\n",
            "Epoch  1600 / 2000 :  \tTraining Loss: 9.00664 \tValidation Loss: 7.86783\n",
            "Epoch  1650 / 2000 :  \tTraining Loss: 8.79650 \tValidation Loss: 7.71036\n",
            "Epoch  1700 / 2000 :  \tTraining Loss: 8.60648 \tValidation Loss: 7.56749\n",
            "Epoch  1750 / 2000 :  \tTraining Loss: 8.43402 \tValidation Loss: 7.43733\n",
            "Epoch  1800 / 2000 :  \tTraining Loss: 8.27696 \tValidation Loss: 7.31832\n",
            "Epoch  1850 / 2000 :  \tTraining Loss: 8.13345 \tValidation Loss: 7.20913\n",
            "Epoch  1900 / 2000 :  \tTraining Loss: 8.00080 \tValidation Loss: 7.10718\n",
            "Epoch  1950 / 2000 :  \tTraining Loss: 7.86925 \tValidation Loss: 6.99902\n"
          ],
          "name": "stdout"
        },
        {
          "output_type": "display_data",
          "data": {
            "image/png": "[encoded data removed]",
            "text/plain": [
              "<Figure size 432x288 with 1 Axes>"
            ]
          },
          "metadata": {
            "tags": []
          }
        },
        {
          "output_type": "stream",
          "text": [
            "Epoch  0 / 2000 :  \tTraining Loss: 727.75081 \tValidation Loss: 821.16369\n",
            "Epoch  50 / 2000 :  \tTraining Loss: 497.45003 \tValidation Loss: 549.88992\n",
            "Epoch  100 / 2000 :  \tTraining Loss: 345.32887 \tValidation Loss: 372.13866\n",
            "Epoch  150 / 2000 :  \tTraining Loss: 240.22083 \tValidation Loss: 250.86358\n",
            "Epoch  200 / 2000 :  \tTraining Loss: 167.66465 \tValidation Loss: 168.75035\n",
            "Epoch  250 / 2000 :  \tTraining Loss: 117.97583 \tValidation Loss: 113.96388\n",
            "Epoch  300 / 2000 :  \tTraining Loss: 84.43178 \tValidation Loss: 78.09118\n",
            "Epoch  350 / 2000 :  \tTraining Loss: 62.00464 \tValidation Loss: 54.89995\n",
            "Epoch  400 / 2000 :  \tTraining Loss: 47.01977 \tValidation Loss: 39.97870\n",
            "Epoch  450 / 2000 :  \tTraining Loss: 36.90303 \tValidation Loss: 30.33538\n",
            "Epoch  500 / 2000 :  \tTraining Loss: 29.94820 \tValidation Loss: 24.03517\n",
            "Epoch  550 / 2000 :  \tTraining Loss: 25.04127 \tValidation Loss: 19.82257\n",
            "Epoch  600 / 2000 :  \tTraining Loss: 21.45982 \tValidation Loss: 16.88765\n",
            "Epoch  650 / 2000 :  \tTraining Loss: 18.74661 \tValidation Loss: 14.74044\n",
            "Epoch  700 / 2000 :  \tTraining Loss: 16.64409 \tValidation Loss: 13.13871\n",
            "Epoch  750 / 2000 :  \tTraining Loss: 15.00010 \tValidation Loss: 11.94058\n",
            "Epoch  800 / 2000 :  \tTraining Loss: 13.69989 \tValidation Loss: 11.03069\n"
          ],
          "name": "stdout"
        }
      ]
    },
    {
      "cell_type": "code",
      "metadata": {
        "id": "jAEbEKfOeaGF",
        "colab_type": "code",
        "colab": {}
      },
      "source": [
        "# AlphaRNN: Pick the model with the lowest val_loss. Retrain it on all data and then perform prediction\n",
        "val, idx = min((val, idx) for (idx, val) in enumerate(val_losses))\n",
        "print(hidden_sizes[idx])"
      ],
      "execution_count": 0,
      "outputs": []
    },
    {
      "cell_type": "code",
      "metadata": {
        "id": "HpAsPzVhejCz",
        "colab_type": "code",
        "colab": {}
      },
      "source": [
        "session = tf.Session()\n",
        "alpharnn_t = alphaRNN(input_dimensions, hidden_sizes[idx])\n",
        "model,_=train(session, alpharnn_t, x_train_reg, x_test_reg, y_train_reg, y_test_reg) "
      ],
      "execution_count": 0,
      "outputs": []
    },
    {
      "cell_type": "code",
      "metadata": {
        "id": "Ca-UhZybete5",
        "colab_type": "code",
        "colab": {}
      },
      "source": [
        "y_predicted_t = session.run(model.output, feed_dict={model.input_layer: x_test_reg})\n",
        "y_predicted_ar_t=np.array([0]*y_predicted_t.shape[0], dtype='float64')\n",
        "for i in range(y_predicted_t.shape[0]):\n",
        "     y_predicted_ar_t[i]=y_predicted_t[i][n_steps-1][0]"
      ],
      "execution_count": 0,
      "outputs": []
    },
    {
      "cell_type": "code",
      "metadata": {
        "id": "SSjR0WolwboM",
        "colab_type": "code",
        "colab": {}
      },
      "source": [
        "se = mean_squared_error(y_test_reg[:,0],y_predicted_ar_t)\n",
        "print(mse)\n",
        "mse_std = np.math.sqrt(mse)\n",
        "print(mse_std)"
      ],
      "execution_count": 0,
      "outputs": []
    },
    {
      "cell_type": "code",
      "metadata": {
        "id": "TwNt2JS8eu6y",
        "colab_type": "code",
        "colab": {}
      },
      "source": [
        "y_predicted_t = session.run(model.output, feed_dict={model.input_layer: x_train_reg})\n",
        "y_predicted_train_t=np.array([0]*y_predicted_t.shape[0], dtype='float64')\n",
        "for i in range(y_predicted_t.shape[0]):\n",
        "     y_predicted_train_t[i]=y_predicted_t[i][n_steps-1][0]"
      ],
      "execution_count": 0,
      "outputs": []
    },
    {
      "cell_type": "code",
      "metadata": {
        "id": "P9lcng-fe1eH",
        "colab_type": "code",
        "colab": {}
      },
      "source": [
        "\n",
        "se = mean_squared_error(y_test_reg[:,0],y_predicted_train_t)\n",
        "print(mse)\n",
        "mse_std = np.math.sqrt(mse)\n",
        "print(mse_std)"
      ],
      "execution_count": 0,
      "outputs": []
    },
    {
      "cell_type": "code",
      "metadata": {
        "id": "6vZNc5hFe4f4",
        "colab_type": "code",
        "colab": {}
      },
      "source": [
        "n_splits = 5\n",
        "tscv = TimeSeriesSplit(n_splits)\n",
        "hidden_sizes=[1,2,5,10,20]\n",
        "i=0\n",
        "val_losses2=[]\n",
        "batch_size  = int(30000/n_splits)\n",
        "max_epochs = 2000\n",
        "input_dimensions=1\n",
        "for hidden_size in hidden_sizes:\n",
        " val_loss =0\n",
        " for train_fold, test_fold in tscv.split(x_train_reg):\n",
        "  x_train, x_test = x_train_reg[train_fold], x_train_reg[test_fold]\n",
        "  y_train, y_test = y_train_reg[train_fold], y_train_reg[test_fold]\n",
        "  session = tf.Session()\n",
        "  # Add an additional layer on top of each of the hidden state outputs\n",
        "  alpharnn = simpleAlphaRNN(input_dimensions, hidden_size)\n",
        "  #models.append(train(alpharnn_t, x_train, x_test, y_train, y_test)) \n",
        "  model, val_loss_=train(session, alpharnn, x_train, x_test, y_train, y_test, max_epochs, batch_size)\n",
        "  val_loss+=val_loss_\n",
        " val_losses2.append(val_loss)"
      ],
      "execution_count": 0,
      "outputs": []
    },
    {
      "cell_type": "code",
      "metadata": {
        "id": "LS0BRs8YfHvY",
        "colab_type": "code",
        "colab": {}
      },
      "source": [
        "# AlphaRNN: Pick the model with the lowest val_loss. Retrain it on all data and then perform prediction\n",
        "val, idx = min((val, idx) for (idx, val) in enumerate(val_losses2))\n",
        "print(hidden_sizes[idx])"
      ],
      "execution_count": 0,
      "outputs": []
    },
    {
      "cell_type": "code",
      "metadata": {
        "id": "TWydBlx6fLQS",
        "colab_type": "code",
        "colab": {}
      },
      "source": [
        "session = tf.Session()\n",
        "alpharnn = SimpleAlphaRNN(input_dimensions, hidden_sizes[idx])\n",
        "model,_=train(session, alpharnn, x_train_reg, x_test_reg, y_train_reg, y_test_reg) "
      ],
      "execution_count": 0,
      "outputs": []
    },
    {
      "cell_type": "code",
      "metadata": {
        "id": "fw0HLtZ4fV-b",
        "colab_type": "code",
        "colab": {}
      },
      "source": [
        "y_predicted = session.run(model.output, feed_dict={model.input_layer: x_test_reg})\n",
        "y_predicted_ar=np.array([0]*y_predicted.shape[0], dtype='float64')\n",
        "for i in range(y_predicted.shape[0]):\n",
        "     y_predicted_ar[i]=y_predicted[i][n_steps-1][0]"
      ],
      "execution_count": 0,
      "outputs": []
    },
    {
      "cell_type": "code",
      "metadata": {
        "id": "NrLOEOumfXP9",
        "colab_type": "code",
        "colab": {}
      },
      "source": [
        "y_predicted = session.run(model.output, feed_dict={model.input_layer: x_train_reg})\n",
        "y_predicted_train=np.array([0]*y_predicted.shape[0], dtype='float64')\n",
        "for i in range(y_predicted.shape[0]):\n",
        "     y_predicted_train[i]=y_predicted[i][n_steps-1][0]"
      ],
      "execution_count": 0,
      "outputs": []
    },
    {
      "cell_type": "code",
      "metadata": {
        "colab_type": "code",
        "id": "nwVQcfZv9sSj",
        "colab": {}
      },
      "source": [
        "#session = tf.Session()\n",
        "# Add an additional layer on top of each of the hidden state outputs\n",
        "#alpharnn = simpleAlphaRNN(input_dimensions, hidden_size)\n",
        "#W_output = tf.Variable(tf.truncated_normal(dtype=tf.float64, shape=(hidden_size, 1), mean=0, stddev=0.01))\n",
        "#b_output = tf.Variable(tf.truncated_normal(dtype=tf.float64, shape=(1,), mean=0, stddev=0.01))\n",
        "\n",
        "#output = tf.map_fn(lambda h_t: tf.matmul(h_t, W_output) + b_output, alpharnn.h_t) \n",
        "\n",
        "\n",
        "#model,_=train(alpharnn, x_train_reg, x_test_reg, y_train_reg, y_test_reg)\n"
      ],
      "execution_count": 0,
      "outputs": []
    },
    {
      "cell_type": "code",
      "metadata": {
        "colab_type": "code",
        "id": "iLpuTUeHpmJ-",
        "colab": {}
      },
      "source": [
        "#y_predicted = session.run(output, feed_dict={alpharnn.input_layer: x_test_reg})\n",
        "#y_predicted_ar=np.array([0]*y_predicted.shape[0], dtype='float64')\n",
        "#for i in range(y_predicted.shape[0]):\n",
        "#     y_predicted_ar[i]=y_predicted[i][n_steps-1][0]\n",
        "\n",
        "       "
      ],
      "execution_count": 0,
      "outputs": []
    },
    {
      "cell_type": "code",
      "metadata": {
        "id": "7hakDyEVOy5s",
        "colab_type": "code",
        "colab": {}
      },
      "source": [
        "#y_predicted = session.run(output, feed_dict={alpharnn.input_layer: x_train_reg})\n",
        "#y_predicted_ar_train=np.array([0]*y_predicted.shape[0], dtype='float64')\n",
        "#for i in range(y_predicted.shape[0]):\n",
        "#     y_predicted_ar_train[i]=y_predicted[i][n_steps-1][0]"
      ],
      "execution_count": 0,
      "outputs": []
    },
    {
      "cell_type": "code",
      "metadata": {
        "colab_type": "code",
        "id": "WjkDDQSFrRWl",
        "outputId": "76d22e63-5917-47d1-be76-c2305080a9ee",
        "colab": {
          "base_uri": "https://localhost:8080/",
          "height": 447
        }
      },
      "source": [
        "fig = plt.figure(figsize=(12,7))\n",
        "plt.plot(y_predicted_ar, color='r', label='Predicted')\n",
        "plt.plot(y_test_reg.flatten(),'b', label='Actual')\n",
        "plt.legend(loc=0)\n",
        "plt.title('Actual vs Predicted')\n",
        "plt.show()\n"
      ],
      "execution_count": 0,
      "outputs": [
        {
          "output_type": "display_data",
          "data": {
            "image/png": "[encoded data removed]",
            "text/plain": [
              "<Figure size 864x504 with 1 Axes>"
            ]
          },
          "metadata": {
            "tags": []
          }
        }
      ]
    },
    {
      "cell_type": "markdown",
      "metadata": {
        "colab_type": "text",
        "id": "0YW3jkywJdok"
      },
      "source": [
        "## Cross-Validation"
      ]
    },
    {
      "cell_type": "code",
      "metadata": {
        "colab_type": "code",
        "id": "2elDyfY-qFS8",
        "colab": {}
      },
      "source": [
        "# Create a new instance of the alpha_RNN model\n",
        "#alpharnn = simpleAlphaRNN(input_dimensions, hidden_size)\n",
        "\n",
        "alpharnn_cv = alphaRNN(input_dimensions, hidden_size)"
      ],
      "execution_count": 0,
      "outputs": []
    },
    {
      "cell_type": "code",
      "metadata": {
        "colab_type": "code",
        "id": "-ajqUeP8qMgn",
        "colab": {}
      },
      "source": [
        "# Add an additional layer on top of each of the hidden state outputs\n",
        "W_output = tf.Variable(tf.truncated_normal(dtype=tf.float64, shape=(hidden_size, 1), mean=0, stddev=0.01))\n",
        "b_output = tf.Variable(tf.truncated_normal(dtype=tf.float64, shape=(1,), mean=0, stddev=0.01))\n",
        "\n",
        "output = tf.map_fn(lambda h_t: tf.matmul(h_t, W_output) + b_output, alpharnn.h_t) #prediction"
      ],
      "execution_count": 0,
      "outputs": []
    },
    {
      "cell_type": "code",
      "metadata": {
        "colab_type": "code",
        "id": "dVNE4wQhJkPn",
        "colab": {}
      },
      "source": [
        "def cross_validate(session, split_size):\n",
        "\n",
        "  results = []\n",
        "\n",
        "  tscv = TimeSeriesSplit(split_size)\n",
        "    \n",
        "  \"\"\"\n",
        "  The training set has size i * n_samples // (n_splits + 1) + n_samples % (n_splits + 1) \n",
        "  in the i``th split, with a test set of size ``n_samples//(n_splits + 1), \n",
        "  where n_samples is the number of samples.\n",
        "  \n",
        "  \"\"\"\n",
        "\n",
        "  for train_idx, val_idx in tscv.split(x_train_reg):\n",
        "    print(\"TRAIN:\", train_idx.shape, \"TEST:\", val_idx.shape)\n",
        "    expected_output_val = tf.placeholder(dtype=tf.float64, shape=(len(val_idx), time_size,1), name='expected_output_val')\n",
        "\n",
        "    train_x = x_train_reg[train_idx]\n",
        "    train_y = y_train_reg[train_idx]\n",
        "\n",
        "    val_x = x_train_reg[val_idx]\n",
        "    val_y = y_train_reg[val_idx]\n",
        "    \n",
        "    train(alpharnn, train_x, val_x, train_y, val_y)\n",
        "    val_loss = tf.reduce_sum(0.5 * tf.pow(output - expected_output_val, 2)) / float(len(val_idx))\n",
        "  \n",
        "    # MFD: suggest to change to val_loss and not use train_loss\n",
        "    results.append(session.run(val_loss, feed_dict={alpharnn.input_layer: val_x, expected_output_val: val_y}))\n",
        "\n",
        "  return results\n"
      ],
      "execution_count": 0,
      "outputs": []
    },
    {
      "cell_type": "code",
      "metadata": {
        "colab_type": "code",
        "id": "t8OEYLsOf9JY",
        "outputId": "36a98ef7-47ed-434c-f82c-c071fdebb2ac",
        "colab": {
          "base_uri": "https://localhost:8080/",
          "height": 220
        }
      },
      "source": [
        "with tf.Session() as session:\n",
        "  #saved_path = saver.save(session, './saved_variable')\n",
        "  #result = cross_validate(session, 5)\n",
        "  #print('Cross-validation result: %s' % result)\n",
        "  print('Test accuracy: %f' % session.run(train_loss, feed_dict={alpharnn.input_layer: x_test_reg, expected_output_test: y_test_reg}))"
      ],
      "execution_count": 0,
      "outputs": [
        {
          "output_type": "error",
          "ename": "NameError",
          "evalue": "ignored",
          "traceback": [
            "\u001b[0;31m---------------------------------------------------------------------------\u001b[0m",
            "\u001b[0;31mNameError\u001b[0m                                 Traceback (most recent call last)",
            "\u001b[0;32m<ipython-input-23-15eca78bf1cc>\u001b[0m in \u001b[0;36m<module>\u001b[0;34m()\u001b[0m\n\u001b[1;32m      3\u001b[0m   \u001b[0;31m#result = cross_validate(session, 5)\u001b[0m\u001b[0;34m\u001b[0m\u001b[0;34m\u001b[0m\u001b[0;34m\u001b[0m\u001b[0m\n\u001b[1;32m      4\u001b[0m   \u001b[0;31m#print('Cross-validation result: %s' % result)\u001b[0m\u001b[0;34m\u001b[0m\u001b[0;34m\u001b[0m\u001b[0;34m\u001b[0m\u001b[0m\n\u001b[0;32m----> 5\u001b[0;31m   \u001b[0mprint\u001b[0m\u001b[0;34m(\u001b[0m\u001b[0;34m'Test accuracy: %f'\u001b[0m \u001b[0;34m%\u001b[0m \u001b[0msession\u001b[0m\u001b[0;34m.\u001b[0m\u001b[0mrun\u001b[0m\u001b[0;34m(\u001b[0m\u001b[0mtrain_loss\u001b[0m\u001b[0;34m,\u001b[0m \u001b[0mfeed_dict\u001b[0m\u001b[0;34m=\u001b[0m\u001b[0;34m{\u001b[0m\u001b[0malpharnn\u001b[0m\u001b[0;34m.\u001b[0m\u001b[0minput_layer\u001b[0m\u001b[0;34m:\u001b[0m \u001b[0mx_test_reg\u001b[0m\u001b[0;34m,\u001b[0m \u001b[0mexpected_output_test\u001b[0m\u001b[0;34m:\u001b[0m \u001b[0my_test_reg\u001b[0m\u001b[0;34m}\u001b[0m\u001b[0;34m)\u001b[0m\u001b[0;34m)\u001b[0m\u001b[0;34m\u001b[0m\u001b[0;34m\u001b[0m\u001b[0m\n\u001b[0m",
            "\u001b[0;31mNameError\u001b[0m: name 'train_loss' is not defined"
          ]
        }
      ]
    },
    {
      "cell_type": "code",
      "metadata": {
        "colab_type": "code",
        "outputId": "34c36ecf-567f-4211-8d22-17c8bcc1143d",
        "id": "_PBYZrALFj_9",
        "colab": {
          "base_uri": "https://localhost:8080/",
          "height": 434
        }
      },
      "source": [
        "session = tf.Session()\n",
        "# Add an additional layer on top of each of the hidden state outputs\n",
        "alpharnn_t = alphaRNN(input_dimensions, hidden_size)\n",
        "W_output = tf.Variable(tf.truncated_normal(dtype=tf.float64, shape=(hidden_size, 1), mean=0, stddev=0.01))\n",
        "b_output = tf.Variable(tf.truncated_normal(dtype=tf.float64, shape=(1,), mean=0, stddev=0.01))\n",
        "\n",
        "output = tf.map_fn(lambda h_t: tf.matmul(h_t, W_output) + b_output, alpharnn_t.h_t) \n",
        "\n",
        "train(alpharnn_t, x_train_reg, x_test_reg, y_train_reg, y_test_reg)\n"
      ],
      "execution_count": 0,
      "outputs": [
        {
          "output_type": "stream",
          "text": [
            "Epoch  0 / 200 :  \tTraining Loss: 21.43568 \tValidation Loss: 37.10702\n",
            "Epoch  50 / 200 :  \tTraining Loss: 3.98413 \tValidation Loss: 4.01063\n",
            "Epoch  100 / 200 :  \tTraining Loss: 4.01077 \tValidation Loss: 4.08058\n",
            "Epoch  150 / 200 :  \tTraining Loss: 3.95643 \tValidation Loss: 3.97600\n"
          ],
          "name": "stdout"
        },
        {
          "output_type": "error",
          "ename": "KeyboardInterrupt",
          "evalue": "ignored",
          "traceback": [
            "\u001b[0;31m---------------------------------------------------------------------------\u001b[0m",
            "\u001b[0;31mKeyboardInterrupt\u001b[0m                         Traceback (most recent call last)",
            "\u001b[0;32m<ipython-input-19-eccc00a82651>\u001b[0m in \u001b[0;36m<module>\u001b[0;34m()\u001b[0m\n\u001b[1;32m      7\u001b[0m \u001b[0moutput\u001b[0m \u001b[0;34m=\u001b[0m \u001b[0mtf\u001b[0m\u001b[0;34m.\u001b[0m\u001b[0mmap_fn\u001b[0m\u001b[0;34m(\u001b[0m\u001b[0;32mlambda\u001b[0m \u001b[0mh_t\u001b[0m\u001b[0;34m:\u001b[0m \u001b[0mtf\u001b[0m\u001b[0;34m.\u001b[0m\u001b[0mmatmul\u001b[0m\u001b[0;34m(\u001b[0m\u001b[0mh_t\u001b[0m\u001b[0;34m,\u001b[0m \u001b[0mW_output\u001b[0m\u001b[0;34m)\u001b[0m \u001b[0;34m+\u001b[0m \u001b[0mb_output\u001b[0m\u001b[0;34m,\u001b[0m \u001b[0malpharnn_t\u001b[0m\u001b[0;34m.\u001b[0m\u001b[0mh_t\u001b[0m\u001b[0;34m)\u001b[0m\u001b[0;34m\u001b[0m\u001b[0;34m\u001b[0m\u001b[0m\n\u001b[1;32m      8\u001b[0m \u001b[0;34m\u001b[0m\u001b[0m\n\u001b[0;32m----> 9\u001b[0;31m \u001b[0mtrain\u001b[0m\u001b[0;34m(\u001b[0m\u001b[0malpharnn_t\u001b[0m\u001b[0;34m,\u001b[0m \u001b[0mx_train_reg\u001b[0m\u001b[0;34m,\u001b[0m \u001b[0mx_test_reg\u001b[0m\u001b[0;34m,\u001b[0m \u001b[0my_train_reg\u001b[0m\u001b[0;34m,\u001b[0m \u001b[0my_test_reg\u001b[0m\u001b[0;34m)\u001b[0m\u001b[0;34m\u001b[0m\u001b[0;34m\u001b[0m\u001b[0m\n\u001b[0m",
            "\u001b[0;32m<ipython-input-18-15ae46cd7fee>\u001b[0m in \u001b[0;36mtrain\u001b[0;34m(alpharnn, train_x, val_x, train_y, val_y, max_epochs, batch_size)\u001b[0m\n\u001b[1;32m     42\u001b[0m           \u001b[0mbatch_x\u001b[0m \u001b[0;34m=\u001b[0m \u001b[0mtrain_x\u001b[0m\u001b[0;34m[\u001b[0m\u001b[0mrand_index\u001b[0m\u001b[0;34m]\u001b[0m\u001b[0;34m\u001b[0m\u001b[0;34m\u001b[0m\u001b[0m\n\u001b[1;32m     43\u001b[0m           \u001b[0mbatch_y\u001b[0m \u001b[0;34m=\u001b[0m \u001b[0mtrain_y\u001b[0m\u001b[0;34m[\u001b[0m\u001b[0mrand_index\u001b[0m\u001b[0;34m]\u001b[0m\u001b[0;34m\u001b[0m\u001b[0;34m\u001b[0m\u001b[0m\n\u001b[0;32m---> 44\u001b[0;31m           \u001b[0msession\u001b[0m\u001b[0;34m.\u001b[0m\u001b[0mrun\u001b[0m\u001b[0;34m(\u001b[0m\u001b[0;34m[\u001b[0m\u001b[0mtrain_step\u001b[0m\u001b[0;34m]\u001b[0m\u001b[0;34m,\u001b[0m \u001b[0mfeed_dict\u001b[0m\u001b[0;34m=\u001b[0m\u001b[0;34m{\u001b[0m\u001b[0malpharnn\u001b[0m\u001b[0;34m.\u001b[0m\u001b[0minput_layer\u001b[0m\u001b[0;34m:\u001b[0m \u001b[0mbatch_x\u001b[0m\u001b[0;34m,\u001b[0m \u001b[0mexpected_output_batch_train\u001b[0m\u001b[0;34m:\u001b[0m \u001b[0mbatch_y\u001b[0m\u001b[0;34m}\u001b[0m\u001b[0;34m)\u001b[0m\u001b[0;34m\u001b[0m\u001b[0;34m\u001b[0m\u001b[0m\n\u001b[0m\u001b[1;32m     45\u001b[0m         \u001b[0mtrain_loss_\u001b[0m \u001b[0;34m=\u001b[0m \u001b[0msession\u001b[0m\u001b[0;34m.\u001b[0m\u001b[0mrun\u001b[0m\u001b[0;34m(\u001b[0m\u001b[0mtrain_loss\u001b[0m\u001b[0;34m,\u001b[0m \u001b[0mfeed_dict\u001b[0m\u001b[0;34m=\u001b[0m\u001b[0;34m{\u001b[0m\u001b[0malpharnn\u001b[0m\u001b[0;34m.\u001b[0m\u001b[0minput_layer\u001b[0m\u001b[0;34m:\u001b[0m \u001b[0mtrain_x\u001b[0m\u001b[0;34m,\u001b[0m \u001b[0mexpected_output_train\u001b[0m\u001b[0;34m:\u001b[0m \u001b[0mtrain_y\u001b[0m\u001b[0;34m}\u001b[0m\u001b[0;34m)\u001b[0m\u001b[0;34m\u001b[0m\u001b[0;34m\u001b[0m\u001b[0m\n\u001b[1;32m     46\u001b[0m         \u001b[0mvalidation_loss_\u001b[0m \u001b[0;34m=\u001b[0m \u001b[0msession\u001b[0m\u001b[0;34m.\u001b[0m\u001b[0mrun\u001b[0m\u001b[0;34m(\u001b[0m\u001b[0mvalidation_loss\u001b[0m\u001b[0;34m,\u001b[0m \u001b[0mfeed_dict\u001b[0m\u001b[0;34m=\u001b[0m\u001b[0;34m{\u001b[0m\u001b[0malpharnn\u001b[0m\u001b[0;34m.\u001b[0m\u001b[0minput_layer\u001b[0m\u001b[0;34m:\u001b[0m \u001b[0mval_x\u001b[0m\u001b[0;34m,\u001b[0m \u001b[0mexpected_output_val\u001b[0m\u001b[0;34m:\u001b[0m \u001b[0mval_y\u001b[0m\u001b[0;34m}\u001b[0m\u001b[0;34m)\u001b[0m\u001b[0;34m\u001b[0m\u001b[0;34m\u001b[0m\u001b[0m\n",
            "\u001b[0;32m/usr/local/lib/python3.6/dist-packages/tensorflow_core/python/client/session.py\u001b[0m in \u001b[0;36mrun\u001b[0;34m(self, fetches, feed_dict, options, run_metadata)\u001b[0m\n\u001b[1;32m    954\u001b[0m     \u001b[0;32mtry\u001b[0m\u001b[0;34m:\u001b[0m\u001b[0;34m\u001b[0m\u001b[0;34m\u001b[0m\u001b[0m\n\u001b[1;32m    955\u001b[0m       result = self._run(None, fetches, feed_dict, options_ptr,\n\u001b[0;32m--> 956\u001b[0;31m                          run_metadata_ptr)\n\u001b[0m\u001b[1;32m    957\u001b[0m       \u001b[0;32mif\u001b[0m \u001b[0mrun_metadata\u001b[0m\u001b[0;34m:\u001b[0m\u001b[0;34m\u001b[0m\u001b[0;34m\u001b[0m\u001b[0m\n\u001b[1;32m    958\u001b[0m         \u001b[0mproto_data\u001b[0m \u001b[0;34m=\u001b[0m \u001b[0mtf_session\u001b[0m\u001b[0;34m.\u001b[0m\u001b[0mTF_GetBuffer\u001b[0m\u001b[0;34m(\u001b[0m\u001b[0mrun_metadata_ptr\u001b[0m\u001b[0;34m)\u001b[0m\u001b[0;34m\u001b[0m\u001b[0;34m\u001b[0m\u001b[0m\n",
            "\u001b[0;32m/usr/local/lib/python3.6/dist-packages/tensorflow_core/python/client/session.py\u001b[0m in \u001b[0;36m_run\u001b[0;34m(self, handle, fetches, feed_dict, options, run_metadata)\u001b[0m\n\u001b[1;32m   1178\u001b[0m     \u001b[0;32mif\u001b[0m \u001b[0mfinal_fetches\u001b[0m \u001b[0;32mor\u001b[0m \u001b[0mfinal_targets\u001b[0m \u001b[0;32mor\u001b[0m \u001b[0;34m(\u001b[0m\u001b[0mhandle\u001b[0m \u001b[0;32mand\u001b[0m \u001b[0mfeed_dict_tensor\u001b[0m\u001b[0;34m)\u001b[0m\u001b[0;34m:\u001b[0m\u001b[0;34m\u001b[0m\u001b[0;34m\u001b[0m\u001b[0m\n\u001b[1;32m   1179\u001b[0m       results = self._do_run(handle, final_targets, final_fetches,\n\u001b[0;32m-> 1180\u001b[0;31m                              feed_dict_tensor, options, run_metadata)\n\u001b[0m\u001b[1;32m   1181\u001b[0m     \u001b[0;32melse\u001b[0m\u001b[0;34m:\u001b[0m\u001b[0;34m\u001b[0m\u001b[0;34m\u001b[0m\u001b[0m\n\u001b[1;32m   1182\u001b[0m       \u001b[0mresults\u001b[0m \u001b[0;34m=\u001b[0m \u001b[0;34m[\u001b[0m\u001b[0;34m]\u001b[0m\u001b[0;34m\u001b[0m\u001b[0;34m\u001b[0m\u001b[0m\n",
            "\u001b[0;32m/usr/local/lib/python3.6/dist-packages/tensorflow_core/python/client/session.py\u001b[0m in \u001b[0;36m_do_run\u001b[0;34m(self, handle, target_list, fetch_list, feed_dict, options, run_metadata)\u001b[0m\n\u001b[1;32m   1357\u001b[0m     \u001b[0;32mif\u001b[0m \u001b[0mhandle\u001b[0m \u001b[0;32mis\u001b[0m \u001b[0;32mNone\u001b[0m\u001b[0;34m:\u001b[0m\u001b[0;34m\u001b[0m\u001b[0;34m\u001b[0m\u001b[0m\n\u001b[1;32m   1358\u001b[0m       return self._do_call(_run_fn, feeds, fetches, targets, options,\n\u001b[0;32m-> 1359\u001b[0;31m                            run_metadata)\n\u001b[0m\u001b[1;32m   1360\u001b[0m     \u001b[0;32melse\u001b[0m\u001b[0;34m:\u001b[0m\u001b[0;34m\u001b[0m\u001b[0;34m\u001b[0m\u001b[0m\n\u001b[1;32m   1361\u001b[0m       \u001b[0;32mreturn\u001b[0m \u001b[0mself\u001b[0m\u001b[0;34m.\u001b[0m\u001b[0m_do_call\u001b[0m\u001b[0;34m(\u001b[0m\u001b[0m_prun_fn\u001b[0m\u001b[0;34m,\u001b[0m \u001b[0mhandle\u001b[0m\u001b[0;34m,\u001b[0m \u001b[0mfeeds\u001b[0m\u001b[0;34m,\u001b[0m \u001b[0mfetches\u001b[0m\u001b[0;34m)\u001b[0m\u001b[0;34m\u001b[0m\u001b[0;34m\u001b[0m\u001b[0m\n",
            "\u001b[0;32m/usr/local/lib/python3.6/dist-packages/tensorflow_core/python/client/session.py\u001b[0m in \u001b[0;36m_do_call\u001b[0;34m(self, fn, *args)\u001b[0m\n\u001b[1;32m   1363\u001b[0m   \u001b[0;32mdef\u001b[0m \u001b[0m_do_call\u001b[0m\u001b[0;34m(\u001b[0m\u001b[0mself\u001b[0m\u001b[0;34m,\u001b[0m \u001b[0mfn\u001b[0m\u001b[0;34m,\u001b[0m \u001b[0;34m*\u001b[0m\u001b[0margs\u001b[0m\u001b[0;34m)\u001b[0m\u001b[0;34m:\u001b[0m\u001b[0;34m\u001b[0m\u001b[0;34m\u001b[0m\u001b[0m\n\u001b[1;32m   1364\u001b[0m     \u001b[0;32mtry\u001b[0m\u001b[0;34m:\u001b[0m\u001b[0;34m\u001b[0m\u001b[0;34m\u001b[0m\u001b[0m\n\u001b[0;32m-> 1365\u001b[0;31m       \u001b[0;32mreturn\u001b[0m \u001b[0mfn\u001b[0m\u001b[0;34m(\u001b[0m\u001b[0;34m*\u001b[0m\u001b[0margs\u001b[0m\u001b[0;34m)\u001b[0m\u001b[0;34m\u001b[0m\u001b[0;34m\u001b[0m\u001b[0m\n\u001b[0m\u001b[1;32m   1366\u001b[0m     \u001b[0;32mexcept\u001b[0m \u001b[0merrors\u001b[0m\u001b[0;34m.\u001b[0m\u001b[0mOpError\u001b[0m \u001b[0;32mas\u001b[0m \u001b[0me\u001b[0m\u001b[0;34m:\u001b[0m\u001b[0;34m\u001b[0m\u001b[0;34m\u001b[0m\u001b[0m\n\u001b[1;32m   1367\u001b[0m       \u001b[0mmessage\u001b[0m \u001b[0;34m=\u001b[0m \u001b[0mcompat\u001b[0m\u001b[0;34m.\u001b[0m\u001b[0mas_text\u001b[0m\u001b[0;34m(\u001b[0m\u001b[0me\u001b[0m\u001b[0;34m.\u001b[0m\u001b[0mmessage\u001b[0m\u001b[0;34m)\u001b[0m\u001b[0;34m\u001b[0m\u001b[0;34m\u001b[0m\u001b[0m\n",
            "\u001b[0;32m/usr/local/lib/python3.6/dist-packages/tensorflow_core/python/client/session.py\u001b[0m in \u001b[0;36m_run_fn\u001b[0;34m(feed_dict, fetch_list, target_list, options, run_metadata)\u001b[0m\n\u001b[1;32m   1348\u001b[0m       \u001b[0mself\u001b[0m\u001b[0;34m.\u001b[0m\u001b[0m_extend_graph\u001b[0m\u001b[0;34m(\u001b[0m\u001b[0;34m)\u001b[0m\u001b[0;34m\u001b[0m\u001b[0;34m\u001b[0m\u001b[0m\n\u001b[1;32m   1349\u001b[0m       return self._call_tf_sessionrun(options, feed_dict, fetch_list,\n\u001b[0;32m-> 1350\u001b[0;31m                                       target_list, run_metadata)\n\u001b[0m\u001b[1;32m   1351\u001b[0m \u001b[0;34m\u001b[0m\u001b[0m\n\u001b[1;32m   1352\u001b[0m     \u001b[0;32mdef\u001b[0m \u001b[0m_prun_fn\u001b[0m\u001b[0;34m(\u001b[0m\u001b[0mhandle\u001b[0m\u001b[0;34m,\u001b[0m \u001b[0mfeed_dict\u001b[0m\u001b[0;34m,\u001b[0m \u001b[0mfetch_list\u001b[0m\u001b[0;34m)\u001b[0m\u001b[0;34m:\u001b[0m\u001b[0;34m\u001b[0m\u001b[0;34m\u001b[0m\u001b[0m\n",
            "\u001b[0;32m/usr/local/lib/python3.6/dist-packages/tensorflow_core/python/client/session.py\u001b[0m in \u001b[0;36m_call_tf_sessionrun\u001b[0;34m(self, options, feed_dict, fetch_list, target_list, run_metadata)\u001b[0m\n\u001b[1;32m   1441\u001b[0m     return tf_session.TF_SessionRun_wrapper(self._session, options, feed_dict,\n\u001b[1;32m   1442\u001b[0m                                             \u001b[0mfetch_list\u001b[0m\u001b[0;34m,\u001b[0m \u001b[0mtarget_list\u001b[0m\u001b[0;34m,\u001b[0m\u001b[0;34m\u001b[0m\u001b[0;34m\u001b[0m\u001b[0m\n\u001b[0;32m-> 1443\u001b[0;31m                                             run_metadata)\n\u001b[0m\u001b[1;32m   1444\u001b[0m \u001b[0;34m\u001b[0m\u001b[0m\n\u001b[1;32m   1445\u001b[0m   \u001b[0;32mdef\u001b[0m \u001b[0m_call_tf_sessionprun\u001b[0m\u001b[0;34m(\u001b[0m\u001b[0mself\u001b[0m\u001b[0;34m,\u001b[0m \u001b[0mhandle\u001b[0m\u001b[0;34m,\u001b[0m \u001b[0mfeed_dict\u001b[0m\u001b[0;34m,\u001b[0m \u001b[0mfetch_list\u001b[0m\u001b[0;34m)\u001b[0m\u001b[0;34m:\u001b[0m\u001b[0;34m\u001b[0m\u001b[0;34m\u001b[0m\u001b[0m\n",
            "\u001b[0;31mKeyboardInterrupt\u001b[0m: "
          ]
        }
      ]
    },
    {
      "cell_type": "code",
      "metadata": {
        "id": "mCh8jE9I5nqS",
        "colab_type": "code",
        "colab": {}
      },
      "source": [
        ""
      ],
      "execution_count": 0,
      "outputs": []
    },
    {
      "cell_type": "code",
      "metadata": {
        "colab_type": "code",
        "id": "WJ5e8Gyc5o2H",
        "colab": {}
      },
      "source": [
        "#train_loss = 0\n",
        "#expected_output_test = 0\n",
        "with tf.Session() as session:\n",
        "  #saved_path = saver.save(session, './saved_variable')\n",
        "  result = cross_validate(session, 5)\n",
        "  print('Cross-validation result: %s' % result)\n",
        "  print('Test accuracy: %f' % session.run(train_loss, feed_dict={alpharnn_t.input_layer: x_test_reg, expected_output_test: y_test_reg}))"
      ],
      "execution_count": 0,
      "outputs": []
    },
    {
      "cell_type": "code",
      "metadata": {
        "colab_type": "code",
        "id": "Tlqz-lbtFbqC",
        "colab": {}
      },
      "source": [
        "y_predicted_t = session.run(output, feed_dict={alpharnn_t.input_layer: x_test_reg})\n",
        "y_predicted_ar_t=np.array([0]*y_predicted.shape[0], dtype='float64')\n",
        "for i in range(y_predicted_t.shape[0]):\n",
        "     y_predicted_ar_t[i]=y_predicted_t[i][n_steps-1][0]\n"
      ],
      "execution_count": 0,
      "outputs": []
    },
    {
      "cell_type": "code",
      "metadata": {
        "id": "m38o9B-Qi6nj",
        "colab_type": "code",
        "colab": {}
      },
      "source": [
        "y_predicted_t = session.run(output, feed_dict={alpharnn_t.input_layer: x_train_reg})\n",
        "y_predicted_ar_train_t=np.array([0]*y_predicted.shape[0], dtype='float64')\n",
        "for i in range(y_predicted_t.shape[0]):\n",
        "     y_predicted_ar_train_t[i]=y_predicted_t[i][n_steps-1][0]"
      ],
      "execution_count": 0,
      "outputs": []
    },
    {
      "cell_type": "code",
      "metadata": {
        "id": "tnV3EgnAjMbl",
        "colab_type": "code",
        "colab": {}
      },
      "source": [
        "print(train_losses[0][1])"
      ],
      "execution_count": 0,
      "outputs": []
    },
    {
      "cell_type": "markdown",
      "metadata": {
        "colab_type": "text",
        "id": "ql_9wXf_63mc"
      },
      "source": [
        "## Diagnostics (visualize fitted values)"
      ]
    },
    {
      "cell_type": "code",
      "metadata": {
        "id": "sIpmxkpXiUMZ",
        "colab_type": "code",
        "colab": {}
      },
      "source": [
        ""
      ],
      "execution_count": 0,
      "outputs": []
    },
    {
      "cell_type": "code",
      "metadata": {
        "colab_type": "code",
        "id": "SaE699Ib63md",
        "colab": {}
      },
      "source": [
        ""
      ],
      "execution_count": 0,
      "outputs": []
    },
    {
      "cell_type": "code",
      "metadata": {
        "colab_type": "code",
        "id": "pRDaMODc63mf",
        "colab": {}
      },
      "source": [
        "\n",
        "# MFD: It would be good to visualize the amount of smoothing, but I get an error\n",
        "#alpha=session.run(alpharnn.alpha, feed_dict={alpharnn.input_layer: x_test_reg})"
      ],
      "execution_count": 0,
      "outputs": []
    },
    {
      "cell_type": "code",
      "metadata": {
        "colab_type": "code",
        "id": "QhKi2QAS63mi",
        "colab": {}
      },
      "source": [
        "#plt.plot(alpha_t[:,n_steps-1,1], 'red')\n",
        "#pplt.plot(y_test_reg.flatten(),'blue')"
      ],
      "execution_count": 0,
      "outputs": []
    },
    {
      "cell_type": "markdown",
      "metadata": {
        "colab_type": "text",
        "id": "G5XmMTka63ml"
      },
      "source": [
        "# Comparsion with Keras GRU, RNN, LSTM"
      ]
    },
    {
      "cell_type": "code",
      "metadata": {
        "colab_type": "code",
        "id": "CfFjBkGf63ml",
        "colab": {}
      },
      "source": [
        "from keras.models import Sequential\n",
        "from keras.layers import Dense\n",
        "from keras.layers import LSTM, GRU, SimpleRNN\n",
        "from keras import optimizers\n",
        "from keras.callbacks import EarlyStopping"
      ],
      "execution_count": 0,
      "outputs": []
    },
    {
      "cell_type": "code",
      "metadata": {
        "colab_type": "code",
        "id": "YNEhaAc963mr",
        "colab": {}
      },
      "source": [
        "x_train_reg = pd.concat(x_train_list, axis=1)\n",
        "x_train_reg = x_train_reg.iloc[:, col_ords]\n",
        "y_train_reg = df_train.loc[x_train_reg.index, [target]].values\n",
        "x_train_reg = np.reshape(x_train_reg.values, (x_train_reg.shape[0], np.int(x_train_reg.shape[1] / len(use_features)), len(use_features)))\n"
      ],
      "execution_count": 0,
      "outputs": []
    },
    {
      "cell_type": "code",
      "metadata": {
        "colab_type": "code",
        "id": "uI0GzyGv63mw",
        "colab": {}
      },
      "source": [
        "x_test_reg = pd.concat(x_test_list, axis=1)\n",
        "x_test_reg = x_test_reg.iloc[:, col_ords]\n",
        "y_test_reg = df_test.loc[x_test_reg.index, [target]].values\n",
        "x_test_reg = np.reshape(x_test_reg.values, (x_test_reg.shape[0], np.int(x_test_reg.shape[1]/len(use_features)), len(use_features)))"
      ],
      "execution_count": 0,
      "outputs": []
    },
    {
      "cell_type": "code",
      "metadata": {
        "colab_type": "code",
        "id": "v5uOHZWb63my",
        "colab": {}
      },
      "source": [
        "es = EarlyStopping(monitor='val_loss', mode='min', verbose=1, patience=5, min_delta=0.0001)\n",
        " \n",
        " "
      ],
      "execution_count": 0,
      "outputs": []
    },
    {
      "cell_type": "markdown",
      "metadata": {
        "colab_type": "text",
        "id": "mcheGBMhrlxZ"
      },
      "source": [
        "MFD: batch size must match that used for alpha_RNN when comparing LSTM\n",
        "\n"
      ]
    },
    {
      "cell_type": "code",
      "metadata": {
        "id": "uEAA2dgRV6fn",
        "colab_type": "code",
        "colab": {}
      },
      "source": [
        "def RNN_model2(n_units=10, l1_reg=0):\n",
        "    reg_model = Sequential()\n",
        "    reg_model.add(SimpleRNN(n_units, activation='relu', input_shape=(x_train_reg.shape[1], x_train_reg.shape[-1]), unroll=True))\n",
        "    reg_model.add(Dense(1, kernel_initializer='normal', kernel_regularizer=l1(l1_reg)))\n",
        "    #reg_model.add(Dropout(0.2))\n",
        "    reg_model.compile(loss='mean_squared_error', optimizer='adam')\n",
        "    return reg_model\n",
        "\n",
        "def GRU_model2(n_units = 10, l1_reg=0):\n",
        "    reg_model = Sequential()\n",
        "    reg_model.add(GRU(n_units, activation='relu', input_shape=(x_train_reg.shape[1], x_train_reg.shape[-1]), unroll=True))\n",
        "    reg_model.add(Dense(1, kernel_initializer='normal', kernel_regularizer=l1(l1_reg)))\n",
        "    #reg_model.add(Dropout(0.2))\n",
        "    reg_model.compile(loss='mean_squared_error', optimizer='adam')\n",
        "    return reg_model\n",
        "\n",
        "def LSTM_model2(n_units = 10, l1_reg=0):\n",
        "    reg_model = Sequential()\n",
        "    reg_model.add(LSTM(n_units, activation='relu', input_shape=(x_train_reg.shape[1], x_train_reg.shape[-1]), unroll=True))\n",
        "    #LPNorm.build_loss(p = float('inf'))\n",
        "    reg_model.add(Dense(1, kernel_initializer='normal', kernel_regularizer=l1(l1_reg)))\n",
        "    #reg_model.add(Dropout(0.2))\n",
        "    reg_model.compile(loss='mean_squared_error', optimizer='adam')\n",
        "    return reg_model\n"
      ],
      "execution_count": 0,
      "outputs": []
    },
    {
      "cell_type": "code",
      "metadata": {
        "id": "NYjfkg29fb5h",
        "colab_type": "code",
        "outputId": "0d36fa00-b8cd-4c57-f148-c78e193820b5",
        "colab": {
          "base_uri": "https://localhost:8080/",
          "height": 127
        }
      },
      "source": [
        "n_units = [1,2,5,10,20]\n",
        "l1_reg = [0]  #[0, 0.001]   #0.01, 0.1]\n",
        "#param_grid = dict(epochs=epochs,batch_size =batch_size)\n",
        "                  #n_neurons=n_neurons)\n",
        "                  #optimizers=optimizers,\n",
        "                  #n_neurons = n_neurons)\n",
        "#learn_rate = [0.001, 0.01, 0.1, 0.2, 0.3]\n",
        "#momentum = [0.0, 0.2, 0.4, 0.6, 0.8, 0.9]\n",
        "#weight_constraint = [1, 2, 3, 4, 5]\n",
        "#dropout_rate = [0.0, 0.1, 0.2, 0.3, 0.4, 0.5, 0.6, 0.7, 0.8, 0.9]\n",
        "tscv = TimeSeriesSplit(n_splits = 5)\n",
        "param_grid = dict(n_units=n_units,l1_reg=l1_reg) \n",
        "#X_train, X_test, y_train, y_test = train_test_split(x_train_reg, y_train_reg, test_size=0.5, random_state=0) \n",
        "print(\"Hyper parameter tuning for RNN...\")\n",
        "model = KerasRegressor(build_fn=RNN_model2, epochs=2000, batch_size=30000, verbose=2)\n",
        "grid = GridSearchCV(estimator=model,param_grid=param_grid, cv=tscv, n_jobs=-1, verbose=2)\n",
        "grid_result = grid.fit(x_train_reg,y_train_reg,callbacks=[es])\n",
        "print(\"Best: %f using %s\" % (grid_result.best_score_, grid_result.best_params_))\n",
        "means = grid_result.cv_results_['mean_test_score']\n",
        "stds = grid_result.cv_results_['std_test_score']\n",
        "params = grid_result.cv_results_['params']\n",
        "for mean, stdev, param in zip(means, stds, params):\n",
        "        print(\"%f (%f) with %r\" % (mean, stdev, param))\n",
        "# Manual CV\n",
        "nodes = grid_result.best_params_['n_units']\n",
        "#l1_reg = grid_result.best_params_['l1_reg']\n"
      ],
      "execution_count": 0,
      "outputs": [
        {
          "output_type": "stream",
          "text": [
            "Hyper parameter tuning for RNN...\n",
            "Fitting 5 folds for each of 6 candidates, totalling 30 fits\n"
          ],
          "name": "stdout"
        },
        {
          "output_type": "stream",
          "text": [
            "[Parallel(n_jobs=-1)]: Using backend LokyBackend with 2 concurrent workers.\n",
            "/usr/local/lib/python3.6/dist-packages/joblib/externals/loky/process_executor.py:706: UserWarning: A worker stopped while some jobs were given to the executor. This can be caused by a too short worker timeout or by a memory leak.\n",
            "  \"timeout or by a memory leak.\", UserWarning\n"
          ],
          "name": "stderr"
        }
      ]
    },
    {
      "cell_type": "code",
      "metadata": {
        "id": "hBGxM50pkJ6j",
        "colab_type": "code",
        "colab": {}
      },
      "source": [
        "hidden_size = nodes\n",
        "rnn_model = Sequential()\n",
        "rnn_model.add(SimpleRNN(hidden_size, input_shape=(x_train_reg.shape[1], x_train_reg.shape[-1])))\n",
        "rnn_model.add(Dense(1))\n",
        "rnn_model.compile(loss='mean_squared_error', optimizer='adam')\n",
        "\n",
        "rnn_model.fit(x_train_reg, y_train_reg, epochs=2000, batch_size=30000, callbacks=[es])"
      ],
      "execution_count": 0,
      "outputs": []
    },
    {
      "cell_type": "code",
      "metadata": {
        "id": "forKCUkvmjV1",
        "colab_type": "code",
        "colab": {}
      },
      "source": [
        "# predict out of sample\n",
        "hidden_size = nodes # optimal number of nodes\n",
        "rnn_model = RNN_model2(hidden_size,l1_reg)\n",
        "rnn_fit = rnn_model.fit(x_test_reg,y_test_reg, epochs=2000, batch_size=30000, callbacks=[es])\n",
        "rnn_pred_test = rnn_model.predict(x_test_reg,verbose=1)\n",
        "mse = mean_squared_error(y_test_reg[:,0],rnn_pred_test[:,0])\n",
        "print(\"RNN test data mse = \" + str(mse))\n",
        "print(\"RNN test std mse = \" + str(np.sqrt(mse)))\n",
        "rnn_model.summary()"
      ],
      "execution_count": 0,
      "outputs": []
    },
    {
      "cell_type": "code",
      "metadata": {
        "id": "sxV15KeHkiQ3",
        "colab_type": "code",
        "colab": {}
      },
      "source": [
        "#tscv = TimeSeriesSplit(n_splits = 5)\n",
        "#param_grid = dict(n_units=n_units,l1_reg=l1_reg) \n",
        "#X_train, X_test, y_train, y_test = train_test_split(x_train_reg, y_train_reg, test_size=0.5, random_state=0) \n",
        "print(\"Hyper parameter tuning for  GRU...\")\n",
        "model = KerasRegressor(build_fn=GRU_model2, epochs=2000, batch_size=30000, verbose=2)\n",
        "grid = GridSearchCV(estimator=model,param_grid=param_grid, cv=tscv, n_jobs=-1, verbose=2)\n",
        "grid_result = grid.fit(x_train_reg,y_train_reg,callbacks=[es])\n",
        "print(\"Best: %f using %s\" % (grid_result.best_score_, grid_result.best_params_))\n",
        "means = grid_result.cv_results_['mean_test_score']\n",
        "stds = grid_result.cv_results_['std_test_score']\n",
        "params = grid_result.cv_results_['params']\n",
        "for mean, stdev, param in zip(means, stds, params):\n",
        "        print(\"%f (%f) with %r\" % (mean, stdev, param))\n",
        "# Manual CV\n",
        "nodes_gru = grid_result.best_params_['n_units']\n",
        "#l1_reg = grid_result.best_params_['l1_reg']"
      ],
      "execution_count": 0,
      "outputs": []
    },
    {
      "cell_type": "code",
      "metadata": {
        "id": "p2QwpXJ3kwLh",
        "colab_type": "code",
        "colab": {}
      },
      "source": [
        "hidden_size_gru = nodes_gru\n",
        "gru_model = Sequential()\n",
        "gru_model.add(GRU(hidden_size_gru, input_shape=(x_train_reg.shape[1], x_train_reg.shape[-1])))\n",
        "gru_model.add(Dense(1))\n",
        "gru_model.compile(loss='mean_squared_error', optimizer='adam')\n",
        "\n",
        "rnn_model.fit(x_train_reg, y_train_reg, epochs=2000, batch_size=30000, callbacks=[es])"
      ],
      "execution_count": 0,
      "outputs": []
    },
    {
      "cell_type": "code",
      "metadata": {
        "id": "ZTBV_nqunE92",
        "colab_type": "code",
        "colab": {}
      },
      "source": [
        "gru_model = GRU_model2(hidden_size_gru,l1_reg)\n",
        "gru_fit = gru_model.fit(x_test_reg,y_test_reg, epochs=2000, batch_size=30000, callbacks=[es])\n",
        "gru_pred_test = gru_model.predict(x_test_reg,verbose=1)\n",
        "mse = mean_squared_error(y_test_reg[:,0],gru_pred_test[:,0])\n",
        "print(\"GRU test data mse = \" + str(mse))\n",
        "print(\"GRU test std mse =  \" + str(np.math.sqrt(mse)))\n",
        "gru_model.summary()"
      ],
      "execution_count": 0,
      "outputs": []
    },
    {
      "cell_type": "code",
      "metadata": {
        "id": "-wFIeKAZk2Ob",
        "colab_type": "code",
        "colab": {}
      },
      "source": [
        "#tscv = TimeSeriesSplit(n_splits = 5)\n",
        "#param_grid = dict(n_units=n_units,l1_reg=l1_reg) \n",
        "#X_train, X_test, y_train, y_test = train_test_split(x_train_reg, y_train_reg, test_size=0.5, random_state=0) \n",
        "print(\"Hyper parameter tuning for LSTM...\")\n",
        "model = KerasRegressor(build_fn=LSTM_model2, epochs=2000, batch_size=30000, verbose=2)\n",
        "grid = GridSearchCV(estimator=model,param_grid=param_grid, cv=tscv, n_jobs=-1, verbose=2)\n",
        "grid_result = grid.fit(x_train_reg,y_train_reg,callbacks=[es])\n",
        "print(\"Best: %f using %s\" % (grid_result.best_score_, grid_result.best_params_))\n",
        "means = grid_result.cv_results_['mean_test_score']\n",
        "stds = grid_result.cv_results_['std_test_score']\n",
        "params = grid_result.cv_results_['params']\n",
        "for mean, stdev, param in zip(means, stds, params):\n",
        "        print(\"%f (%f) with %r\" % (mean, stdev, param))\n",
        "# Manual CV\n",
        "nodes_lstm = grid_result.best_params_['n_units']\n",
        "#l1_reg = grid_result.best_params_['l1_reg']"
      ],
      "execution_count": 0,
      "outputs": []
    },
    {
      "cell_type": "code",
      "metadata": {
        "id": "cjv9fo91k7TM",
        "colab_type": "code",
        "colab": {}
      },
      "source": [
        "hidden_size_lstm = nodes_lstm\n",
        "lstm_model = Sequential()\n",
        "lstm_model.add(LSTM(hidden_size_lstm, input_shape=(x_train_reg.shape[1], x_train_reg.shape[-1])))\n",
        "lstm_model.add(Dense(1))\n",
        "lstm_model.compile(loss='mean_squared_error', optimizer='adam')\n",
        "\n",
        "lstm_model.fit(x_train_reg, y_train_reg, epochs=2000, batch_size=30000, callbacks=[es])"
      ],
      "execution_count": 0,
      "outputs": []
    },
    {
      "cell_type": "code",
      "metadata": {
        "id": "NtAS_qKLm1lw",
        "colab_type": "code",
        "colab": {}
      },
      "source": [
        "# predict ouf of sample\n",
        "lstm_model = LSTM_model2(hidden_size,l1_reg)\n",
        "lstm_fit = lstm_model.fit(x_test_reg,y_test_reg, epochs=2000, batch_size=30000, callbacks=[es])\n",
        "lstm_pred_test = lstm_model.predict(x_test_reg,verbose=1)\n",
        "mse = mean_squared_error(y_test_reg[:,0],lstm_pred_test[:,0])\n",
        "print(\"LSTM test data mse = \" + str(mse))\n",
        "print(\"LSTM test std mse =  \" + str(np.math.sqrt(mse)))\n",
        "#score = cross_val_score(y_test_reg[:,0],g\n",
        "lstm_model.summary()\n"
      ],
      "execution_count": 0,
      "outputs": []
    },
    {
      "cell_type": "code",
      "metadata": {
        "colab_type": "code",
        "outputId": "f16691aa-3ce5-4777-bcb8-05dc0f35a2f2",
        "id": "0_WUsfITisdk",
        "colab": {
          "base_uri": "https://localhost:8080/",
          "height": 1000
        }
      },
      "source": [
        "# Need to cross-validate for the best number of hidden units (i.e. hidden_size)\n",
        "\n",
        "#print(\"Hyper parameter tuning for GRU...\")        \n",
        "#model = KerasRegressor(build_fn=GRU_model2, epochs=1500, batch_size=100, verbose=1)\n",
        "#grid = GridSearchCV(estimator=model,param_grid=param_grid, n_jobs=-1, cv=10)\n",
        "#grid_result2 = grid.fit(X_train,y_train,callbacks=[es])\n",
        "#print(\"Best: %f using %s\" % (grid_result2.best_score_, grid_result2.best_params_))\n",
        "#means = grid_result2.cv_results_['mean_test_score']\n",
        "#stds = grid_result2.cv_results_['std_test_score']\n",
        "#params = grid_result2.cv_results_['params']\n",
        "#for mean, stdev, param in zip(means, stds, params):\n",
        "#        print(\"%f (%f) with %r\" % (mean, stdev, param))\n",
        "        \n",
        "#print(\"Hyper parameter tuning for LSTM...\")\n",
        "#model = KerasRegressor(build_fn=LSTM_model2, epochs=1500, batch_size=100, verbose=1)\n",
        "#grid = GridSearchCV(estimator=model,param_grid=param_grid, n_jobs=-1, cv=10)\n",
        "#grid_result3 = grid.fit(X_train,y_train,callbacks=[es])\n",
        "#print(\"Best: %f using %s\" % (grid_result3.best_score_, grid_result3.best_params_))\n",
        "#means = grid_result3.cv_results_['mean_test_score']\n",
        "#stds = grid_result3.cv_results_['std_test_score']\n",
        "#params = grid_result3.cv_results_['params']\n",
        "#for mean, stdev, param in zip(means, stds, params):\n",
        "#        print(\"%f (%f) with %r\" % (mean, stdev, param))       \n",
        "                \n",
        "#nodes = 10# grid_result.best_params_['n_units']\n",
        "#epochs_rnn = grid_result.best_params_['epochs']\n",
        "#l1_reg = grid_result.best_params_['l1_reg']\n",
        "#batch_size_rnn = grid_result.best_params_['batch_size']\n",
        "\n",
        "#nodes_gru = grid_result2.best_params_['nodes']\n",
        "#epochs_gru = grid_result2.best_params_['epochs']\n",
        "#l1_reg_gru = grid_result2.best_params_['l1_reg']\n",
        "#batch_size_gru = grid_result2.best_params_['batch_size']\n",
        "\n",
        "#nodes_lstm = grid_result3.best_params_['nodes']\n",
        "#epochs_lstm = grid_result3.best_params_['epochs']\n",
        "#l1_reg_lstm = grid_result3.best_params_['l1_reg']\n",
        "#batch_size_lstm = grid_result3.best_params_['batch_size']\n",
        "#print(\"Hyper parameter tuning for RNN...\")\n",
        "#model = KerasRegressor(build_fn=RNN_model2, epochs=2000, batch_size=100, verbose=1)\n",
        "#grid = GridSearchCV(estimator=model,param_grid=param_grid, n_jobs=-1, cv=10)\n",
        "#grid_result = grid.fit(X_train,y_train,callbacks=[es])\n",
        "#print(\"Best: %f using %s\" % (grid_result.best_score_, grid_result.best_params_))\n",
        "#means = grid_result.cv_results_['mean_test_score']\n",
        "#stds = grid_result.cv_results_['std_test_score']\n",
        "#params = grid_result.cv_results_['params']\n",
        "#for mean, stdev, param in zip(means, stds, params):\n",
        "#        print(\"%f (%f) with %r\" % (mean, stdev, param))\n",
        "# Manual CV\n",
        "\n",
        "#nodes = grid_result.best_params_['n_units']\n",
        "#l1_reg = grid_result.best_params['l1_reg']\n",
        "#n_units = [10, 20, 30, 40, 50, 60, 100]\n",
        "#l1_reg = [0]  #[0, 0.001]   #0.01, 0.1]\n",
        "#param_grid = dict(epochs=epochs,batch_size =batch_size)\n",
        "                  #n_neurons=n_neurons)\n",
        "                  #optimizers=optimizers,\n",
        "                  #n_neurons = n_neurons)\n",
        "#learn_rate = [0.001, 0.01, 0.1, 0.2, 0.3]\n",
        "#momentum = [0.0, 0.2, 0.4, 0.6, 0.8, 0.9]\n",
        "#weight_constraint = [1, 2, 3, 4, 5]\n",
        "#dropout_rate = [0.0, 0.1, 0.2, 0.3, 0.4, 0.5, 0.6, 0.7, 0.8, 0.9]\n",
        "#param_grid = dict(n_units=n_units,l1_reg=l1_reg) \n",
        "#n_splits = 10\n",
        "#kf = KFold(n_splits)\n",
        "#kf.get_n_splits(x_train_reg)\n",
        "#MSE_train = 0\n",
        "#MSE_test = 0\n",
        "#TimeSeriesSplit(max_train_size=None, n_splits=10)\n",
        "#tscv = TimeSeriesSplit()\n",
        "#for train_fold, test_fold in tscv.split(x_train_reg):\n",
        "#    x_train, x_test = x_train_reg[train_fold], x_train_reg[test_fold]\n",
        "#    y_train, y_test = y_train_reg[train_fold], y_train_reg[test_fold]\n",
        "#    rnn_model = RNN_model2(nodes,l1_reg)\n",
        "   \n",
        "#    rnn_fit = rnn_model.fit(x_train,y_train, epochs=500, batch_size=100, callbacks=[es])\n",
        "#    rnn_pred_train = rnn_model.predict(x_train, verbose=0)\n",
        "#    rnn_pred_test = rnn_model.predict(x_test, verbose=0) \n",
        "\n",
        "    # hyper parameter turning\n",
        "    #MSE_train = mean_squared_error(df_train[use_feature][n_steps:], rnn_pred_train[:,0])\n",
        "#    MSE_train += mean_squared_error(y_train[:,0], rnn_pred_train[:,0])\n",
        "#    MSE_test += mean_squared_error(y_test[:,0], rnn_pred_test[:,0])\n",
        "    #MSE_test = mean_squared_error(df_test[use_feature][n_steps:], rnn_pred_test[:,0])\n",
        "    \n",
        "#rnn_model.summary()\n",
        "#MSE_train_ave = MSE_train/n_splits\n",
        "#MSE_train_std = np.math.sqrt(MSE_train/(n_splits-1))\n",
        "#MSE_test_ave = MSE_test/n_splits\n",
        "#MSE_test_std = np.math.sqrt(MSE_test/(n_splits-1))\n",
        "#print(\"MSE_train_rnn_ave = \" + str(MSE_train_ave))\n",
        "#print(\"MSE_test_rnn_ave = \" + str(MSE_test_ave))\n",
        "#print(\"MSE_train_rnn_std = \" + str(MSE_train_std))\n",
        "#print(\"MSE_test_rnn_std = \" + str(MSE_test_std))\n",
        "#print(\"p = \" + str(p))\n",
        "\n",
        "#rnn_model = RNN_model2(nodes,l1_reg)\n",
        "#rnn_fit = rnn_model.fit(x_test_reg,y_test_reg, epochs=500, batch_size=100, callbacks=[es])\n",
        "#rnn_pred_test = rnn_model.predict(x_test_reg,verbose=1)\n",
        "#mse = mean_squared_error(y_test_reg[:,0],rnn_pred_test[:,0])\n",
        "#print(\"RNN test data mse = \" + str(mse))\n",
        "#print(\"RNN test std mse = \" + str(np.sqrt(mse)))\n",
        "#rnn_model.summary()\n",
        "\n",
        "\n",
        "\n",
        "#lstm_model = Sequential()\n",
        "#lstm_model.add(LSTM(hidden_size, input_shape=(x_train_reg.shape[1], x_train_reg.shape[-1])))\n",
        "#lstm_model.add(Dense(1))\n",
        "#lstm_model.compile(loss='mean_squared_error', optimizer='adam')\n",
        "\n",
        "#lstm_model.fit(x_train_reg, y_train_reg, epochs=1500, batch_size=100, callbacks=[es])"
      ],
      "execution_count": 0,
      "outputs": [
        {
          "output_type": "stream",
          "text": [
            "Epoch 1/500\n",
            "56075/56075 [==============================] - 2s 27us/step - loss: 3.0704\n",
            "Epoch 2/500\n",
            "56075/56075 [==============================] - 1s 18us/step - loss: 0.1056\n",
            "Epoch 3/500\n",
            "56075/56075 [==============================] - 1s 18us/step - loss: 0.0871\n",
            "Epoch 4/500\n",
            "56075/56075 [==============================] - 1s 18us/step - loss: 0.0736\n",
            "Epoch 5/500\n",
            "56075/56075 [==============================] - 1s 18us/step - loss: 0.0649\n",
            "Epoch 6/500\n",
            "56075/56075 [==============================] - 1s 18us/step - loss: 0.0593\n",
            "Epoch 7/500\n",
            "56075/56075 [==============================] - 1s 18us/step - loss: 0.0532\n",
            "Epoch 8/500\n",
            "56075/56075 [==============================] - 1s 17us/step - loss: 0.0503\n",
            "Epoch 9/500\n",
            "56075/56075 [==============================] - 1s 17us/step - loss: 0.0468\n",
            "Epoch 10/500\n",
            "56075/56075 [==============================] - 1s 18us/step - loss: 0.0461\n",
            "Epoch 11/500\n",
            "56075/56075 [==============================] - 1s 18us/step - loss: 0.0449\n",
            "Epoch 12/500\n",
            "56075/56075 [==============================] - 1s 17us/step - loss: 0.0442\n",
            "Epoch 13/500\n",
            "56075/56075 [==============================] - 1s 18us/step - loss: 0.0439\n",
            "Epoch 14/500\n",
            "56075/56075 [==============================] - 1s 18us/step - loss: 0.0439\n",
            "Epoch 15/500\n",
            "56075/56075 [==============================] - 1s 17us/step - loss: 0.0434\n",
            "Epoch 16/500\n",
            "56075/56075 [==============================] - 1s 17us/step - loss: 0.0439\n",
            "Epoch 17/500\n",
            "56075/56075 [==============================] - 1s 17us/step - loss: 0.0436\n",
            "Epoch 18/500\n",
            "56075/56075 [==============================] - 1s 17us/step - loss: 0.0430\n",
            "Epoch 19/500\n",
            "56075/56075 [==============================] - 1s 18us/step - loss: 0.0433\n",
            "Epoch 20/500\n",
            "56075/56075 [==============================] - 1s 17us/step - loss: 0.0432\n",
            "Epoch 21/500\n",
            "56075/56075 [==============================] - 1s 18us/step - loss: 0.0438\n",
            "Epoch 22/500\n",
            "56075/56075 [==============================] - 1s 18us/step - loss: 0.0438\n",
            "Epoch 23/500\n",
            "56075/56075 [==============================] - 1s 17us/step - loss: 0.0435\n",
            "Epoch 00023: early stopping\n",
            "Epoch 1/500\n",
            "112146/112146 [==============================] - 2s 22us/step - loss: 2.6552\n",
            "Epoch 2/500\n",
            "112146/112146 [==============================] - 2s 18us/step - loss: 0.0860\n",
            "Epoch 3/500\n",
            "112146/112146 [==============================] - 2s 18us/step - loss: 0.0669\n",
            "Epoch 4/500\n",
            "112146/112146 [==============================] - 2s 18us/step - loss: 0.0555\n",
            "Epoch 5/500\n",
            "112146/112146 [==============================] - 2s 17us/step - loss: 0.0487\n",
            "Epoch 6/500\n",
            "112146/112146 [==============================] - 2s 17us/step - loss: 0.0455\n",
            "Epoch 7/500\n",
            "112146/112146 [==============================] - 2s 17us/step - loss: 0.0454\n",
            "Epoch 8/500\n",
            "112146/112146 [==============================] - 2s 17us/step - loss: 0.0450\n",
            "Epoch 9/500\n",
            "112146/112146 [==============================] - 2s 18us/step - loss: 0.0448\n",
            "Epoch 10/500\n",
            "112146/112146 [==============================] - 2s 18us/step - loss: 0.0448\n",
            "Epoch 11/500\n",
            "112146/112146 [==============================] - 2s 17us/step - loss: 0.0448\n",
            "Epoch 12/500\n",
            "112146/112146 [==============================] - 2s 18us/step - loss: 0.0443\n",
            "Epoch 13/500\n",
            "112146/112146 [==============================] - 2s 17us/step - loss: 0.0444\n",
            "Epoch 14/500\n",
            "112146/112146 [==============================] - 2s 18us/step - loss: 0.0438\n",
            "Epoch 15/500\n",
            "112146/112146 [==============================] - 2s 17us/step - loss: 0.0439\n",
            "Epoch 16/500\n",
            "112146/112146 [==============================] - 2s 17us/step - loss: 0.0446\n",
            "Epoch 17/500\n",
            "112146/112146 [==============================] - 2s 18us/step - loss: 0.0440\n",
            "Epoch 18/500\n",
            "112146/112146 [==============================] - 2s 17us/step - loss: 0.0438\n",
            "Epoch 19/500\n",
            "112146/112146 [==============================] - 2s 17us/step - loss: 0.0439\n",
            "Epoch 00019: early stopping\n",
            "Epoch 1/500\n",
            "168217/168217 [==============================] - 4s 21us/step - loss: 1.6376\n",
            "Epoch 2/500\n",
            "168217/168217 [==============================] - 3s 18us/step - loss: 0.0925\n",
            "Epoch 3/500\n",
            "168217/168217 [==============================] - 3s 18us/step - loss: 0.0679\n",
            "Epoch 4/500\n",
            "168217/168217 [==============================] - 3s 18us/step - loss: 0.0535\n",
            "Epoch 5/500\n",
            "168217/168217 [==============================] - 3s 18us/step - loss: 0.0472\n",
            "Epoch 6/500\n",
            "168217/168217 [==============================] - 3s 18us/step - loss: 0.0462\n",
            "Epoch 7/500\n",
            "168217/168217 [==============================] - 3s 18us/step - loss: 0.0455\n",
            "Epoch 8/500\n",
            "168217/168217 [==============================] - 3s 18us/step - loss: 0.0451\n",
            "Epoch 9/500\n",
            "168217/168217 [==============================] - 3s 18us/step - loss: 0.0446\n",
            "Epoch 10/500\n",
            "168217/168217 [==============================] - 3s 18us/step - loss: 0.0444\n",
            "Epoch 11/500\n",
            "168217/168217 [==============================] - 3s 18us/step - loss: 0.0443\n",
            "Epoch 12/500\n",
            "168217/168217 [==============================] - 3s 17us/step - loss: 0.0443\n",
            "Epoch 13/500\n",
            "168217/168217 [==============================] - 3s 18us/step - loss: 0.0440\n",
            "Epoch 14/500\n",
            "168217/168217 [==============================] - 3s 18us/step - loss: 0.0439\n",
            "Epoch 15/500\n",
            "168217/168217 [==============================] - 3s 18us/step - loss: 0.0437\n",
            "Epoch 16/500\n",
            "168217/168217 [==============================] - 3s 18us/step - loss: 0.0436\n",
            "Epoch 17/500\n",
            "168217/168217 [==============================] - 3s 18us/step - loss: 0.0436\n",
            "Epoch 18/500\n",
            "168217/168217 [==============================] - 3s 18us/step - loss: 0.0434\n",
            "Epoch 19/500\n",
            "168217/168217 [==============================] - 3s 18us/step - loss: 0.0433\n",
            "Epoch 20/500\n",
            "168217/168217 [==============================] - 3s 18us/step - loss: 0.0432\n",
            "Epoch 21/500\n",
            "168217/168217 [==============================] - 3s 18us/step - loss: 0.0434\n",
            "Epoch 22/500\n",
            "168217/168217 [==============================] - 3s 18us/step - loss: 0.0433\n",
            "Epoch 23/500\n",
            "168217/168217 [==============================] - 3s 18us/step - loss: 0.0431\n",
            "Epoch 24/500\n",
            "168217/168217 [==============================] - 3s 18us/step - loss: 0.0430\n",
            "Epoch 25/500\n",
            "168217/168217 [==============================] - 3s 18us/step - loss: 0.0429\n",
            "Epoch 26/500\n",
            "168217/168217 [==============================] - 3s 18us/step - loss: 0.0431\n",
            "Epoch 27/500\n",
            "168217/168217 [==============================] - 3s 18us/step - loss: 0.0431\n",
            "Epoch 28/500\n",
            "168217/168217 [==============================] - 3s 18us/step - loss: 0.0431\n",
            "Epoch 29/500\n",
            "168217/168217 [==============================] - 3s 18us/step - loss: 0.0431\n",
            "Epoch 00029: early stopping\n",
            "Epoch 1/500\n",
            "224288/224288 [==============================] - 5s 21us/step - loss: 0.6371\n",
            "Epoch 2/500\n",
            "224288/224288 [==============================] - 4s 18us/step - loss: 0.0699\n",
            "Epoch 3/500\n",
            "224288/224288 [==============================] - 4s 18us/step - loss: 0.0562\n",
            "Epoch 4/500\n",
            "224288/224288 [==============================] - 4s 17us/step - loss: 0.0473\n",
            "Epoch 5/500\n",
            "224288/224288 [==============================] - 4s 18us/step - loss: 0.0447\n",
            "Epoch 6/500\n",
            "224288/224288 [==============================] - 4s 17us/step - loss: 0.0449\n",
            "Epoch 7/500\n",
            "224288/224288 [==============================] - 4s 17us/step - loss: 0.0448\n",
            "Epoch 8/500\n",
            "224288/224288 [==============================] - 4s 18us/step - loss: 0.0443\n",
            "Epoch 9/500\n",
            "224288/224288 [==============================] - 4s 18us/step - loss: 0.0440\n",
            "Epoch 10/500\n",
            "224288/224288 [==============================] - 4s 18us/step - loss: 0.0436\n",
            "Epoch 11/500\n",
            "224288/224288 [==============================] - 4s 18us/step - loss: 0.0434\n",
            "Epoch 12/500\n",
            "224288/224288 [==============================] - 4s 17us/step - loss: 0.0433\n",
            "Epoch 13/500\n",
            "224288/224288 [==============================] - 4s 17us/step - loss: 0.0435\n",
            "Epoch 14/500\n",
            "224288/224288 [==============================] - 4s 18us/step - loss: 0.0428\n",
            "Epoch 15/500\n",
            "224288/224288 [==============================] - 4s 17us/step - loss: 0.0426\n",
            "Epoch 16/500\n",
            "224288/224288 [==============================] - 4s 18us/step - loss: 0.0426\n",
            "Epoch 17/500\n",
            "224288/224288 [==============================] - 4s 17us/step - loss: 0.0427\n",
            "Epoch 18/500\n",
            "224288/224288 [==============================] - 4s 18us/step - loss: 0.0425\n",
            "Epoch 19/500\n",
            "224288/224288 [==============================] - 4s 17us/step - loss: 0.0422\n",
            "Epoch 20/500\n",
            "224288/224288 [==============================] - 4s 18us/step - loss: 0.0425\n",
            "Epoch 21/500\n",
            "224288/224288 [==============================] - 4s 17us/step - loss: 0.0422\n",
            "Epoch 22/500\n",
            "224288/224288 [==============================] - 4s 17us/step - loss: 0.0420\n",
            "Epoch 23/500\n",
            "224288/224288 [==============================] - 4s 17us/step - loss: 0.0422\n",
            "Epoch 24/500\n",
            "224288/224288 [==============================] - 4s 18us/step - loss: 0.0421\n",
            "Epoch 25/500\n",
            "224288/224288 [==============================] - 4s 17us/step - loss: 0.0419\n",
            "Epoch 26/500\n",
            "224288/224288 [==============================] - 4s 18us/step - loss: 0.0422\n",
            "Epoch 27/500\n",
            "224288/224288 [==============================] - 4s 17us/step - loss: 0.0420\n",
            "Epoch 00027: early stopping\n",
            "Epoch 1/500\n",
            "280359/280359 [==============================] - 6s 20us/step - loss: 1.5852\n",
            "Epoch 2/500\n",
            "280359/280359 [==============================] - 5s 18us/step - loss: 0.0595\n",
            "Epoch 3/500\n",
            "280359/280359 [==============================] - 5s 18us/step - loss: 0.0466\n",
            "Epoch 4/500\n",
            "280359/280359 [==============================] - 5s 18us/step - loss: 0.0450\n",
            "Epoch 5/500\n",
            "280359/280359 [==============================] - 5s 18us/step - loss: 0.0442\n",
            "Epoch 6/500\n",
            "280359/280359 [==============================] - 5s 18us/step - loss: 0.0438\n",
            "Epoch 7/500\n",
            "280359/280359 [==============================] - 5s 18us/step - loss: 0.0441\n",
            "Epoch 8/500\n",
            "280359/280359 [==============================] - 5s 18us/step - loss: 0.0432\n",
            "Epoch 9/500\n",
            "280359/280359 [==============================] - 5s 18us/step - loss: 0.0432\n",
            "Epoch 10/500\n",
            "280359/280359 [==============================] - 5s 18us/step - loss: 0.0435\n",
            "Epoch 11/500\n",
            "280359/280359 [==============================] - 5s 18us/step - loss: 0.0429\n",
            "Epoch 12/500\n",
            "280359/280359 [==============================] - 5s 18us/step - loss: 0.0428\n",
            "Epoch 13/500\n",
            "280359/280359 [==============================] - 5s 18us/step - loss: 0.0427\n",
            "Epoch 14/500\n",
            "280359/280359 [==============================] - 5s 18us/step - loss: 0.0422\n",
            "Epoch 15/500\n",
            "280359/280359 [==============================] - 5s 18us/step - loss: 0.0427\n",
            "Epoch 16/500\n",
            "280359/280359 [==============================] - 5s 18us/step - loss: 0.0426\n",
            "Epoch 17/500\n",
            "280359/280359 [==============================] - 5s 18us/step - loss: 0.0423\n",
            "Epoch 18/500\n",
            "280359/280359 [==============================] - 5s 18us/step - loss: 0.0422\n",
            "Epoch 19/500\n",
            "280359/280359 [==============================] - 5s 18us/step - loss: 0.0423\n",
            "Epoch 00019: early stopping\n",
            "Model: \"sequential_6\"\n",
            "_________________________________________________________________\n",
            "Layer (type)                 Output Shape              Param #   \n",
            "=================================================================\n",
            "simple_rnn_6 (SimpleRNN)     (None, 40)                1680      \n",
            "_________________________________________________________________\n",
            "dense_6 (Dense)              (None, 1)                 41        \n",
            "=================================================================\n",
            "Total params: 1,721\n",
            "Trainable params: 1,721\n",
            "Non-trainable params: 0\n",
            "_________________________________________________________________\n",
            "MSE_train_rnn_ave = 0.021868377299178295\n",
            "MSE_test_rnn_ave = 0.02206913342347862\n",
            "MSE_train_rnn_std = 0.1558787894457966\n",
            "MSE_test_rnn_std = 0.15659265423199356\n",
            "p = 30\n",
            "Epoch 1/500\n",
            "84101/84101 [==============================] - 2s 28us/step - loss: 5.5866\n",
            "Epoch 2/500\n",
            "84101/84101 [==============================] - 2s 18us/step - loss: 0.1023\n",
            "Epoch 3/500\n",
            "84101/84101 [==============================] - 2s 18us/step - loss: 0.0850\n",
            "Epoch 4/500\n",
            "84101/84101 [==============================] - 2s 18us/step - loss: 0.0712\n",
            "Epoch 5/500\n",
            "84101/84101 [==============================] - 2s 18us/step - loss: 0.0626\n",
            "Epoch 6/500\n",
            "84101/84101 [==============================] - 2s 18us/step - loss: 0.0593\n",
            "Epoch 7/500\n",
            "84101/84101 [==============================] - 2s 18us/step - loss: 0.0532\n",
            "Epoch 8/500\n",
            "84101/84101 [==============================] - 2s 18us/step - loss: 0.0505\n",
            "Epoch 9/500\n",
            "84101/84101 [==============================] - 2s 18us/step - loss: 0.0479\n",
            "Epoch 10/500\n",
            "84101/84101 [==============================] - 2s 18us/step - loss: 0.0478\n",
            "Epoch 11/500\n",
            "84101/84101 [==============================] - 2s 18us/step - loss: 0.0467\n",
            "Epoch 12/500\n",
            "84101/84101 [==============================] - 2s 18us/step - loss: 0.0476\n",
            "Epoch 13/500\n",
            "84101/84101 [==============================] - 2s 18us/step - loss: 0.0745\n",
            "Epoch 14/500\n",
            "84101/84101 [==============================] - 2s 18us/step - loss: 0.0537\n",
            "Epoch 15/500\n",
            "84101/84101 [==============================] - 2s 18us/step - loss: 0.0498\n",
            "Epoch 16/500\n",
            "84101/84101 [==============================] - 2s 19us/step - loss: 0.0476\n",
            "Epoch 00016: early stopping\n",
            "84101/84101 [==============================] - 2s 22us/step\n",
            "RNN test data mse = 0.074189774514695\n",
            "RNN test std mse = 0.27237799932207263\n",
            "Model: \"sequential_7\"\n",
            "_________________________________________________________________\n",
            "Layer (type)                 Output Shape              Param #   \n",
            "=================================================================\n",
            "simple_rnn_7 (SimpleRNN)     (None, 40)                1680      \n",
            "_________________________________________________________________\n",
            "dense_7 (Dense)              (None, 1)                 41        \n",
            "=================================================================\n",
            "Total params: 1,721\n",
            "Trainable params: 1,721\n",
            "Non-trainable params: 0\n",
            "_________________________________________________________________\n"
          ],
          "name": "stdout"
        }
      ]
    },
    {
      "cell_type": "code",
      "metadata": {
        "colab_type": "code",
        "id": "GqyBHlF-hhzv",
        "outputId": "f16691aa-3ce5-4777-bcb8-05dc0f35a2f2",
        "colab": {
          "base_uri": "https://localhost:8080/",
          "height": 1000
        }
      },
      "source": [
        "# Need to cross-validate for the best number of hidden units (i.e. hidden_size)\n",
        "\n",
        "#print(\"Hyper parameter tuning for GRU...\")        \n",
        "#model = KerasRegressor(build_fn=GRU_model2, epochs=1500, batch_size=100, verbose=1)\n",
        "#grid = GridSearchCV(estimator=model,param_grid=param_grid, n_jobs=-1, cv=10)\n",
        "#grid_result2 = grid.fit(X_train,y_train,callbacks=[es])\n",
        "#print(\"Best: %f using %s\" % (grid_result2.best_score_, grid_result2.best_params_))\n",
        "#means = grid_result2.cv_results_['mean_test_score']\n",
        "#stds = grid_result2.cv_results_['std_test_score']\n",
        "#params = grid_result2.cv_results_['params']\n",
        "#for mean, stdev, param in zip(means, stds, params):\n",
        "#       print(\"%f (%f) with %r\" % (mean, stdev, param))\n",
        "        \n",
        "#print(\"Hyper parameter tuning for LSTM...\")\n",
        "#model = KerasRegressor(build_fn=LSTM_model2, epochs=1500, batch_size=100, verbose=1)\n",
        "#grid = GridSearchCV(estimator=model,param_grid=param_grid, n_jobs=-1, cv=10)\n",
        "#grid_result3 = grid.fit(X_train,y_train,callbacks=[es])\n",
        "#print(\"Best: %f using %s\" % (grid_result3.best_score_, grid_result3.best_params_))\n",
        "#means = grid_result3.cv_results_['mean_test_score']\n",
        "#stds = grid_result3.cv_results_['std_test_score']\n",
        "#params = grid_result3.cv_results_['params']\n",
        "#for mean, stdev, param in zip(means, stds, params):\n",
        "#        print(\"%f (%f) with %r\" % (mean, stdev, param))       \n",
        "                \n",
        "#nodes = 10# grid_result.best_params_['n_units']\n",
        "#epochs_rnn = grid_result.best_params_['epochs']\n",
        "#l1_reg = grid_result.best_params_['l1_reg']\n",
        "#batch_size_rnn = grid_result.best_params_['batch_size']\n",
        "\n",
        "#nodes_gru = grid_result2.best_params_['nodes']\n",
        "#epochs_gru = grid_result2.best_params_['epochs']\n",
        "#l1_reg_gru = grid_result2.best_params_['l1_reg']\n",
        "#batch_size_gru = grid_result2.best_params_['batch_size']\n",
        "\n",
        "#nodes_lstm = grid_result3.best_params_['nodes']\n",
        "#epochs_lstm = grid_result3.best_params_['epochs']\n",
        "#l1_reg_lstm = grid_result3.best_params_['l1_reg']\n",
        "#batch_size_lstm = grid_result3.best_params_['batch_size']\n",
        "#print(\"Hyper parameter tuning for RNN...\")\n",
        "#model = KerasRegressor(build_fn=RNN_model2, epochs=2000, batch_size=100, verbose=1)\n",
        "#grid = GridSearchCV(estimator=model,param_grid=param_grid, n_jobs=-1, cv=10)\n",
        "#grid_result = grid.fit(X_train,y_train,callbacks=[es])\n",
        "#print(\"Best: %f using %s\" % (grid_result.best_score_, grid_result.best_params_))\n",
        "#means = grid_result.cv_results_['mean_test_score']\n",
        "#stds = grid_result.cv_results_['std_test_score']\n",
        "#params = grid_result.cv_results_['params']\n",
        "#for mean, stdev, param in zip(means, stds, params):\n",
        "#        print(\"%f (%f) with %r\" % (mean, stdev, param))\n",
        "# Manual CV\n",
        "\n",
        "#nodes = grid_result.best_params_['n_units']\n",
        "#l1_reg = grid_result.best_params['l1_reg']\n",
        "#n_units = [10, 20, 30, 40, 50, 60, 100]\n",
        "#l1_reg = [0]  #[0, 0.001]   #0.01, 0.1]\n",
        "#param_grid = dict(epochs=epochs,batch_size =batch_size)\n",
        "                  #n_neurons=n_neurons)\n",
        "                  #optimizers=optimizers,\n",
        "                  #n_neurons = n_neurons)\n",
        "#learn_rate = [0.001, 0.01, 0.1, 0.2, 0.3]\n",
        "#momentum = [0.0, 0.2, 0.4, 0.6, 0.8, 0.9]\n",
        "#weight_constraint = [1, 2, 3, 4, 5]\n",
        "#dropout_rate = [0.0, 0.1, 0.2, 0.3, 0.4, 0.5, 0.6, 0.7, 0.8, 0.9]\n",
        "#param_grid = dict(n_units=n_units,l1_reg=l1_reg) \n",
        "#n_splits = 10\n",
        "#kf = KFold(n_splits)\n",
        "#kf.get_n_splits(x_train_reg)\n",
        "#MSE_train = 0\n",
        "#MSE_test = 0\n",
        "#TimeSeriesSplit(max_train_size=None, n_splits=10)\n",
        "#tscv = TimeSeriesSplit()\n",
        "#for train_fold, test_fold in tscv.split(x_train_reg):\n",
        "#    x_train, x_test = x_train_reg[train_fold], x_train_reg[test_fold]\n",
        "#    y_train, y_test = y_train_reg[train_fold], y_train_reg[test_fold]\n",
        "#    rnn_model = RNN_model2(nodes,l1_reg)\n",
        "   \n",
        "#    rnn_fit = rnn_model.fit(x_train,y_train, epochs=500, batch_size=100, callbacks=[es])\n",
        "#    rnn_pred_train = rnn_model.predict(x_train, verbose=0)\n",
        "#    rnn_pred_test = rnn_model.predict(x_test, verbose=0) \n",
        "\n",
        "    # hyper parameter turning\n",
        "    #MSE_train = mean_squared_error(df_train[use_feature][n_steps:], rnn_pred_train[:,0])\n",
        "#    MSE_train += mean_squared_error(y_train[:,0], rnn_pred_train[:,0])\n",
        "#    MSE_test += mean_squared_error(y_test[:,0], rnn_pred_test[:,0])\n",
        "    #MSE_test = mean_squared_error(df_test[use_feature][n_steps:], rnn_pred_test[:,0])\n",
        "    \n",
        "#rnn_model.summary()\n",
        "#MSE_train_ave = MSE_train/n_splits\n",
        "#MSE_train_std = np.math.sqrt(MSE_train/(n_splits-1))\n",
        "#MSE_test_ave = MSE_test/n_splits\n",
        "#MSE_test_std = np.math.sqrt(MSE_test/(n_splits-1))\n",
        "#print(\"MSE_train_rnn_ave = \" + str(MSE_train_ave))\n",
        "#print(\"MSE_test_rnn_ave = \" + str(MSE_test_ave))\n",
        "#print(\"MSE_train_rnn_std = \" + str(MSE_train_std))\n",
        "#print(\"MSE_test_rnn_std = \" + str(MSE_test_std))\n",
        "#print(\"p = \" + str(p))\n",
        "\n",
        "#rnn_model = RNN_model2(nodes,l1_reg)\n",
        "#rnn_fit = rnn_model.fit(x_test_reg,y_test_reg, epochs=500, batch_size=100, callbacks=[es])\n",
        "#rnn_pred_test = rnn_model.predict(x_test_reg,verbose=1)\n",
        "#mse = mean_squared_error(y_test_reg[:,0],rnn_pred_test[:,0])\n",
        "#print(\"RNN test data mse = \" + str(mse))\n",
        "#print(\"RNN test std mse = \" + str(np.sqrt(mse)))\n",
        "#rnn_model.summary()\n",
        "\n",
        "\n",
        "\n",
        "#lstm_model = Sequential()\n",
        "#lstm_model.add(LSTM(hidden_size, input_shape=(x_train_reg.shape[1], x_train_reg.shape[-1])))\n",
        "#lstm_model.add(Dense(1))\n",
        "#lstm_model.compile(loss='mean_squared_error', optimizer='adam')\n",
        "\n",
        "#lstm_model.fit(x_train_reg, y_train_reg, epochs=1500, batch_size=100, callbacks=[es])"
      ],
      "execution_count": 0,
      "outputs": [
        {
          "output_type": "stream",
          "text": [
            "Epoch 1/500\n",
            "56075/56075 [==============================] - 2s 27us/step - loss: 3.0704\n",
            "Epoch 2/500\n",
            "56075/56075 [==============================] - 1s 18us/step - loss: 0.1056\n",
            "Epoch 3/500\n",
            "56075/56075 [==============================] - 1s 18us/step - loss: 0.0871\n",
            "Epoch 4/500\n",
            "56075/56075 [==============================] - 1s 18us/step - loss: 0.0736\n",
            "Epoch 5/500\n",
            "56075/56075 [==============================] - 1s 18us/step - loss: 0.0649\n",
            "Epoch 6/500\n",
            "56075/56075 [==============================] - 1s 18us/step - loss: 0.0593\n",
            "Epoch 7/500\n",
            "56075/56075 [==============================] - 1s 18us/step - loss: 0.0532\n",
            "Epoch 8/500\n",
            "56075/56075 [==============================] - 1s 17us/step - loss: 0.0503\n",
            "Epoch 9/500\n",
            "56075/56075 [==============================] - 1s 17us/step - loss: 0.0468\n",
            "Epoch 10/500\n",
            "56075/56075 [==============================] - 1s 18us/step - loss: 0.0461\n",
            "Epoch 11/500\n",
            "56075/56075 [==============================] - 1s 18us/step - loss: 0.0449\n",
            "Epoch 12/500\n",
            "56075/56075 [==============================] - 1s 17us/step - loss: 0.0442\n",
            "Epoch 13/500\n",
            "56075/56075 [==============================] - 1s 18us/step - loss: 0.0439\n",
            "Epoch 14/500\n",
            "56075/56075 [==============================] - 1s 18us/step - loss: 0.0439\n",
            "Epoch 15/500\n",
            "56075/56075 [==============================] - 1s 17us/step - loss: 0.0434\n",
            "Epoch 16/500\n",
            "56075/56075 [==============================] - 1s 17us/step - loss: 0.0439\n",
            "Epoch 17/500\n",
            "56075/56075 [==============================] - 1s 17us/step - loss: 0.0436\n",
            "Epoch 18/500\n",
            "56075/56075 [==============================] - 1s 17us/step - loss: 0.0430\n",
            "Epoch 19/500\n",
            "56075/56075 [==============================] - 1s 18us/step - loss: 0.0433\n",
            "Epoch 20/500\n",
            "56075/56075 [==============================] - 1s 17us/step - loss: 0.0432\n",
            "Epoch 21/500\n",
            "56075/56075 [==============================] - 1s 18us/step - loss: 0.0438\n",
            "Epoch 22/500\n",
            "56075/56075 [==============================] - 1s 18us/step - loss: 0.0438\n",
            "Epoch 23/500\n",
            "56075/56075 [==============================] - 1s 17us/step - loss: 0.0435\n",
            "Epoch 00023: early stopping\n",
            "Epoch 1/500\n",
            "112146/112146 [==============================] - 2s 22us/step - loss: 2.6552\n",
            "Epoch 2/500\n",
            "112146/112146 [==============================] - 2s 18us/step - loss: 0.0860\n",
            "Epoch 3/500\n",
            "112146/112146 [==============================] - 2s 18us/step - loss: 0.0669\n",
            "Epoch 4/500\n",
            "112146/112146 [==============================] - 2s 18us/step - loss: 0.0555\n",
            "Epoch 5/500\n",
            "112146/112146 [==============================] - 2s 17us/step - loss: 0.0487\n",
            "Epoch 6/500\n",
            "112146/112146 [==============================] - 2s 17us/step - loss: 0.0455\n",
            "Epoch 7/500\n",
            "112146/112146 [==============================] - 2s 17us/step - loss: 0.0454\n",
            "Epoch 8/500\n",
            "112146/112146 [==============================] - 2s 17us/step - loss: 0.0450\n",
            "Epoch 9/500\n",
            "112146/112146 [==============================] - 2s 18us/step - loss: 0.0448\n",
            "Epoch 10/500\n",
            "112146/112146 [==============================] - 2s 18us/step - loss: 0.0448\n",
            "Epoch 11/500\n",
            "112146/112146 [==============================] - 2s 17us/step - loss: 0.0448\n",
            "Epoch 12/500\n",
            "112146/112146 [==============================] - 2s 18us/step - loss: 0.0443\n",
            "Epoch 13/500\n",
            "112146/112146 [==============================] - 2s 17us/step - loss: 0.0444\n",
            "Epoch 14/500\n",
            "112146/112146 [==============================] - 2s 18us/step - loss: 0.0438\n",
            "Epoch 15/500\n",
            "112146/112146 [==============================] - 2s 17us/step - loss: 0.0439\n",
            "Epoch 16/500\n",
            "112146/112146 [==============================] - 2s 17us/step - loss: 0.0446\n",
            "Epoch 17/500\n",
            "112146/112146 [==============================] - 2s 18us/step - loss: 0.0440\n",
            "Epoch 18/500\n",
            "112146/112146 [==============================] - 2s 17us/step - loss: 0.0438\n",
            "Epoch 19/500\n",
            "112146/112146 [==============================] - 2s 17us/step - loss: 0.0439\n",
            "Epoch 00019: early stopping\n",
            "Epoch 1/500\n",
            "168217/168217 [==============================] - 4s 21us/step - loss: 1.6376\n",
            "Epoch 2/500\n",
            "168217/168217 [==============================] - 3s 18us/step - loss: 0.0925\n",
            "Epoch 3/500\n",
            "168217/168217 [==============================] - 3s 18us/step - loss: 0.0679\n",
            "Epoch 4/500\n",
            "168217/168217 [==============================] - 3s 18us/step - loss: 0.0535\n",
            "Epoch 5/500\n",
            "168217/168217 [==============================] - 3s 18us/step - loss: 0.0472\n",
            "Epoch 6/500\n",
            "168217/168217 [==============================] - 3s 18us/step - loss: 0.0462\n",
            "Epoch 7/500\n",
            "168217/168217 [==============================] - 3s 18us/step - loss: 0.0455\n",
            "Epoch 8/500\n",
            "168217/168217 [==============================] - 3s 18us/step - loss: 0.0451\n",
            "Epoch 9/500\n",
            "168217/168217 [==============================] - 3s 18us/step - loss: 0.0446\n",
            "Epoch 10/500\n",
            "168217/168217 [==============================] - 3s 18us/step - loss: 0.0444\n",
            "Epoch 11/500\n",
            "168217/168217 [==============================] - 3s 18us/step - loss: 0.0443\n",
            "Epoch 12/500\n",
            "168217/168217 [==============================] - 3s 17us/step - loss: 0.0443\n",
            "Epoch 13/500\n",
            "168217/168217 [==============================] - 3s 18us/step - loss: 0.0440\n",
            "Epoch 14/500\n",
            "168217/168217 [==============================] - 3s 18us/step - loss: 0.0439\n",
            "Epoch 15/500\n",
            "168217/168217 [==============================] - 3s 18us/step - loss: 0.0437\n",
            "Epoch 16/500\n",
            "168217/168217 [==============================] - 3s 18us/step - loss: 0.0436\n",
            "Epoch 17/500\n",
            "168217/168217 [==============================] - 3s 18us/step - loss: 0.0436\n",
            "Epoch 18/500\n",
            "168217/168217 [==============================] - 3s 18us/step - loss: 0.0434\n",
            "Epoch 19/500\n",
            "168217/168217 [==============================] - 3s 18us/step - loss: 0.0433\n",
            "Epoch 20/500\n",
            "168217/168217 [==============================] - 3s 18us/step - loss: 0.0432\n",
            "Epoch 21/500\n",
            "168217/168217 [==============================] - 3s 18us/step - loss: 0.0434\n",
            "Epoch 22/500\n",
            "168217/168217 [==============================] - 3s 18us/step - loss: 0.0433\n",
            "Epoch 23/500\n",
            "168217/168217 [==============================] - 3s 18us/step - loss: 0.0431\n",
            "Epoch 24/500\n",
            "168217/168217 [==============================] - 3s 18us/step - loss: 0.0430\n",
            "Epoch 25/500\n",
            "168217/168217 [==============================] - 3s 18us/step - loss: 0.0429\n",
            "Epoch 26/500\n",
            "168217/168217 [==============================] - 3s 18us/step - loss: 0.0431\n",
            "Epoch 27/500\n",
            "168217/168217 [==============================] - 3s 18us/step - loss: 0.0431\n",
            "Epoch 28/500\n",
            "168217/168217 [==============================] - 3s 18us/step - loss: 0.0431\n",
            "Epoch 29/500\n",
            "168217/168217 [==============================] - 3s 18us/step - loss: 0.0431\n",
            "Epoch 00029: early stopping\n",
            "Epoch 1/500\n",
            "224288/224288 [==============================] - 5s 21us/step - loss: 0.6371\n",
            "Epoch 2/500\n",
            "224288/224288 [==============================] - 4s 18us/step - loss: 0.0699\n",
            "Epoch 3/500\n",
            "224288/224288 [==============================] - 4s 18us/step - loss: 0.0562\n",
            "Epoch 4/500\n",
            "224288/224288 [==============================] - 4s 17us/step - loss: 0.0473\n",
            "Epoch 5/500\n",
            "224288/224288 [==============================] - 4s 18us/step - loss: 0.0447\n",
            "Epoch 6/500\n",
            "224288/224288 [==============================] - 4s 17us/step - loss: 0.0449\n",
            "Epoch 7/500\n",
            "224288/224288 [==============================] - 4s 17us/step - loss: 0.0448\n",
            "Epoch 8/500\n",
            "224288/224288 [==============================] - 4s 18us/step - loss: 0.0443\n",
            "Epoch 9/500\n",
            "224288/224288 [==============================] - 4s 18us/step - loss: 0.0440\n",
            "Epoch 10/500\n",
            "224288/224288 [==============================] - 4s 18us/step - loss: 0.0436\n",
            "Epoch 11/500\n",
            "224288/224288 [==============================] - 4s 18us/step - loss: 0.0434\n",
            "Epoch 12/500\n",
            "224288/224288 [==============================] - 4s 17us/step - loss: 0.0433\n",
            "Epoch 13/500\n",
            "224288/224288 [==============================] - 4s 17us/step - loss: 0.0435\n",
            "Epoch 14/500\n",
            "224288/224288 [==============================] - 4s 18us/step - loss: 0.0428\n",
            "Epoch 15/500\n",
            "224288/224288 [==============================] - 4s 17us/step - loss: 0.0426\n",
            "Epoch 16/500\n",
            "224288/224288 [==============================] - 4s 18us/step - loss: 0.0426\n",
            "Epoch 17/500\n",
            "224288/224288 [==============================] - 4s 17us/step - loss: 0.0427\n",
            "Epoch 18/500\n",
            "224288/224288 [==============================] - 4s 18us/step - loss: 0.0425\n",
            "Epoch 19/500\n",
            "224288/224288 [==============================] - 4s 17us/step - loss: 0.0422\n",
            "Epoch 20/500\n",
            "224288/224288 [==============================] - 4s 18us/step - loss: 0.0425\n",
            "Epoch 21/500\n",
            "224288/224288 [==============================] - 4s 17us/step - loss: 0.0422\n",
            "Epoch 22/500\n",
            "224288/224288 [==============================] - 4s 17us/step - loss: 0.0420\n",
            "Epoch 23/500\n",
            "224288/224288 [==============================] - 4s 17us/step - loss: 0.0422\n",
            "Epoch 24/500\n",
            "224288/224288 [==============================] - 4s 18us/step - loss: 0.0421\n",
            "Epoch 25/500\n",
            "224288/224288 [==============================] - 4s 17us/step - loss: 0.0419\n",
            "Epoch 26/500\n",
            "224288/224288 [==============================] - 4s 18us/step - loss: 0.0422\n",
            "Epoch 27/500\n",
            "224288/224288 [==============================] - 4s 17us/step - loss: 0.0420\n",
            "Epoch 00027: early stopping\n",
            "Epoch 1/500\n",
            "280359/280359 [==============================] - 6s 20us/step - loss: 1.5852\n",
            "Epoch 2/500\n",
            "280359/280359 [==============================] - 5s 18us/step - loss: 0.0595\n",
            "Epoch 3/500\n",
            "280359/280359 [==============================] - 5s 18us/step - loss: 0.0466\n",
            "Epoch 4/500\n",
            "280359/280359 [==============================] - 5s 18us/step - loss: 0.0450\n",
            "Epoch 5/500\n",
            "280359/280359 [==============================] - 5s 18us/step - loss: 0.0442\n",
            "Epoch 6/500\n",
            "280359/280359 [==============================] - 5s 18us/step - loss: 0.0438\n",
            "Epoch 7/500\n",
            "280359/280359 [==============================] - 5s 18us/step - loss: 0.0441\n",
            "Epoch 8/500\n",
            "280359/280359 [==============================] - 5s 18us/step - loss: 0.0432\n",
            "Epoch 9/500\n",
            "280359/280359 [==============================] - 5s 18us/step - loss: 0.0432\n",
            "Epoch 10/500\n",
            "280359/280359 [==============================] - 5s 18us/step - loss: 0.0435\n",
            "Epoch 11/500\n",
            "280359/280359 [==============================] - 5s 18us/step - loss: 0.0429\n",
            "Epoch 12/500\n",
            "280359/280359 [==============================] - 5s 18us/step - loss: 0.0428\n",
            "Epoch 13/500\n",
            "280359/280359 [==============================] - 5s 18us/step - loss: 0.0427\n",
            "Epoch 14/500\n",
            "280359/280359 [==============================] - 5s 18us/step - loss: 0.0422\n",
            "Epoch 15/500\n",
            "280359/280359 [==============================] - 5s 18us/step - loss: 0.0427\n",
            "Epoch 16/500\n",
            "280359/280359 [==============================] - 5s 18us/step - loss: 0.0426\n",
            "Epoch 17/500\n",
            "280359/280359 [==============================] - 5s 18us/step - loss: 0.0423\n",
            "Epoch 18/500\n",
            "280359/280359 [==============================] - 5s 18us/step - loss: 0.0422\n",
            "Epoch 19/500\n",
            "280359/280359 [==============================] - 5s 18us/step - loss: 0.0423\n",
            "Epoch 00019: early stopping\n",
            "Model: \"sequential_6\"\n",
            "_________________________________________________________________\n",
            "Layer (type)                 Output Shape              Param #   \n",
            "=================================================================\n",
            "simple_rnn_6 (SimpleRNN)     (None, 40)                1680      \n",
            "_________________________________________________________________\n",
            "dense_6 (Dense)              (None, 1)                 41        \n",
            "=================================================================\n",
            "Total params: 1,721\n",
            "Trainable params: 1,721\n",
            "Non-trainable params: 0\n",
            "_________________________________________________________________\n",
            "MSE_train_rnn_ave = 0.021868377299178295\n",
            "MSE_test_rnn_ave = 0.02206913342347862\n",
            "MSE_train_rnn_std = 0.1558787894457966\n",
            "MSE_test_rnn_std = 0.15659265423199356\n",
            "p = 30\n",
            "Epoch 1/500\n",
            "84101/84101 [==============================] - 2s 28us/step - loss: 5.5866\n",
            "Epoch 2/500\n",
            "84101/84101 [==============================] - 2s 18us/step - loss: 0.1023\n",
            "Epoch 3/500\n",
            "84101/84101 [==============================] - 2s 18us/step - loss: 0.0850\n",
            "Epoch 4/500\n",
            "84101/84101 [==============================] - 2s 18us/step - loss: 0.0712\n",
            "Epoch 5/500\n",
            "84101/84101 [==============================] - 2s 18us/step - loss: 0.0626\n",
            "Epoch 6/500\n",
            "84101/84101 [==============================] - 2s 18us/step - loss: 0.0593\n",
            "Epoch 7/500\n",
            "84101/84101 [==============================] - 2s 18us/step - loss: 0.0532\n",
            "Epoch 8/500\n",
            "84101/84101 [==============================] - 2s 18us/step - loss: 0.0505\n",
            "Epoch 9/500\n",
            "84101/84101 [==============================] - 2s 18us/step - loss: 0.0479\n",
            "Epoch 10/500\n",
            "84101/84101 [==============================] - 2s 18us/step - loss: 0.0478\n",
            "Epoch 11/500\n",
            "84101/84101 [==============================] - 2s 18us/step - loss: 0.0467\n",
            "Epoch 12/500\n",
            "84101/84101 [==============================] - 2s 18us/step - loss: 0.0476\n",
            "Epoch 13/500\n",
            "84101/84101 [==============================] - 2s 18us/step - loss: 0.0745\n",
            "Epoch 14/500\n",
            "84101/84101 [==============================] - 2s 18us/step - loss: 0.0537\n",
            "Epoch 15/500\n",
            "84101/84101 [==============================] - 2s 18us/step - loss: 0.0498\n",
            "Epoch 16/500\n",
            "84101/84101 [==============================] - 2s 19us/step - loss: 0.0476\n",
            "Epoch 00016: early stopping\n",
            "84101/84101 [==============================] - 2s 22us/step\n",
            "RNN test data mse = 0.074189774514695\n",
            "RNN test std mse = 0.27237799932207263\n",
            "Model: \"sequential_7\"\n",
            "_________________________________________________________________\n",
            "Layer (type)                 Output Shape              Param #   \n",
            "=================================================================\n",
            "simple_rnn_7 (SimpleRNN)     (None, 40)                1680      \n",
            "_________________________________________________________________\n",
            "dense_7 (Dense)              (None, 1)                 41        \n",
            "=================================================================\n",
            "Total params: 1,721\n",
            "Trainable params: 1,721\n",
            "Non-trainable params: 0\n",
            "_________________________________________________________________\n"
          ],
          "name": "stdout"
        }
      ]
    },
    {
      "cell_type": "code",
      "metadata": {
        "id": "NDssmVRQhSQA",
        "colab_type": "code",
        "colab": {}
      },
      "source": [
        ""
      ],
      "execution_count": 0,
      "outputs": []
    },
    {
      "cell_type": "markdown",
      "metadata": {
        "colab_type": "text",
        "id": "UZDhoxwl6gcg"
      },
      "source": [
        "### LSTM\n"
      ]
    },
    {
      "cell_type": "code",
      "metadata": {
        "id": "QFxy6trcfa3p",
        "colab_type": "code",
        "colab": {}
      },
      "source": [
        ""
      ],
      "execution_count": 0,
      "outputs": []
    },
    {
      "cell_type": "markdown",
      "metadata": {
        "colab_type": "text",
        "id": "zVlvECOS6laN"
      },
      "source": [
        "### RNN"
      ]
    },
    {
      "cell_type": "markdown",
      "metadata": {
        "colab_type": "text",
        "id": "KpfM_uc963m3"
      },
      "source": [
        "### GRU"
      ]
    },
    {
      "cell_type": "markdown",
      "metadata": {
        "colab_type": "text",
        "id": "DuiTrS5i63nH"
      },
      "source": [
        "### Prediction"
      ]
    },
    {
      "cell_type": "code",
      "metadata": {
        "colab_type": "code",
        "id": "gV-MXDDr7DiL",
        "outputId": "99adac77-5ce2-4549-836e-f203dda50d4d",
        "colab": {
          "base_uri": "https://localhost:8080/",
          "height": 52
        }
      },
      "source": [
        "# make predictions with the trained LSTM\n",
        "lstm_pred_train = lstm_model.predict(x_train_reg, verbose=1)\n",
        "lstm_pred_test = lstm_model.predict(x_test_reg, verbose=1)"
      ],
      "execution_count": 0,
      "outputs": [
        {
          "output_type": "stream",
          "text": [
            "336430/336430 [==============================] - 18s 54us/step\n",
            "84101/84101 [==============================] - 3s 40us/step\n"
          ],
          "name": "stdout"
        }
      ]
    },
    {
      "cell_type": "code",
      "metadata": {
        "colab_type": "code",
        "id": "v_Ts2i6E63nI",
        "scrolled": true,
        "outputId": "0ac18e9b-0ea5-4629-ce85-d81ce2c077cf",
        "colab": {
          "base_uri": "https://localhost:8080/",
          "height": 52
        }
      },
      "source": [
        "# make predictions with the trained RNN\n",
        "rnn_pred_train = rnn_model.predict(x_train_reg, verbose=1)\n",
        "rnn_pred_test = rnn_model.predict(x_test_reg, verbose=1)"
      ],
      "execution_count": 0,
      "outputs": [
        {
          "output_type": "stream",
          "text": [
            "336430/336430 [==============================] - 9s 26us/step\n",
            "84101/84101 [==============================] - 2s 26us/step\n"
          ],
          "name": "stdout"
        }
      ]
    },
    {
      "cell_type": "code",
      "metadata": {
        "colab_type": "code",
        "id": "6xQLpNjo63nK",
        "colab": {}
      },
      "source": [
        "# compare with the trained plain GRU"
      ],
      "execution_count": 0,
      "outputs": []
    },
    {
      "cell_type": "code",
      "metadata": {
        "colab_type": "code",
        "id": "1fq0sf-U63nP",
        "outputId": "2d99d07b-4390-48eb-a8d9-c95817766278",
        "colab": {
          "base_uri": "https://localhost:8080/",
          "height": 52
        }
      },
      "source": [
        "gru_pred_train = gru_model.predict(x_train_reg, verbose=1)\n",
        "gru_pred_test = gru_model.predict(x_test_reg, verbose=1)"
      ],
      "execution_count": 0,
      "outputs": [
        {
          "output_type": "stream",
          "text": [
            "336430/336430 [==============================] - 13s 38us/step\n",
            "84101/84101 [==============================] - 3s 39us/step\n"
          ],
          "name": "stdout"
        }
      ]
    },
    {
      "cell_type": "markdown",
      "metadata": {
        "colab_type": "text",
        "id": "kzrQSrGz63nT"
      },
      "source": [
        "### Model Performance"
      ]
    },
    {
      "cell_type": "code",
      "metadata": {
        "colab_type": "code",
        "id": "thdspWsjpziB",
        "outputId": "c453d60e-da3f-43c2-c67a-99c0c9097bb8",
        "colab": {
          "base_uri": "https://localhost:8080/",
          "height": 927
        }
      },
      "source": [
        "fig = plt.figure(figsize=(12,7))\n",
        "train_line_real = plt.plot(df_train.index[n_steps:], df_train[use_feature][n_steps:], color=\"orange\", label=\"Observed (Training)\")\n",
        "train_line_pred = plt.plot(df_train.index[n_steps:], lstm_pred_train[:, 0], color=\"red\", label=\"LSTM Predict (Training)\")\n",
        "train_line_pred = plt.plot(df_train.index[n_steps:], rnn_pred_train[:, 0], color=\"blue\", label=\"RNN Predict (Training)\")\n",
        "train_line_pred = plt.plot(df_train.index[n_steps:], gru_pred_train[:, 0], color=\"black\", label=\"GRU Predict (Training)\")\n",
        "train_line_pred = plt.plot(df_train.index[n_steps:],y_predicted_ar_train, color='green', label=\"alpha RNN Predict (Training)\")\n",
        "train_line_pred = plt.plot(df_train.index[n_steps:],y_predicted_ar_train_t, color=\"yellow\", label=\"alpha_t RNN Predict (Training)\")\n",
        "\n",
        "plt.legend(loc=\"best\", fontsize=12)\n",
        "plt.title('Observed vs Model (Training)', fontsize=16)\n",
        "plt.xlabel('Time', fontsize=20)\n",
        "plt.ylabel('Y', fontsize=20)\n",
        "\n",
        "\n",
        "fig = plt.figure(figsize=(12,7))\n",
        "test_line_real = plt.plot(df_test.index[n_steps:], df_test[use_feature][n_steps:], color=\"orange\", label=\"Observed (Testing)\")\n",
        "test_line_pred = plt.plot(df_test.index[n_steps:], rnn_pred_test[:, 0], color=\"red\", label=\"RNN Predict (Testing)\")\n",
        "test_line_pred = plt.plot(df_test.index[n_steps:], rnn_pred_test[:, 0], color=\"blue\", label=\"RNN Predict (Testing)\")\n",
        "test_line_pred = plt.plot(df_test.index[n_steps:], gru_pred_test[:, 0], color=\"black\", label=\"GRU Predict (Testing)\")\n",
        "test_line_pred = plt.plot(df_test.index[n_steps:],y_predicted_ar,color=\"green\", label=\"alpha RNN Predict (Testing)\")\n",
        "test_line_pred = plt.plot(df_test.index[n_steps:],y_predicted_ar_t, color=\"yellow\",label=\"alpha_t RNN Predict (Testing)\"\n",
        "test_line_pred = plt.plot(y_predicted_ar_t, color=\"yellow\", label=\"alpha_t RNN Predict (Testing)\")\n",
        "\n",
        "# train_line_pred = plt.plot(session.run(output, feed_dict={alpharnn.input_layer: x_test_reg})\n",
        "\n",
        "plt.legend(loc=\"best\", fontsize=12)\n",
        "plt.title('Observed vs Model (Testing)', fontsize=16)\n",
        "plt.xlabel('Time', fontsize=20)\n",
        "plt.ylabel('Y', fontsize=20)\n",
        "\n",
        "plt.show()"
      ],
      "execution_count": 0,
      "outputs": [
        {
          "output_type": "display_data",
          "data": {
            "image/png": "[encoded data removed]",
            "text/plain": [
              "<Figure size 864x504 with 1 Axes>"
            ]
          },
          "metadata": {
            "tags": []
          }
        },
        {
          "output_type": "display_data",
          "data": {
            "image/png": "[encoded data removed]",
            "text/plain": [
              "<Figure size 864x504 with 1 Axes>"
            ]
          },
          "metadata": {
            "tags": []
          }
        }
      ]
    },
    {
      "cell_type": "code",
      "metadata": {
        "colab_type": "code",
        "id": "ir7raVWf88o-",
        "outputId": "325155b5-e23e-49a8-b980-9fd09c7747d6",
        "colab": {
          "base_uri": "https://localhost:8080/",
          "height": 223
        }
      },
      "source": [
        "# calculate mean squared error of the plain LSTM\n",
        "MSE_train = mean_squared_error(df_train[use_feature][n_steps:], lstm_pred_train[:, 0])\n",
        "print(MSE_train)\n",
        "MSE_test = mean_squared_error(df_test[use_feature][n_steps:], lstm_pred_test[:, 0])\n",
        "print(MSE_test)"
      ],
      "execution_count": 0,
      "outputs": [
        {
          "output_type": "error",
          "ename": "NameError",
          "evalue": "ignored",
          "traceback": [
            "\u001b[0;31m---------------------------------------------------------------------------\u001b[0m",
            "\u001b[0;31mNameError\u001b[0m                                 Traceback (most recent call last)",
            "\u001b[0;32m<ipython-input-38-a1905dd226d6>\u001b[0m in \u001b[0;36m<module>\u001b[0;34m()\u001b[0m\n\u001b[0;32m----> 1\u001b[0;31m \u001b[0mMSE_train\u001b[0m \u001b[0;34m=\u001b[0m \u001b[0mmean_squared_error\u001b[0m\u001b[0;34m(\u001b[0m\u001b[0mdf_train\u001b[0m\u001b[0;34m[\u001b[0m\u001b[0muse_feature\u001b[0m\u001b[0;34m]\u001b[0m\u001b[0;34m[\u001b[0m\u001b[0mn_steps\u001b[0m\u001b[0;34m:\u001b[0m\u001b[0;34m]\u001b[0m\u001b[0;34m,\u001b[0m \u001b[0mlstm_pred_train\u001b[0m\u001b[0;34m[\u001b[0m\u001b[0;34m:\u001b[0m\u001b[0;34m,\u001b[0m \u001b[0;36m0\u001b[0m\u001b[0;34m]\u001b[0m\u001b[0;34m)\u001b[0m\u001b[0;34m\u001b[0m\u001b[0;34m\u001b[0m\u001b[0m\n\u001b[0m\u001b[1;32m      2\u001b[0m \u001b[0mprint\u001b[0m\u001b[0;34m(\u001b[0m\u001b[0mMSE_train\u001b[0m\u001b[0;34m)\u001b[0m\u001b[0;34m\u001b[0m\u001b[0;34m\u001b[0m\u001b[0m\n\u001b[1;32m      3\u001b[0m \u001b[0mMSE_test\u001b[0m \u001b[0;34m=\u001b[0m \u001b[0mmean_squared_error\u001b[0m\u001b[0;34m(\u001b[0m\u001b[0mdf_test\u001b[0m\u001b[0;34m[\u001b[0m\u001b[0muse_feature\u001b[0m\u001b[0;34m]\u001b[0m\u001b[0;34m[\u001b[0m\u001b[0mn_steps\u001b[0m\u001b[0;34m:\u001b[0m\u001b[0;34m]\u001b[0m\u001b[0;34m,\u001b[0m \u001b[0mlstm_pred_test\u001b[0m\u001b[0;34m[\u001b[0m\u001b[0;34m:\u001b[0m\u001b[0;34m,\u001b[0m \u001b[0;36m0\u001b[0m\u001b[0;34m]\u001b[0m\u001b[0;34m)\u001b[0m\u001b[0;34m\u001b[0m\u001b[0;34m\u001b[0m\u001b[0m\n\u001b[1;32m      4\u001b[0m \u001b[0mprint\u001b[0m\u001b[0;34m(\u001b[0m\u001b[0mMSE_test\u001b[0m\u001b[0;34m)\u001b[0m\u001b[0;34m\u001b[0m\u001b[0;34m\u001b[0m\u001b[0m\n",
            "\u001b[0;31mNameError\u001b[0m: name 'lstm_pred_train' is not defined"
          ]
        }
      ]
    },
    {
      "cell_type": "code",
      "metadata": {
        "colab_type": "code",
        "id": "s_FgxOXz63nZ",
        "colab": {}
      },
      "source": [
        "# calculate mean squared error of the plain RNN\n",
        "MSE_train = mean_squared_error(df_train[use_feature][n_steps:], rnn_pred_train[:, 0])\n",
        "print(MSE_train)\n",
        "MSE_test = mean_squared_error(df_test[use_feature][n_steps:], rnn_pred_test[:, 0])\n",
        "print(MSE_test)"
      ],
      "execution_count": 0,
      "outputs": []
    },
    {
      "cell_type": "code",
      "metadata": {
        "colab_type": "code",
        "id": "yWFQLnLB63nX",
        "colab": {}
      },
      "source": [
        "# calculate mean squared error of the GRU\n",
        "MSE_train = mean_squared_error(df_train[use_feature][n_steps:], gru_pred_train[:, 0])\n",
        "print(MSE_train)\n",
        "MSE_test = mean_squared_error(df_test[use_feature][n_steps:], gru_pred_test[:, 0])\n",
        "print(MSE_test)"
      ],
      "execution_count": 0,
      "outputs": []
    },
    {
      "cell_type": "code",
      "metadata": {
        "colab_type": "code",
        "id": "JDAe-uBX63nc",
        "colab": {}
      },
      "source": [
        "# calculate mean squared error of the alpha RNN\n",
        "\n",
        "MSE_train = mean_squared_error(df_train[use_feature][n_steps:],y_prediction_train) # train_losses[:, 0])\n",
        "print(MSE_train)\n",
        "MSE_test = mean_squared_error(df_test[use_feature][n_steps:], y_prediction_ar) # validation_losses[:, 0])\n",
        "print(MSE_test)"
      ],
      "execution_count": 0,
      "outputs": []
    },
    {
      "cell_type": "code",
      "metadata": {
        "colab_type": "code",
        "id": "uGIwSuNiqATL",
        "colab": {}
      },
      "source": [
        "MSE_train = mean_squared_error(df_train[use_feature][n_steps:],y_prediction_train) # train_losses[:, 0])\n",
        "print(MSE_train)\n",
        "MSE_test = mean_squared_error(df_test[use_feature][n_steps:], y_prediction_ar) # validation_losses[:, 0])\n",
        "print(MSE_test)\n",
        "MSE_train_sd = np.sqrt(MSE_train)\n",
        "print(MSE_train_sd)\n",
        "MSE_test_sd = np.sqrt(MSE_test)\n",
        "print(MSE_test_sd)"
      ],
      "execution_count": 0,
      "outputs": []
    },
    {
      "cell_type": "code",
      "metadata": {
        "id": "q622k_0anqXr",
        "colab_type": "code",
        "colab": {}
      },
      "source": [
        "MSE_train = mean_squared_error(df_train[use_feature][n_steps:], y_predicted_train_t)  #train_losses[:, 0])\n",
        "print(MSE_train)\n",
        "MSE_test = mean_squared_error(df_test[use_feature][n_steps:], y_predicted_ar_t)     #validation_losses[:, 0])\n",
        "print(MSE_test)\n",
        "MSE_train_sd = np.sqrt(MSE_train)\n",
        "print(MSE_train_sd)\n",
        "MSE_test_sd = np.sqrt(MSE_test)\n",
        "print(MSE_test_sd)"
      ],
      "execution_count": 0,
      "outputs": []
    }
  ]
}