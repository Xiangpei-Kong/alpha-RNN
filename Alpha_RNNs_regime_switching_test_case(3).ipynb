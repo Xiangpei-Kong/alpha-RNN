{
  "nbformat": 4,
  "nbformat_minor": 0,
  "metadata": {
    "colab": {
      "name": "Alpha_RNNs_regime_switching_test_case(3).ipynb",
      "provenance": [],
      "collapsed_sections": [],
      "toc_visible": true,
      "include_colab_link": true
    },
    "kernelspec": {
      "display_name": "Python 3",
      "language": "python",
      "name": "python3"
    },
    "language_info": {
      "codemirror_mode": {
        "name": "ipython",
        "version": 3
      },
      "file_extension": ".py",
      "mimetype": "text/x-python",
      "name": "python",
      "nbconvert_exporter": "python",
      "pygments_lexer": "ipython3",
      "version": "3.7.3"
    }
  },
  "cells": [
    {
      "cell_type": "markdown",
      "metadata": {
        "id": "view-in-github",
        "colab_type": "text"
      },
      "source": [
        "<a href=\"https://colab.research.google.com/github/mfrdixon/alpha-RNN/blob/master/Alpha_RNNs_regime_switching_test_case(3).ipynb\" target=\"_parent\"><img src=\"https://colab.research.google.com/assets/colab-badge.svg\" alt=\"Open In Colab\"/></a>"
      ]
    },
    {
      "cell_type": "markdown",
      "metadata": {
        "colab_type": "text",
        "id": "N4SeIvekWO0r"
      },
      "source": [
        "## Setup"
      ]
    },
    {
      "cell_type": "code",
      "metadata": {
        "colab_type": "code",
        "id": "P9BywHfc63kb",
        "outputId": "d26b2f98-590a-43fc-f1fb-a0401b56657c",
        "colab": {
          "base_uri": "https://localhost:8080/",
          "height": 81
        }
      },
      "source": [
        "# To support both python 2 and python 3\n",
        "from __future__ import division, print_function, unicode_literals\n",
        "\n",
        "# Common imports\n",
        "import numpy as np\n",
        "import pandas as pd\n",
        "from numpy import random\n",
        "import os# Generate switching data set\n",
        "import random\n",
        "\n",
        "\n",
        "# Imports for alpha_rnns \n",
        "from IPython import display\n",
        "import tensorflow.compat.v1 as tf\n",
        "\n",
        "# Imports for stats\n",
        "import statsmodels.api as sm\n",
        "from sklearn.metrics import mean_squared_error\n",
        "from sklearn.model_selection import KFold\n",
        "from sklearn.model_selection import TimeSeriesSplit\n",
        "\n",
        "\n",
        "# To make this notebook's output stable across runs\n",
        "def reset_graph(seed=42):\n",
        "    tf.reset_default_graph()\n",
        "    tf.set_random_seed(seed)\n",
        "    np.random.seed(seed)\n",
        "\n",
        "# To plot figures\n",
        "%matplotlib inline\n",
        "import matplotlib\n",
        "import matplotlib.pyplot as plt\n",
        "\n",
        "plt.rcParams['axes.labelsize'] = 14\n",
        "plt.rcParams['xtick.labelsize'] = 12\n",
        "plt.rcParams['ytick.labelsize'] = 12\n",
        "\n",
        "# Where to save the figures\n",
        "PROJECT_ROOT_DIR = \".\"\n",
        "\n",
        "def save_fig(fig_id, tight_layout=True):\n",
        "    path = os.path.join(PROJECT_ROOT_DIR, \"images\", fig_id + \".png\")\n",
        "    print(\"Saving figure\", fig_id)\n",
        "    if tight_layout:\n",
        "        plt.tight_layout()\n",
        "    plt.savefig(path, format='png', dpi=300)"
      ],
      "execution_count": 1,
      "outputs": [
        {
          "output_type": "display_data",
          "data": {
            "text/html": [
              "<p style=\"color: red;\">\n",
              "The default version of TensorFlow in Colab will soon switch to TensorFlow 2.x.<br>\n",
              "We recommend you <a href=\"https://www.tensorflow.org/guide/migrate\" target=\"_blank\">upgrade</a> now \n",
              "or ensure your notebook will continue to use TensorFlow 1.x via the <code>%tensorflow_version 1.x</code> magic:\n",
              "<a href=\"https://colab.research.google.com/notebooks/tensorflow_version.ipynb\" target=\"_blank\">more info</a>.</p>\n"
            ],
            "text/plain": [
              "<IPython.core.display.HTML object>"
            ]
          },
          "metadata": {
            "tags": []
          }
        }
      ]
    },
    {
      "cell_type": "markdown",
      "metadata": {
        "colab_type": "text",
        "id": "zxbrR0RO63ks"
      },
      "source": [
        "# Please see MFD: comments and \"to do\" comments"
      ]
    },
    {
      "cell_type": "markdown",
      "metadata": {
        "colab_type": "text",
        "id": "TktVZa5N63kv"
      },
      "source": [
        "# Generate switching data set"
      ]
    },
    {
      "cell_type": "code",
      "metadata": {
        "colab_type": "code",
        "id": "lBYatGhj63ky",
        "colab": {}
      },
      "source": [
        "def generate_vol_sample(length, sigma_0, n_steps, step_size, eps=0.01):\n",
        "    sigma = np.array([0]*length, dtype='float64')\n",
        "    sigma[0]=sigma_0\n",
        "    mu = np.array([0]*length, dtype='float64')\n",
        "    step_length=np.int(np.floor(np.float(length)/(2.0*n_steps)))\n",
        "    \n",
        "    for i in range(2*n_steps):\n",
        "      mu[i*step_length:((i*step_length)+1)]=step_size*(-1)**i\n",
        "     \n",
        "    for i in range(1, length):\n",
        "        sigma[i]=sigma[i-1] + mu[i] + eps*np.random.normal(0,1)\n",
        "        \n",
        "    return sigma   "
      ],
      "execution_count": 0,
      "outputs": []
    },
    {
      "cell_type": "code",
      "metadata": {
        "colab_type": "code",
        "id": "hRbx83Cm63k7",
        "colab": {}
      },
      "source": [
        "def generate_vol_sample(length, sigma_0, n_steps, step_size, p, eps=0.01, shift=0):\n",
        "    sigma = np.array([0]*length, dtype='float64')\n",
        "    sigma[0]=sigma_0\n",
        "    mu = np.array([0]*length, dtype='float64')\n",
        "    phi = np.array([0]*length*p, dtype='float64').reshape(length,p)\n",
        "    #phi2 = np.array([0]*length, dtype='float64')\n",
        "    step_length=100 #np.int(np.floor(np.float(length)/(2.0*n_steps)))\n",
        "    \n",
        "    for i in range(2*n_steps):\n",
        "      #mu[i*step_length:((i*step_length)+1)]=step_size #*(-1)**i\n",
        "      mu[i*step_length:((i+1)*step_length)]= step_size*(-1)**i\n",
        "      if i%2==0:  \n",
        "        phi[i*step_length:((i+1)*step_length),:]= 0.02\n",
        "        #phi2[i*step_length:((i+1)*step_length)]=1.0\n",
        "      else:\n",
        "        phi[i*step_length:((i+1)*step_length),:]=0.01\n",
        "        #phi2[i*step_length:((i+1)*step_length)]=0.5\n",
        "    for i in range(p, length):\n",
        "        sigma[i]= mu[i-1] + np.random.normal(0,eps)\n",
        "        for j in range(p):\n",
        "          sigma[i]+=phi[i-1,j]*sigma[i-j]  \n",
        "        \n",
        "    return (sigma+shift)"
      ],
      "execution_count": 0,
      "outputs": []
    },
    {
      "cell_type": "code",
      "metadata": {
        "colab_type": "code",
        "id": "xJaRcRSd63lJ",
        "colab": {}
      },
      "source": [
        "p = 30 # the number of lags (in both the data and the models)\n",
        "#vols=generate_vol_sample(1000, 0.25, 15, 0.1, p, 1e-4, 0.13)[p:]\n",
        "\n",
        "vols=generate_vol_sample(2000, 0.25, 15, 0.1, p, 1e-4, 0.13)[p:]"
      ],
      "execution_count": 0,
      "outputs": []
    },
    {
      "cell_type": "code",
      "metadata": {
        "colab_type": "code",
        "id": "0SExtqbO63lP",
        "outputId": "451ebdcc-51db-4046-b741-9d2f1a6901bb",
        "colab": {
          "base_uri": "https://localhost:8080/",
          "height": 285
        }
      },
      "source": [
        "plt.plot(vols)"
      ],
      "execution_count": 0,
      "outputs": [
        {
          "output_type": "execute_result",
          "data": {
            "text/plain": [
              "[<matplotlib.lines.Line2D at 0x1c3e38a860>]"
            ]
          },
          "metadata": {
            "tags": []
          },
          "execution_count": 5
        },
        {
          "output_type": "display_data",
          "data": {
            "image/png": "[encoded data removed]",
            "text/plain": [
              "<Figure size 432x288 with 1 Axes>"
            ]
          },
          "metadata": {
            "tags": [],
            "needs_background": "light"
          }
        }
      ]
    },
    {
      "cell_type": "code",
      "metadata": {
        "colab_type": "code",
        "id": "esNitwvm63lU",
        "colab": {}
      },
      "source": [
        "df = pd.DataFrame(vols, columns=['vol'])"
      ],
      "execution_count": 0,
      "outputs": []
    },
    {
      "cell_type": "markdown",
      "metadata": {
        "colab_type": "text",
        "id": "DgEov0A_63la"
      },
      "source": [
        "# prepare data for RNNs"
      ]
    },
    {
      "cell_type": "code",
      "metadata": {
        "colab_type": "code",
        "id": "HV0g2gHL63lc",
        "colab": {}
      },
      "source": [
        "use_features = ['vol'] \n",
        "target = 'vol'\n",
        "n_steps = 10 # number of lags to include in the model\n",
        "\n",
        "train_weight = 0.8\n",
        "split = int(len(df)*train_weight)\n",
        "\n",
        "df_train = df.iloc[:split]\n",
        "df_test = df.iloc[split:]"
      ],
      "execution_count": 0,
      "outputs": []
    },
    {
      "cell_type": "code",
      "metadata": {
        "colab_type": "code",
        "id": "WdxITvn863lg",
        "colab": {}
      },
      "source": [
        "def get_lagged_features(value, n_steps):\n",
        "    lag_list = []\n",
        "    for lag in range(n_steps, 0, -1):\n",
        "        lag_list.append(value.shift(lag))\n",
        "    return pd.concat(lag_list, axis=1)"
      ],
      "execution_count": 0,
      "outputs": []
    },
    {
      "cell_type": "code",
      "metadata": {
        "colab_type": "code",
        "id": "pNKhbBJk63lj",
        "colab": {}
      },
      "source": [
        "x_train_list = []\n",
        "for use_feature in use_features:\n",
        "    x_train_reg = get_lagged_features(df_train, n_steps).dropna()\n",
        "    x_train_list.append(x_train_reg)\n",
        "x_train_reg = pd.concat(x_train_list, axis=1)\n",
        "\n",
        "col_ords = []\n",
        "for i in range(n_steps):\n",
        "    for j in range(len(use_features)):\n",
        "        col_ords.append(i + j * n_steps)\n",
        "\n",
        "x_train_reg = x_train_reg.iloc[:, col_ords]\n",
        "y_train_reg = df_train.loc[x_train_reg.index, [target]].values\n",
        "x_train_reg = np.reshape(x_train_reg.values, (x_train_reg.shape[0], np.int(x_train_reg.shape[1] / len(use_features)), len(use_features)))\n",
        "y_train_reg = np.reshape(y_train_reg, (y_train_reg.shape[0], 1, 1))\n",
        "\n",
        "x_test_list = []\n",
        "for use_feature in use_features:\n",
        "    x_test_reg = get_lagged_features(df_test, n_steps).dropna()\n",
        "    x_test_list.append(x_test_reg)\n",
        "x_test_reg = pd.concat(x_test_list, axis=1)\n",
        "\n",
        "x_test_reg = x_test_reg.iloc[:, col_ords]\n",
        "y_test_reg = df_test.loc[x_test_reg.index, [target]].values\n",
        "x_test_reg = np.reshape(x_test_reg.values, (x_test_reg.shape[0], np.int(x_test_reg.shape[1]/len(use_features)), len(use_features)))\n",
        "\n",
        "y_test_reg = np.reshape(y_test_reg, (y_test_reg.shape[0], 1, 1))"
      ],
      "execution_count": 0,
      "outputs": []
    },
    {
      "cell_type": "code",
      "metadata": {
        "colab_type": "code",
        "id": "Y-fJgvet63lm",
        "outputId": "6ab01e89-80a8-447c-8cff-410a51839fbe",
        "colab": {
          "base_uri": "https://localhost:8080/",
          "height": 35
        }
      },
      "source": [
        "print(x_train_reg.shape,y_train_reg.shape,x_test_reg.shape,y_test_reg.shape)"
      ],
      "execution_count": 0,
      "outputs": [
        {
          "output_type": "stream",
          "text": [
            "(1566, 10, 1) (1566, 1, 1) (384, 10, 1) (384, 1, 1)\n"
          ],
          "name": "stdout"
        }
      ]
    },
    {
      "cell_type": "code",
      "metadata": {
        "colab_type": "code",
        "id": "zg1cfHxv63lr",
        "colab": {}
      },
      "source": [
        "train_batch_size = y_train_reg.shape[0]\n",
        "test_batch_size = y_test_reg.shape[0]\n",
        "\n",
        "time_size = y_train_reg.shape[1]\n"
      ],
      "execution_count": 0,
      "outputs": []
    },
    {
      "cell_type": "code",
      "metadata": {
        "colab_type": "code",
        "id": "HkEY52YEKAcm",
        "outputId": "d67abd11-8c4b-439c-a569-68795fc086ac",
        "colab": {
          "base_uri": "https://localhost:8080/",
          "height": 34
        }
      },
      "source": [
        "print(train_batch_size)"
      ],
      "execution_count": 0,
      "outputs": [
        {
          "output_type": "stream",
          "text": [
            "1566\n"
          ],
          "name": "stdout"
        }
      ]
    },
    {
      "cell_type": "markdown",
      "metadata": {
        "colab_type": "text",
        "id": "PnLm9vjQ63lu"
      },
      "source": [
        "# Define Alpha RNN models"
      ]
    },
    {
      "cell_type": "code",
      "metadata": {
        "colab_type": "code",
        "id": "TE87BRD063lw",
        "colab": {}
      },
      "source": [
        "class alphaRNN:\n",
        "    \"\"\"Adapted from the Implementation of a Gated Recurrent Unit (GRU) as described in [1]. This is a GRU without a reset gate. It uses a hidden layer for smoothing\n",
        "    \n",
        "    [1] Chung, J., Gulcehre, C., Cho, K., & Bengio, Y. (2014). Empirical evaluation of gated recurrent neural networks on sequence modeling. arXiv preprint arXiv:1412.3555.\n",
        "    \n",
        "    Arguments\n",
        "    ---------\n",
        "    input_dimensions: int\n",
        "        The size of the input vectors (x_t).\n",
        "    hidden_size: int\n",
        "        The size of the hidden layer vectors (h_t).\n",
        "    dtype: obj\n",
        "        The datatype used for the variables and constants (optional).\n",
        "    \"\"\"\n",
        "    \n",
        "    def __init__(self, input_dimensions, hidden_size, dtype=tf.float64):\n",
        "        self.input_dimensions = input_dimensions\n",
        "        self.hidden_size = hidden_size\n",
        "        \n",
        "        # Weights for input vectors of shape (input_dimensions, hidden_size)\n",
        "        self.Walpha = tf.Variable(tf.truncated_normal(dtype=dtype, shape=(self.input_dimensions, self.hidden_size), mean=0, stddev=0.01), name='Walpha')\n",
        "        self.Wh = tf.Variable(tf.truncated_normal(dtype=dtype, shape=(self.input_dimensions, self.hidden_size), mean=0, stddev=0.01), name='Wh')\n",
        "        \n",
        "        # Weights for hidden vectors of shape (hidden_size, hidden_size)\n",
        "        self.Ualpha = tf.Variable(tf.truncated_normal(dtype=dtype, shape=(self.hidden_size, self.hidden_size), mean=0, stddev=0.01), name='Ualpha')\n",
        "        self.Uh = tf.Variable(tf.truncated_normal(dtype=dtype, shape=(self.hidden_size, self.hidden_size), mean=0, stddev=0.01), name='Uh')\n",
        "        \n",
        "        # Biases for hidden vectors of shape (hidden_size,)\n",
        "        self.balpha = tf.Variable(tf.truncated_normal(dtype=dtype, shape=(self.hidden_size,), mean=0, stddev=0.01), name='balpha')\n",
        "        self.bh = tf.Variable(tf.truncated_normal(dtype=dtype, shape=(self.hidden_size,), mean=0, stddev=0.01), name='bh')\n",
        "        \n",
        "        # Define the input layer placeholder\n",
        "        self.input_layer = tf.placeholder(dtype=tf.float64, shape=(None, None, input_dimensions), name='input')\n",
        "        self.alpha_t = tf.placeholder(dtype=tf.float64, shape=(None, None, input_dimensions), name='alpha_t')\n",
        "        # Put the time-dimension upfront for the scan operator\n",
        "        self.x_t = tf.transpose(self.input_layer, [1, 0, 2], name='x_t')\n",
        "        \n",
        "        # A little hack (to obtain the same shape as the input matrix) to define the initial hidden state h_0\n",
        "        self.h_0 = tf.matmul(self.x_t[0, :, :], tf.zeros(dtype=tf.float64, shape=(input_dimensions, hidden_size)), name='h_0')\n",
        "        \n",
        "        # Perform the scan operator\n",
        "        self.h_t_transposed = tf.scan(self.forward_pass, self.x_t, initializer=self.h_0, name='h_t_transposed')\n",
        "        \n",
        "        # Transpose the result back\n",
        "        self.h_t = tf.transpose(self.h_t_transposed, [1, 0, 2], name='h_t')\n",
        "\n",
        "    def forward_pass(self, h_tm1, x_t):\n",
        "        \"\"\"Perform a forward pass.\n",
        "        \n",
        "        Arguments\n",
        "        ---------\n",
        "        h_tm1: np.matrix\n",
        "            The hidden state at the previous timestep (h_{t-1}).\n",
        "        x_t: np.matrix\n",
        "            The input vector.\n",
        "        \"\"\"\n",
        "        # Update alpha_t\n",
        "        self.alpha_t = tf.sigmoid(tf.matmul(x_t, self.Walpha) + tf.matmul(h_tm1, self.Ualpha) + self.balpha)\n",
        "        tf.add_to_collection('alpha_t', self.alpha_t)\n",
        "        # Update hidden state h_t\n",
        "        h_proposal = tf.tanh(tf.matmul(x_t, self.Wh) + tf.matmul(h_tm1, self.Uh) + self.bh)\n",
        "        \n",
        "        \n",
        "        # Update the (smoothed) hidden state with exponential smoothing\n",
        "        h_t = tf.multiply(1 - self.alpha_t, h_tm1) + tf.multiply(self.alpha_t, h_proposal)\n",
        "        \n",
        "        return h_t"
      ],
      "execution_count": 0,
      "outputs": []
    },
    {
      "cell_type": "code",
      "metadata": {
        "colab_type": "code",
        "id": "ji_BnEHr63l0",
        "outputId": "7b5d756f-3ea9-4d6d-82de-9e86b4d57af0",
        "colab": {
          "base_uri": "https://localhost:8080/",
          "height": 35
        }
      },
      "source": [
        "tf.get_collection('alpha_t')"
      ],
      "execution_count": 0,
      "outputs": [
        {
          "output_type": "execute_result",
          "data": {
            "text/plain": [
              "[]"
            ]
          },
          "metadata": {
            "tags": []
          },
          "execution_count": 14
        }
      ]
    },
    {
      "cell_type": "code",
      "metadata": {
        "colab_type": "code",
        "id": "EkKrowrq63l4",
        "colab": {}
      },
      "source": [
        "class simpleAlphaRNN:\n",
        "    \"\"\"Adapted from the Implementation of a Gated Recurrent Unit (GRU) as described in [1]. This is a GRU without a reset gate. \n",
        "       It uses a scalar smoothing\n",
        "    \n",
        "    \n",
        "    Arguments\n",
        "    ---------\n",
        "    \n",
        "    input_dimensions: int\n",
        "        The size of the input vectors (x_t).\n",
        "    hidden_size: int\n",
        "        The size of the hidden layer vectors (h_t).\n",
        "    dtype: obj\n",
        "        The datatype used for the variables and constants (optional).\n",
        "        \n",
        "    Todo\n",
        "    --------\n",
        "    1) how to constrain alpha to be in [0,1]?\n",
        "    2) when hidden size >1, how to couple with scalar alpha?\n",
        "    3) Should alpha be a vector of size hidden_size (is this better)?\n",
        "    4) Get value of fitted alpha (see Diagnostics (visualize fitted values)) below\n",
        "    4) Adapt the training to use early stopping (instead of fixed number of epoches)\n",
        "    5) Compare with GRU, LSTM, simpleRNN\n",
        "        \n",
        "    \"\"\"\n",
        "    \n",
        "    def __init__(self, input_dimensions, hidden_size, dtype=tf.float64):\n",
        "        self.input_dimensions = input_dimensions\n",
        "        self.hidden_size = hidden_size\n",
        "        \n",
        "        self.Wh = tf.Variable(tf.truncated_normal(dtype=dtype, shape=(self.input_dimensions, self.hidden_size), mean=0, stddev=0.01), name='Wh')\n",
        "        \n",
        "        # Weights for hidden vectors of shape (hidden_size, hidden_size)\n",
        "        self.Uh = tf.Variable(tf.truncated_normal(dtype=dtype, shape=(self.hidden_size, self.hidden_size), mean=0, stddev=0.01), name='Uh')\n",
        "        \n",
        "        # Biases for hidden vectors of shape (hidden_size,)\n",
        "        self.bh = tf.Variable(tf.truncated_normal(dtype=dtype, shape=(self.hidden_size,), mean=0, stddev=0.01), name='bh')\n",
        "        \n",
        "        # Define the input layer placeholder\n",
        "        self.input_layer = tf.placeholder(dtype=tf.float64, shape=(None, None, input_dimensions), name='input')\n",
        "        self.alpha = tf.Variable(tf.truncated_normal(dtype=dtype, shape=(self.hidden_size,), mean=0, stddev=0.01), name='alpha')\n",
        "        \n",
        "        #tf.placeholder(dtype=tf.float64, shape=(None, 1), name='alpha')\n",
        "        # Put the time-dimension upfront for the scan operator\n",
        "        self.x_t = tf.transpose(self.input_layer, [1, 0, 2], name='x_t')\n",
        "        \n",
        "        # A little hack (to obtain the same shape as the input matrix) to define the initial hidden state h_0\n",
        "        self.h_0 = tf.matmul(self.x_t[0, :, :], tf.zeros(dtype=tf.float64, shape=(input_dimensions, hidden_size)), name='h_0')\n",
        "        \n",
        "        # Perform the scan operator\n",
        "        self.h_t_transposed = tf.scan(self.forward_pass, self.x_t, initializer=self.h_0, name='h_t_transposed')\n",
        "        \n",
        "        # Transpose the result back\n",
        "        self.h_t = tf.transpose(self.h_t_transposed, [1, 0, 2], name='h_t')\n",
        "\n",
        "    def forward_pass(self, h_tm1, x_t):\n",
        "        \"\"\"Perform a forward pass.\n",
        "        \n",
        "        Arguments\n",
        "        ---------\n",
        "        h_tm1: np.matrix\n",
        "            The hidden state at the previous timestep (h_{t-1}).\n",
        "        x_t: np.matrix\n",
        "            The input vector.\n",
        "        \"\"\"\n",
        "        \n",
        "        # Update hidden state h_t\n",
        "        h_proposal = tf.tanh(tf.matmul(x_t, self.Wh) + tf.matmul(h_tm1, self.Uh) + self.bh)\n",
        "        \n",
        "        # Update the (smoothed) hidden state with exponential smoothing\n",
        "        h_t = tf.multiply(1 - tf.tanh(self.alpha), h_tm1) + tf.multiply(tf.tanh(self.alpha), h_proposal)\n",
        "        \n",
        "        return h_t"
      ],
      "execution_count": 0,
      "outputs": []
    },
    {
      "cell_type": "markdown",
      "metadata": {
        "colab_type": "text",
        "id": "okSsg6Ho63l7"
      },
      "source": [
        "## Training"
      ]
    },
    {
      "cell_type": "code",
      "metadata": {
        "colab_type": "code",
        "id": "Fmi2i5ZI63l8",
        "colab": {}
      },
      "source": [
        "    \n",
        "#%% (3) Initialize and train the model.\n",
        "\n",
        "# The input has 2 dimensions: dimension 0 is reserved for the first term and dimension 1 is reserved for the second term\n",
        "input_dimensions = 1\n",
        "\n",
        "# Arbitrary number for the size of the hidden state\n",
        "hidden_size = 5 #<= MFD: vary this between 1,2,5,10,20\n"
      ],
      "execution_count": 0,
      "outputs": []
    },
    {
      "cell_type": "code",
      "metadata": {
        "colab_type": "code",
        "id": "90iCzV_IdYkv",
        "colab": {}
      },
      "source": [
        "#l1_regularizer = tf.contrib.layers.l1_regularizer(scale=0.005, scope=None)\n",
        "#regularization_penalty = tf.contrib.layers.apply_regularization(l1_regularizer, weights)\n",
        "\n",
        "#regularized_loss = total_loss + regularization_penalty"
      ],
      "execution_count": 0,
      "outputs": []
    },
    {
      "cell_type": "code",
      "metadata": {
        "colab_type": "code",
        "id": "d8Qrn9lE63mH",
        "colab": {}
      },
      "source": [
        "def train(alpharnn, train_x, val_x, train_y, val_y, max_epochs=2000, batch_size=100):\n",
        "    \n",
        "  # Create a placeholder for the expected output\n",
        "  expected_output_batch_train = tf.placeholder(dtype=tf.float64, shape=(batch_size, time_size,1), name='expected_output_batch_train')\n",
        "  expected_output_train = tf.placeholder(dtype=tf.float64, shape=(train_x.shape[0], time_size,1), name='expected_output_train')\n",
        "  #expected_output_test = tf.placeholder(dtype=tf.float64, shape(test_x.shape[0], time_size,1), name='expected_output_test')\n",
        "  expected_output_val = tf.placeholder(dtype=tf.float64, shape=(val_x.shape[0], time_size,1), name='expected_output_val')\n",
        "\n",
        "  #expected_output = tf.placeholder(dtype=tf.float64, shape=(batch_size, time_size), name='expected_output')\n",
        "\n",
        "  # Just use quadratic loss\n",
        "  train_batch_loss = tf.reduce_sum(0.5 * tf.pow(output - expected_output_batch_train, 2)) / float(batch_size)\n",
        "  train_loss = tf.reduce_sum(0.5 * tf.pow(output - expected_output_train, 2)) / float(train_x.shape[0])\n",
        "  validation_loss = tf.reduce_sum(0.5 * tf.pow(output - expected_output_val, 2)) / float(val_x.shape[0])\n",
        "\n",
        "  #accuracy = tf.reduce_mean(tf.cast(validation_loss, tf.float64))\n",
        "\n",
        "  # Use the Adam optimizer for training\n",
        "  train_step = tf.train.AdamOptimizer().minimize(train_batch_loss)\n",
        "    \n",
        "  # Initialize the losses\n",
        "  train_losses = []\n",
        "  validation_losses = []\n",
        "      \n",
        "  # Initialize all the variables\n",
        "  init_variables = tf.global_variables_initializer()\n",
        "      \n",
        "  #myNumpyData = np.ones([10,20])\n",
        "  session.run(init_variables) # , {gru.Y: np.ones([20,20])})\n",
        " \n",
        "  # Perform all the iterations\n",
        "  patience_cnt = 0\n",
        "  for epoch in range(max_epochs): # Compute the losses\n",
        "        patience = 50\n",
        "        min_delta = 0.000001\n",
        "        \n",
        "\n",
        "        total_batch = int(train_x.shape[0] / batch_size)\n",
        "    \n",
        "        for i in range(total_batch):\n",
        "          \n",
        "          batch_x = train_x[i*batch_size:(i+1)*batch_size]\n",
        "          batch_y = train_y[i*batch_size:(i+1)*batch_size]\n",
        "          session.run([train_step], feed_dict={alpharnn.input_layer: batch_x, expected_output_batch_train: batch_y})        \n",
        "        train_loss_ = session.run(train_loss, feed_dict={alpharnn.input_layer: train_x, expected_output_train: train_y})\n",
        "        validation_loss_ = session.run(validation_loss, feed_dict={alpharnn.input_layer: val_x, expected_output_val: val_y})\n",
        "\n",
        "        # Log the losses\n",
        "        train_losses += [train_loss_]\n",
        "        validation_losses += [validation_loss_]\n",
        "          #mse = mean_squared_error(train_losses,validation_losses) <= this is wrong! \n",
        "          # I know...it's original values and the predicted values\n",
        "        #keras uses: model.compile(loss='mean_squared_error', optimizer='sgd') \n",
        "        # and: keras.losses.mean_squared_error(y_true, y_pred)\n",
        "        y_predicted = session.run(output, feed_dict={alpharnn.input_layer: x_test_reg})\n",
        "        MSE = np.square(np.subtract(y_test_reg,y_predicted)).mean()\n",
        "\n",
        "        if epoch % 50 == 0: \n",
        "            print('Epoch ', epoch, '/', max_epochs, ': ',\n",
        "                      \"\\tTraining Loss: {:.5f}\".format(train_loss_),\n",
        "                      \"\\tValidation Loss: {:.5f}\".format(validation_loss_),\n",
        "                      \"\\tloss:\", MSE                      \n",
        "\n",
        "                 )\n",
        "        if epoch > 0 and (validation_losses[epoch-1] - validation_losses[epoch]) > min_delta:\n",
        "            patience_cnt = 0\n",
        "        else:\n",
        "            patience_cnt += 1\n",
        "            #print(patience_cnt)\n",
        "        if patience_cnt > patience:\n",
        "            print(\"Early stopping\")\n",
        "            break\n",
        "  saver = tf.train.Saver()\n",
        "  saved_path = saver.save(session, './saved_variable')          \n",
        "  #print('\\nMSE: ',mse)\n",
        "  plt.plot(train_losses, '-b', label='Train loss')\n",
        "  plt.plot(validation_losses, '-r', label='Validation loss')\n",
        "  plt.legend(loc=0)\n",
        "  plt.title('Loss')\n",
        "  plt.xlabel('Epoch')\n",
        "  plt.ylabel('Loss')\n",
        "  plt.show()\n",
        "  return alpharnn     "
      ],
      "execution_count": 0,
      "outputs": []
    },
    {
      "cell_type": "code",
      "metadata": {
        "colab_type": "code",
        "id": "nwVQcfZv9sSj",
        "outputId": "44487cf7-bac7-4b62-f3ea-b74f7c4bf62a",
        "colab": {
          "base_uri": "https://localhost:8080/",
          "height": 463
        }
      },
      "source": [
        "session = tf.Session()\n",
        "# Add an additional layer on top of each of the hidden state outputs\n",
        "alpharnn = simpleAlphaRNN(input_dimensions, hidden_size)\n",
        "W_output = tf.Variable(tf.truncated_normal(dtype=tf.float64, shape=(hidden_size, 1), mean=0, stddev=0.01))\n",
        "b_output = tf.Variable(tf.truncated_normal(dtype=tf.float64, shape=(1,), mean=0, stddev=0.01))\n",
        "\n",
        "output = tf.map_fn(lambda h_t: tf.matmul(h_t, W_output) + b_output, alpharnn.h_t) \n",
        "\n",
        "\n",
        "train(alpharnn, x_train_reg, x_test_reg, y_train_reg, y_test_reg)"
      ],
      "execution_count": 30,
      "outputs": [
        {
          "output_type": "stream",
          "text": [
            "Epoch  0 / 2000 :  \tTraining Loss: 0.21214 \tValidation Loss: 0.21935 \tloss: 0.043869286465960264\n",
            "Epoch  50 / 2000 :  \tTraining Loss: 0.02900 \tValidation Loss: 0.02864 \tloss: 0.005727380112561535\n",
            "Epoch  100 / 2000 :  \tTraining Loss: 0.01605 \tValidation Loss: 0.01483 \tloss: 0.002965762081088544\n",
            "Epoch  150 / 2000 :  \tTraining Loss: 0.01487 \tValidation Loss: 0.01354 \tloss: 0.0027070585072671736\n",
            "Epoch  200 / 2000 :  \tTraining Loss: 0.01475 \tValidation Loss: 0.01339 \tloss: 0.002677211248221688\n",
            "Epoch  250 / 2000 :  \tTraining Loss: 0.01471 \tValidation Loss: 0.01335 \tloss: 0.0026694069428026147\n",
            "Early stopping\n"
          ],
          "name": "stdout"
        },
        {
          "output_type": "display_data",
          "data": {
            "image/png": "[encoded data removed]",
            "text/plain": [
              "<Figure size 432x288 with 1 Axes>"
            ]
          },
          "metadata": {
            "tags": []
          }
        },
        {
          "output_type": "execute_result",
          "data": {
            "text/plain": [
              "<__main__.simpleAlphaRNN at 0x7f9856608fd0>"
            ]
          },
          "metadata": {
            "tags": []
          },
          "execution_count": 30
        }
      ]
    },
    {
      "cell_type": "code",
      "metadata": {
        "colab_type": "code",
        "id": "iLpuTUeHpmJ-",
        "colab": {}
      },
      "source": [
        "y_predicted = session.run(output, feed_dict={alpharnn.input_layer: x_test_reg})\n",
        "y_predicted_ar=np.array([0]*y_predicted.shape[0], dtype='float64')\n",
        "for i in range(y_predicted.shape[0]):\n",
        "     y_predicted_ar[i]=y_predicted[i][n_steps-1][0]\n",
        "\n",
        "       "
      ],
      "execution_count": 0,
      "outputs": []
    },
    {
      "cell_type": "code",
      "metadata": {
        "id": "uDDeULV3u8ZT",
        "colab_type": "code",
        "colab": {}
      },
      "source": [
        ""
      ],
      "execution_count": 0,
      "outputs": []
    },
    {
      "cell_type": "code",
      "metadata": {
        "colab_type": "code",
        "id": "WjkDDQSFrRWl",
        "outputId": "21edcef5-81a2-424c-e5bc-dea64b5233da",
        "colab": {
          "base_uri": "https://localhost:8080/",
          "height": 447
        }
      },
      "source": [
        "fig = plt.figure(figsize=(12,7))\n",
        "plt.plot(y_predicted_ar, color='r', label='Predicted')\n",
        "plt.plot(y_test_reg.flatten(),'b', label='Actual')\n",
        "plt.legend(loc=0)\n",
        "plt.title('Actual vs Predicted')\n",
        "plt.show()\n"
      ],
      "execution_count": 32,
      "outputs": [
        {
          "output_type": "display_data",
          "data": {
            "image/png": "[encoded data removed]",
            "text/plain": [
              "<Figure size 864x504 with 1 Axes>"
            ]
          },
          "metadata": {
            "tags": []
          }
        }
      ]
    },
    {
      "cell_type": "markdown",
      "metadata": {
        "colab_type": "text",
        "id": "0YW3jkywJdok"
      },
      "source": [
        "## Cross-Validation"
      ]
    },
    {
      "cell_type": "code",
      "metadata": {
        "colab_type": "code",
        "id": "2elDyfY-qFS8",
        "colab": {}
      },
      "source": [
        "# Create a new instance of the alpha_RNN model\n",
        "#alpharnn = simpleAlphaRNN(input_dimensions, hidden_size)\n",
        "\n",
        "alpharnn_cv = alphaRNN(input_dimensions, hidden_size)"
      ],
      "execution_count": 0,
      "outputs": []
    },
    {
      "cell_type": "code",
      "metadata": {
        "colab_type": "code",
        "id": "-ajqUeP8qMgn",
        "colab": {}
      },
      "source": [
        "# Add an additional layer on top of each of the hidden state outputs\n",
        "W_output = tf.Variable(tf.truncated_normal(dtype=tf.float64, shape=(hidden_size, 1), mean=0, stddev=0.01))\n",
        "b_output = tf.Variable(tf.truncated_normal(dtype=tf.float64, shape=(1,), mean=0, stddev=0.01))\n",
        "\n",
        "output = tf.map_fn(lambda h_t: tf.matmul(h_t, W_output) + b_output, alpharnn.h_t) #prediction"
      ],
      "execution_count": 0,
      "outputs": []
    },
    {
      "cell_type": "code",
      "metadata": {
        "colab_type": "code",
        "id": "dVNE4wQhJkPn",
        "colab": {}
      },
      "source": [
        "def cross_validate(session, split_size):\n",
        "\n",
        "  results = []\n",
        "\n",
        "  tscv = TimeSeriesSplit(split_size)\n",
        "    \n",
        "  \"\"\"\n",
        "  The training set has size i * n_samples // (n_splits + 1) + n_samples % (n_splits + 1) \n",
        "  in the i``th split, with a test set of size ``n_samples//(n_splits + 1), \n",
        "  where n_samples is the number of samples.\n",
        "  \n",
        "  \"\"\"\n",
        "\n",
        "  for train_idx, val_idx in tscv.split(x_train_reg):\n",
        "    print(\"TRAIN:\", train_idx.shape, \"TEST:\", val_idx.shape)\n",
        "    expected_output_val = tf.placeholder(dtype=tf.float64, shape=(len(val_idx), time_size,1), name='expected_output_val')\n",
        "\n",
        "    train_x = x_train_reg[train_idx]\n",
        "    train_y = y_train_reg[train_idx]\n",
        "\n",
        "    val_x = x_train_reg[val_idx]\n",
        "    val_y = y_train_reg[val_idx]\n",
        "    \n",
        "    train(alpharnn, train_x, val_x, train_y, val_y)\n",
        "    val_loss = tf.reduce_sum(0.5 * tf.pow(output - expected_output_val, 2)) / float(len(val_idx))\n",
        "  \n",
        "    # MFD: suggest to change to val_loss and not use train_loss\n",
        "    results.append(session.run(val_loss, feed_dict={alpharnn.input_layer: val_x, expected_output_val: val_y}))\n",
        "\n",
        "  return results\n"
      ],
      "execution_count": 0,
      "outputs": []
    },
    {
      "cell_type": "code",
      "metadata": {
        "colab_type": "code",
        "id": "t8OEYLsOf9JY",
        "outputId": "9e2809e4-bf30-4297-9967-be79643a7266",
        "colab": {
          "base_uri": "https://localhost:8080/",
          "height": 1000
        }
      },
      "source": [
        "with tf.Session() as session:\n",
        " \n",
        "  #saved_path = saver.save(session, './saved_variable')\n",
        "  result = cross_validate(session, 5)\n",
        "  \n",
        "\n",
        "  print('Cross-validation result: %s' % result)\n",
        "\n",
        "  #print('Test accuracy: %f' % session.run(train_loss, feed_dict={alpharnn.input_layer: x_test_reg, expected_output_test: y_test_reg}))"
      ],
      "execution_count": 0,
      "outputs": [
        {
          "output_type": "stream",
          "text": [
            "TRAIN: (261,) TEST: (261,)\n",
            "Epoch  0 / 1500 :  \tTraining Loss: 0.32156 \tValidation Loss: 0.19526 \tloss: 0.050928354721019725\n",
            "Early stopping\n"
          ],
          "name": "stdout"
        },
        {
          "output_type": "display_data",
          "data": {
            "image/png": "[encoded data removed]",
            "text/plain": [
              "<Figure size 432x288 with 1 Axes>"
            ]
          },
          "metadata": {
            "tags": [],
            "needs_background": "light"
          }
        },
        {
          "output_type": "stream",
          "text": [
            "TRAIN: (522,) TEST: (261,)\n",
            "Epoch  0 / 1500 :  \tTraining Loss: 0.24843 \tValidation Loss: 0.20113 \tloss: 0.04898921869677806\n",
            "Epoch  50 / 1500 :  \tTraining Loss: 0.17213 \tValidation Loss: 0.13944 \tloss: 0.03424028716588842\n",
            "Epoch  100 / 1500 :  \tTraining Loss: 0.11162 \tValidation Loss: 0.10478 \tloss: 0.022932487871517217\n",
            "Epoch  150 / 1500 :  \tTraining Loss: 0.09700 \tValidation Loss: 0.09028 \tloss: 0.019896481554482655\n",
            "Epoch  200 / 1500 :  \tTraining Loss: 0.06277 \tValidation Loss: 0.05472 \tloss: 0.012579869012622268\n",
            "Epoch  250 / 1500 :  \tTraining Loss: 0.04840 \tValidation Loss: 0.04425 \tloss: 0.009651362130822221\n",
            "Epoch  300 / 1500 :  \tTraining Loss: 0.04230 \tValidation Loss: 0.03929 \tloss: 0.008410701013379197\n",
            "Epoch  350 / 1500 :  \tTraining Loss: 0.03628 \tValidation Loss: 0.03345 \tloss: 0.007136270429829184\n",
            "Epoch  400 / 1500 :  \tTraining Loss: 0.03068 \tValidation Loss: 0.02813 \tloss: 0.005957281915859583\n",
            "Epoch  450 / 1500 :  \tTraining Loss: 0.02625 \tValidation Loss: 0.02396 \tloss: 0.0050301216190399055\n",
            "Epoch  500 / 1500 :  \tTraining Loss: 0.02306 \tValidation Loss: 0.02104 \tloss: 0.004361475943360405\n",
            "Epoch  550 / 1500 :  \tTraining Loss: 0.02086 \tValidation Loss: 0.01907 \tloss: 0.003895078657350253\n",
            "Epoch  600 / 1500 :  \tTraining Loss: 0.01943 \tValidation Loss: 0.01798 \tloss: 0.0035950314469735236\n",
            "Epoch  650 / 1500 :  \tTraining Loss: 0.01837 \tValidation Loss: 0.01704 \tloss: 0.003369207597739377\n",
            "Epoch  700 / 1500 :  \tTraining Loss: 0.01761 \tValidation Loss: 0.01638 \tloss: 0.003207114247280543\n",
            "Early stopping\n"
          ],
          "name": "stdout"
        },
        {
          "output_type": "display_data",
          "data": {
            "image/png": "[encoded data removed]",
            "text/plain": [
              "<Figure size 432x288 with 1 Axes>"
            ]
          },
          "metadata": {
            "tags": [],
            "needs_background": "light"
          }
        },
        {
          "output_type": "stream",
          "text": [
            "TRAIN: (783,) TEST: (261,)\n",
            "Epoch  0 / 1500 :  \tTraining Loss: 0.22779 \tValidation Loss: 0.30141 \tloss: 0.047988873616355364\n",
            "Epoch  50 / 1500 :  \tTraining Loss: 0.15511 \tValidation Loss: 0.20351 \tloss: 0.03296258579469904\n",
            "Epoch  100 / 1500 :  \tTraining Loss: 0.10875 \tValidation Loss: 0.11986 \tloss: 0.022882920475841603\n",
            "Epoch  150 / 1500 :  \tTraining Loss: 0.09469 \tValidation Loss: 0.10439 \tloss: 0.019924528574122063\n",
            "Epoch  200 / 1500 :  \tTraining Loss: 0.06069 \tValidation Loss: 0.07051 \tloss: 0.01270717376211522\n",
            "Epoch  250 / 1500 :  \tTraining Loss: 0.04582 \tValidation Loss: 0.04993 \tloss: 0.009419343890680979\n",
            "Epoch  300 / 1500 :  \tTraining Loss: 0.03860 \tValidation Loss: 0.03961 \tloss: 0.00785192863440218\n",
            "Epoch  350 / 1500 :  \tTraining Loss: 0.03237 \tValidation Loss: 0.03304 \tloss: 0.006513489058344393\n",
            "Epoch  400 / 1500 :  \tTraining Loss: 0.02736 \tValidation Loss: 0.02719 \tloss: 0.00544385849967073\n",
            "Epoch  450 / 1500 :  \tTraining Loss: 0.02368 \tValidation Loss: 0.02301 \tloss: 0.004644492375959425\n",
            "Epoch  500 / 1500 :  \tTraining Loss: 0.02116 \tValidation Loss: 0.02011 \tloss: 0.004093236269493183\n",
            "Epoch  550 / 1500 :  \tTraining Loss: 0.01948 \tValidation Loss: 0.01794 \tloss: 0.003729027446866818\n",
            "Epoch  600 / 1500 :  \tTraining Loss: 0.01833 \tValidation Loss: 0.01642 \tloss: 0.003469980307041795\n",
            "Epoch  650 / 1500 :  \tTraining Loss: 0.01752 \tValidation Loss: 0.01534 \tloss: 0.0032937617872338316\n",
            "Early stopping\n"
          ],
          "name": "stdout"
        },
        {
          "output_type": "display_data",
          "data": {
            "image/png": "[encoded data removed]",
            "text/plain": [
              "<Figure size 432x288 with 1 Axes>"
            ]
          },
          "metadata": {
            "tags": [],
            "needs_background": "light"
          }
        },
        {
          "output_type": "stream",
          "text": [
            "TRAIN: (1044,) TEST: (261,)\n",
            "Epoch  0 / 1500 :  \tTraining Loss: 0.22445 \tValidation Loss: 0.20602 \tloss: 0.04382728291930123\n",
            "Epoch  50 / 1500 :  \tTraining Loss: 0.10911 \tValidation Loss: 0.10932 \tloss: 0.02260087337725258\n",
            "Epoch  100 / 1500 :  \tTraining Loss: 0.05867 \tValidation Loss: 0.05932 \tloss: 0.011883608300511276\n",
            "Epoch  150 / 1500 :  \tTraining Loss: 0.03545 \tValidation Loss: 0.03888 \tloss: 0.007178086711383189\n",
            "Epoch  200 / 1500 :  \tTraining Loss: 0.02489 \tValidation Loss: 0.02849 \tloss: 0.004951683667111426\n",
            "Epoch  250 / 1500 :  \tTraining Loss: 0.01955 \tValidation Loss: 0.02388 \tloss: 0.003854335552810399\n",
            "Epoch  300 / 1500 :  \tTraining Loss: 0.01713 \tValidation Loss: 0.02178 \tloss: 0.0033488310519832125\n",
            "Epoch  350 / 1500 :  \tTraining Loss: 0.01590 \tValidation Loss: 0.02068 \tloss: 0.003082653057560906\n",
            "Epoch  400 / 1500 :  \tTraining Loss: 0.01518 \tValidation Loss: 0.02004 \tloss: 0.002930626696249201\n",
            "Early stopping\n"
          ],
          "name": "stdout"
        },
        {
          "output_type": "display_data",
          "data": {
            "image/png": "[encoded data removed]",
            "text/plain": [
              "<Figure size 432x288 with 1 Axes>"
            ]
          },
          "metadata": {
            "tags": [],
            "needs_background": "light"
          }
        },
        {
          "output_type": "stream",
          "text": [
            "TRAIN: (1305,) TEST: (261,)\n",
            "Epoch  0 / 1500 :  \tTraining Loss: 0.23441 \tValidation Loss: 0.17770 \tloss: 0.04648130285010524\n",
            "Epoch  50 / 1500 :  \tTraining Loss: 0.11156 \tValidation Loss: 0.11094 \tloss: 0.023022110612173116\n",
            "Epoch  100 / 1500 :  \tTraining Loss: 0.06254 \tValidation Loss: 0.05608 \tloss: 0.012647860779454397\n",
            "Epoch  150 / 1500 :  \tTraining Loss: 0.03710 \tValidation Loss: 0.03478 \tloss: 0.007351290540321383\n",
            "Epoch  200 / 1500 :  \tTraining Loss: 0.02664 \tValidation Loss: 0.02466 \tloss: 0.005175116820301312\n",
            "Epoch  250 / 1500 :  \tTraining Loss: 0.02107 \tValidation Loss: 0.01914 \tloss: 0.003991647334639945\n",
            "Epoch  300 / 1500 :  \tTraining Loss: 0.01839 \tValidation Loss: 0.01654 \tloss: 0.0034222839898491435\n",
            "Epoch  350 / 1500 :  \tTraining Loss: 0.01703 \tValidation Loss: 0.01523 \tloss: 0.00311431225671919\n",
            "Epoch  400 / 1500 :  \tTraining Loss: 0.01628 \tValidation Loss: 0.01451 \tloss: 0.002948822096241317\n",
            "Early stopping\n"
          ],
          "name": "stdout"
        },
        {
          "output_type": "display_data",
          "data": {
            "image/png": "[encoded data removed]",
            "text/plain": [
              "<Figure size 432x288 with 1 Axes>"
            ]
          },
          "metadata": {
            "tags": [],
            "needs_background": "light"
          }
        },
        {
          "output_type": "stream",
          "text": [
            "Cross-validation result: [0.19525826789021342, 0.016159588473740178, 0.014605330822718908, 0.01960442567695228, 0.01420432375209637]\n"
          ],
          "name": "stdout"
        }
      ]
    },
    {
      "cell_type": "code",
      "metadata": {
        "colab_type": "code",
        "id": "Tlqz-lbtFbqC",
        "colab": {}
      },
      "source": [
        "print(train_losses[0][1])"
      ],
      "execution_count": 0,
      "outputs": []
    },
    {
      "cell_type": "markdown",
      "metadata": {
        "colab_type": "text",
        "id": "ql_9wXf_63mc"
      },
      "source": [
        "## Diagnostics (visualize fitted values)"
      ]
    },
    {
      "cell_type": "code",
      "metadata": {
        "colab_type": "code",
        "id": "SaE699Ib63md",
        "colab": {}
      },
      "source": [
        ""
      ],
      "execution_count": 0,
      "outputs": []
    },
    {
      "cell_type": "code",
      "metadata": {
        "colab_type": "code",
        "id": "pRDaMODc63mf",
        "colab": {}
      },
      "source": [
        "\n",
        "# MFD: It would be good to visualize the amount of smoothing, but I get an error\n",
        "#alpha=session.run(alpharnn.alpha, feed_dict={alpharnn.input_layer: x_test_reg})"
      ],
      "execution_count": 0,
      "outputs": []
    },
    {
      "cell_type": "code",
      "metadata": {
        "colab_type": "code",
        "id": "QhKi2QAS63mi",
        "colab": {}
      },
      "source": [
        "#plt.plot(alpha_t[:,n_steps-1,1], 'red')\n",
        "#pplt.plot(y_test_reg.flatten(),'blue')"
      ],
      "execution_count": 0,
      "outputs": []
    },
    {
      "cell_type": "markdown",
      "metadata": {
        "colab_type": "text",
        "id": "G5XmMTka63ml"
      },
      "source": [
        "# Comparsion with Keras GRU, RNN, LSTM"
      ]
    },
    {
      "cell_type": "code",
      "metadata": {
        "colab_type": "code",
        "id": "CfFjBkGf63ml",
        "colab": {}
      },
      "source": [
        "from keras.models import Sequential\n",
        "from keras.layers import Dense\n",
        "from keras.layers import LSTM, GRU, SimpleRNN\n",
        "from keras import optimizers\n",
        "from keras.callbacks import EarlyStopping"
      ],
      "execution_count": 0,
      "outputs": []
    },
    {
      "cell_type": "code",
      "metadata": {
        "colab_type": "code",
        "id": "YNEhaAc963mr",
        "colab": {}
      },
      "source": [
        "x_train_reg = pd.concat(x_train_list, axis=1)\n",
        "x_train_reg = x_train_reg.iloc[:, col_ords]\n",
        "y_train_reg = df_train.loc[x_train_reg.index, [target]].values\n",
        "x_train_reg = np.reshape(x_train_reg.values, (x_train_reg.shape[0], np.int(x_train_reg.shape[1] / len(use_features)), len(use_features)))\n"
      ],
      "execution_count": 0,
      "outputs": []
    },
    {
      "cell_type": "code",
      "metadata": {
        "colab_type": "code",
        "id": "uI0GzyGv63mw",
        "colab": {}
      },
      "source": [
        "x_test_reg = pd.concat(x_test_list, axis=1)\n",
        "x_test_reg = x_test_reg.iloc[:, col_ords]\n",
        "y_test_reg = df_test.loc[x_test_reg.index, [target]].values\n",
        "x_test_reg = np.reshape(x_test_reg.values, (x_test_reg.shape[0], np.int(x_test_reg.shape[1]/len(use_features)), len(use_features)))"
      ],
      "execution_count": 0,
      "outputs": []
    },
    {
      "cell_type": "code",
      "metadata": {
        "colab_type": "code",
        "id": "v5uOHZWb63my",
        "colab": {}
      },
      "source": [
        "es = EarlyStopping(monitor='loss', mode='min', verbose=1, patience=5)"
      ],
      "execution_count": 0,
      "outputs": []
    },
    {
      "cell_type": "markdown",
      "metadata": {
        "colab_type": "text",
        "id": "mcheGBMhrlxZ"
      },
      "source": [
        "MFD: batch size must match that used for alpha_RNN when comparing LSTM\n",
        "\n"
      ]
    },
    {
      "cell_type": "markdown",
      "metadata": {
        "colab_type": "text",
        "id": "UZDhoxwl6gcg"
      },
      "source": [
        "### LSTM\n"
      ]
    },
    {
      "cell_type": "code",
      "metadata": {
        "colab_type": "code",
        "id": "VbtK2zhi63mp",
        "colab": {}
      },
      "source": [
        "# MFD: Also try GRU, SimpleRNN\n",
        "# Need to cross-validate for the best number of hidden units (i.e. hidden_size)\n",
        "lstm_model = Sequential()\n",
        "lstm_model.add(LSTM(hidden_size, input_shape=(x_train_reg.shape[1], x_train_reg.shape[-1])))\n",
        "lstm_model.add(Dense(1))\n",
        "lstm_model.compile(loss='mean_squared_error', optimizer='adam')\n",
        "\n",
        "lstm_model.fit(x_train_reg, y_train_reg, epochs=1500, batch_size=500, callbacks=[es])"
      ],
      "execution_count": 0,
      "outputs": []
    },
    {
      "cell_type": "markdown",
      "metadata": {
        "colab_type": "text",
        "id": "zVlvECOS6laN"
      },
      "source": [
        "### RNN"
      ]
    },
    {
      "cell_type": "code",
      "metadata": {
        "colab_type": "code",
        "id": "QFvnoYgX6NG6",
        "colab": {}
      },
      "source": [
        "\n",
        "rnn_model = Sequential()\n",
        "rnn_model.add(SimpleRNN(hidden_size, input_shape=(x_train_reg.shape[1], x_train_reg.shape[-1])))\n",
        "rnn_model.add(Dense(1))\n",
        "rnn_model.compile(loss='mean_squared_error', optimizer='adam')\n",
        "\n",
        "rnn_model.fit(x_train_reg, y_train_reg, epochs=1500, batch_size=500, callbacks=[es])"
      ],
      "execution_count": 0,
      "outputs": []
    },
    {
      "cell_type": "markdown",
      "metadata": {
        "colab_type": "text",
        "id": "KpfM_uc963m3"
      },
      "source": [
        "### GRU"
      ]
    },
    {
      "cell_type": "code",
      "metadata": {
        "colab_type": "code",
        "id": "ysy124xQ63m4",
        "colab": {}
      },
      "source": [
        "gru_model = Sequential()\n",
        "gru_model.add(GRU(hidden_size, input_shape=(x_train_reg.shape[1], x_train_reg.shape[-1])))\n",
        "gru_model.add(Dense(1))\n",
        "gru_model.compile(loss='mean_squared_error', optimizer='adam')\n",
        "\n",
        "gru_model.fit(x_train_reg, y_train_reg, epochs=1500, batch_size=500, callbacks=[es])"
      ],
      "execution_count": 0,
      "outputs": []
    },
    {
      "cell_type": "markdown",
      "metadata": {
        "colab_type": "text",
        "id": "DuiTrS5i63nH"
      },
      "source": [
        "### Prediction"
      ]
    },
    {
      "cell_type": "code",
      "metadata": {
        "colab_type": "code",
        "id": "gV-MXDDr7DiL",
        "colab": {}
      },
      "source": [
        "# make predictions with the trained LSTM\n",
        "lstm_pred_train = lstm_model.predict(x_train_reg, verbose=1)\n",
        "lstm_pred_test = lstm_model.predict(x_test_reg, verbose=1)"
      ],
      "execution_count": 0,
      "outputs": []
    },
    {
      "cell_type": "code",
      "metadata": {
        "colab_type": "code",
        "id": "v_Ts2i6E63nI",
        "scrolled": true,
        "colab": {}
      },
      "source": [
        "# make predictions with the trained RNN\n",
        "rnn_pred_train = rnn_model.predict(x_train_reg, verbose=1)\n",
        "rnn_pred_test = rnn_model.predict(x_test_reg, verbose=1)"
      ],
      "execution_count": 0,
      "outputs": []
    },
    {
      "cell_type": "code",
      "metadata": {
        "colab_type": "code",
        "id": "6xQLpNjo63nK",
        "colab": {}
      },
      "source": [
        "# compare with the trained plain GRU"
      ],
      "execution_count": 0,
      "outputs": []
    },
    {
      "cell_type": "code",
      "metadata": {
        "colab_type": "code",
        "id": "1fq0sf-U63nP",
        "colab": {}
      },
      "source": [
        "gru_pred_train = gru_model.predict(x_train_reg, verbose=1)\n",
        "gru_pred_test = gru_model.predict(x_test_reg, verbose=1)"
      ],
      "execution_count": 0,
      "outputs": []
    },
    {
      "cell_type": "markdown",
      "metadata": {
        "colab_type": "text",
        "id": "kzrQSrGz63nT"
      },
      "source": [
        "### Model Performance"
      ]
    },
    {
      "cell_type": "code",
      "metadata": {
        "colab_type": "code",
        "id": "ThcyT5AI63nU",
        "colab": {}
      },
      "source": [
        "fig = plt.figure(figsize=(12,7))\n",
        "train_line_real = plt.plot(df_train.index[n_steps:], df_train[use_feature][n_steps:], color=\"orange\", label=\"Observed (Training)\")\n",
        "train_line_pred = plt.plot(df_train.index[n_steps:], lstm_pred_train[:, 0], color=\"red\", label=\"LSTM Predict (Training)\")\n",
        "train_line_pred = plt.plot(df_train.index[n_steps:], rnn_pred_train[:, 0], color=\"blue\", label=\"RNN Predict (Training)\")\n",
        "train_line_pred = plt.plot(df_train.index[n_steps:], gru_pred_train[:, 0], color=\"black\", label=\"GRU Predict (Training)\")\n",
        "train_line_pred = plt.plot(y_predicted_ar, color='green', label=\"alpha RNN Predict (Training)\")\n",
        "\n",
        "plt.legend(loc=\"best\", fontsize=12)\n",
        "plt.title('Observed vs Model (Training)', fontsize=16)\n",
        "plt.xlabel('Time', fontsize=20)\n",
        "plt.ylabel('Y', fontsize=20)\n",
        "\n",
        "\n",
        "fig = plt.figure(figsize=(12,7))\n",
        "test_line_real = plt.plot(df_test.index[n_steps:], df_test[use_feature][n_steps:], color=\"orange\", label=\"Observed (Testing)\")\n",
        "test_line_pred = plt.plot(df_test.index[n_steps:], rnn_pred_test[:, 0], color=\"red\", label=\"RNN Predict (Testing)\")\n",
        "test_line_pred = plt.plot(df_test.index[n_steps:], rnn_pred_test[:, 0], color=\"blue\", label=\"RNN Predict (Testing)\")\n",
        "test_line_pred = plt.plot(df_test.index[n_steps:], gru_pred_test[:, 0], color=\"black\", label=\"GRU Predict (Testing)\")\n",
        "# train_line_pred = plt.plot(session.run(output, feed_dict={alpharnn.input_layer: x_test_reg})\n",
        "\n",
        "plt.legend(loc=\"best\", fontsize=12)\n",
        "plt.title('Observed vs Model (Testing)', fontsize=16)\n",
        "plt.xlabel('Time', fontsize=20)\n",
        "plt.ylabel('Y', fontsize=20)\n",
        "\n",
        "plt.show()"
      ],
      "execution_count": 0,
      "outputs": []
    },
    {
      "cell_type": "code",
      "metadata": {
        "colab_type": "code",
        "id": "ir7raVWf88o-",
        "colab": {}
      },
      "source": [
        "# calculate mean squared error of the plain LSTM\n",
        "MSE_train = mean_squared_error(df_train[use_feature][n_steps:], lstm_pred_train[:, 0])\n",
        "print(MSE_train)\n",
        "MSE_test = mean_squared_error(df_test[use_feature][n_steps:], lstm_pred_test[:, 0])\n",
        "print(MSE_test)"
      ],
      "execution_count": 0,
      "outputs": []
    },
    {
      "cell_type": "code",
      "metadata": {
        "colab_type": "code",
        "id": "s_FgxOXz63nZ",
        "colab": {}
      },
      "source": [
        "# calculate mean squared error of the plain RNN\n",
        "MSE_train = mean_squared_error(df_train[use_feature][n_steps:], rnn_pred_train[:, 0])\n",
        "print(MSE_train)\n",
        "MSE_test = mean_squared_error(df_test[use_feature][n_steps:], rnn_pred_test[:, 0])\n",
        "print(MSE_test)"
      ],
      "execution_count": 0,
      "outputs": []
    },
    {
      "cell_type": "code",
      "metadata": {
        "colab_type": "code",
        "id": "yWFQLnLB63nX",
        "colab": {}
      },
      "source": [
        "# calculate mean squared error of the GRU\n",
        "MSE_train = mean_squared_error(df_train[use_feature][n_steps:], gru_pred_train[:, 0])\n",
        "print(MSE_train)\n",
        "MSE_test = mean_squared_error(df_test[use_feature][n_steps:], gru_pred_test[:, 0])\n",
        "print(MSE_test)"
      ],
      "execution_count": 0,
      "outputs": []
    },
    {
      "cell_type": "code",
      "metadata": {
        "colab_type": "code",
        "id": "JDAe-uBX63nc",
        "colab": {}
      },
      "source": [
        "# calculate mean squared error of the alpha RNN\n",
        "\n",
        "MSE_train = mean_squared_error(df_train[use_feature][n_steps:], train_losses[:, 0])\n",
        "print(MSE_train)\n",
        "MSE_test = mean_squared_error(df_test[use_feature][n_steps:], validation_losses[:, 0])\n",
        "print(MSE_test)"
      ],
      "execution_count": 0,
      "outputs": []
    },
    {
      "cell_type": "code",
      "metadata": {
        "colab_type": "code",
        "id": "uGIwSuNiqATL",
        "colab": {}
      },
      "source": [
        ""
      ],
      "execution_count": 0,
      "outputs": []
    }
  ]
}